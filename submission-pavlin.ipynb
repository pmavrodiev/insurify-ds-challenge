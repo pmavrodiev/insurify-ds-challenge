{
 "cells": [
  {
   "cell_type": "code",
   "execution_count": 7,
   "id": "f9226b61",
   "metadata": {},
   "outputs": [],
   "source": [
    "import numpy as np\n",
    "import pandas as pd\n",
    "import sklearn\n",
    "import catboost\n",
    "import shap\n",
    "import seaborn\n",
    "import matplotlib.pyplot as plt\n",
    "import statsmodels.formula.api as smf\n",
    "import tensorflow as tf\n",
    "import category_encoders\n",
    "\n",
    "from tensorflow.keras import backend as K\n",
    "from tensorflow.keras.wrappers.scikit_learn import KerasClassifier\n",
    "\n",
    "from sklearn.model_selection import cross_val_score, GridSearchCV, StratifiedShuffleSplit\n",
    "from sklearn.metrics import roc_curve, precision_recall_curve, auc, roc_auc_score\n",
    "from sklearn.metrics import RocCurveDisplay, PrecisionRecallDisplay, f1_score, balanced_accuracy_score\n",
    "from sklearn.inspection import permutation_importance\n",
    "from sklearn.compose import ColumnTransformer\n",
    "from sklearn.pipeline import Pipeline\n",
    "from sklearn.preprocessing import FunctionTransformer\n",
    "\n",
    "from sklearn.preprocessing import OrdinalEncoder\n",
    "from pandas_profiling import ProfileReport\n",
    "\n",
    "from IPython.display import display, Markdown"
   ]
  },
  {
   "cell_type": "markdown",
   "id": "98ff56d2",
   "metadata": {},
   "source": [
    "# Problem Statement"
   ]
  },
  {
   "cell_type": "markdown",
   "id": "cd46bd3e",
   "metadata": {},
   "source": [
    "Work with the attached dataset to identify users who are more likely to do a sale.\n",
    "\n",
    "It's important for the business to understand **what makes someone more likely to buy** an insurance.\n",
    "For this purpose, we assembled a dataset with features of users and their sessions and an indicator if they resulted in a sale or not.\n",
    "\n",
    "Your goal is to work with this dataset and **identify users who are more likely to convert** so that we can personalise the experience for them.\n",
    "\n",
    "We don't expect a perfect solution (actually, we believe there isn't one). But please take several hours to implement a well structured approach in a Jupyter notebook.\n",
    "\n",
    "Afterwards, we'll discuss your solution in detail. Be ready to answer question like, why did you choose this approach and not others, how will you measure the performance of your solution and how do you interpret the final results\n"
   ]
  },
  {
   "cell_type": "markdown",
   "id": "90ac33f9",
   "metadata": {},
   "source": [
    "--------"
   ]
  },
  {
   "cell_type": "markdown",
   "id": "53a795ca",
   "metadata": {},
   "source": [
    "# Data understanding"
   ]
  },
  {
   "cell_type": "markdown",
   "id": "1ac5e2fd",
   "metadata": {},
   "source": [
    "| field name   \t| description                                                  \t|\n",
    "|--------------\t|--------------------------------------------------------------\t|\n",
    "| id           \t| unique identifier of the rows                                \t|\n",
    "| date         \t| date of the session                                          \t|\n",
    "| campaign_id  \t| id of the advertising campaign that led the user to the site \t|\n",
    "| group_id     \t| id of the group that lead the user to the site               \t|\n",
    "| age_group    \t| age range of the user                                        \t|\n",
    "| gender       \t| gender of the user                                           \t|\n",
    "| user_type    \t| internal id of the type of user                              \t|\n",
    "| platform     \t| device type of the user                                      \t|\n",
    "| state_id     \t| US state id of the user location                             \t|\n",
    "| interactions \t| number of interactions of the user                           \t|\n",
    "| sale         \t| boolean indicator if the user has made a sale or not         \t|"
   ]
  },
  {
   "cell_type": "markdown",
   "id": "8a52c2dc",
   "metadata": {},
   "source": [
    "## Read-in the data"
   ]
  },
  {
   "cell_type": "code",
   "execution_count": 982,
   "id": "95add0f9",
   "metadata": {
    "ExecuteTime": {
     "end_time": "2022-02-01T19:57:40.138568Z",
     "start_time": "2022-02-01T19:57:39.650546Z"
    }
   },
   "outputs": [],
   "source": [
    "sales_data = pd.read_csv('sales_data.csv.gz',\n",
    "                          compression='gzip',\n",
    "                          sep=',',\n",
    "                          header=0,\n",
    "                          index_col=0)"
   ]
  },
  {
   "cell_type": "code",
   "execution_count": 983,
   "id": "2b16e8d2",
   "metadata": {
    "ExecuteTime": {
     "end_time": "2022-02-01T19:57:40.159562Z",
     "start_time": "2022-02-01T19:57:40.140856Z"
    }
   },
   "outputs": [
    {
     "data": {
      "text/html": [
       "<div>\n",
       "<style scoped>\n",
       "    .dataframe tbody tr th:only-of-type {\n",
       "        vertical-align: middle;\n",
       "    }\n",
       "\n",
       "    .dataframe tbody tr th {\n",
       "        vertical-align: top;\n",
       "    }\n",
       "\n",
       "    .dataframe thead th {\n",
       "        text-align: right;\n",
       "    }\n",
       "</style>\n",
       "<table border=\"1\" class=\"dataframe\">\n",
       "  <thead>\n",
       "    <tr style=\"text-align: right;\">\n",
       "      <th></th>\n",
       "      <th>date</th>\n",
       "      <th>campaign_id</th>\n",
       "      <th>group_id</th>\n",
       "      <th>age_group</th>\n",
       "      <th>gender</th>\n",
       "      <th>user_type</th>\n",
       "      <th>platform</th>\n",
       "      <th>state_id</th>\n",
       "      <th>interactions</th>\n",
       "      <th>sale</th>\n",
       "    </tr>\n",
       "    <tr>\n",
       "      <th>id</th>\n",
       "      <th></th>\n",
       "      <th></th>\n",
       "      <th></th>\n",
       "      <th></th>\n",
       "      <th></th>\n",
       "      <th></th>\n",
       "      <th></th>\n",
       "      <th></th>\n",
       "      <th></th>\n",
       "      <th></th>\n",
       "    </tr>\n",
       "  </thead>\n",
       "  <tbody>\n",
       "    <tr>\n",
       "      <th>277133</th>\n",
       "      <td>2021-05-04</td>\n",
       "      <td>3</td>\n",
       "      <td>372</td>\n",
       "      <td>45-49</td>\n",
       "      <td>F</td>\n",
       "      <td>0</td>\n",
       "      <td>desktop</td>\n",
       "      <td>19</td>\n",
       "      <td>5249</td>\n",
       "      <td>0.0</td>\n",
       "    </tr>\n",
       "    <tr>\n",
       "      <th>270342</th>\n",
       "      <td>2021-05-04</td>\n",
       "      <td>3</td>\n",
       "      <td>313</td>\n",
       "      <td>35-39</td>\n",
       "      <td>F</td>\n",
       "      <td>4</td>\n",
       "      <td>desktop</td>\n",
       "      <td>16</td>\n",
       "      <td>1522</td>\n",
       "      <td>0.0</td>\n",
       "    </tr>\n",
       "    <tr>\n",
       "      <th>161280</th>\n",
       "      <td>2021-05-02</td>\n",
       "      <td>3</td>\n",
       "      <td>321</td>\n",
       "      <td>30-34</td>\n",
       "      <td>M</td>\n",
       "      <td>1</td>\n",
       "      <td>desktop</td>\n",
       "      <td>25</td>\n",
       "      <td>2</td>\n",
       "      <td>0.0</td>\n",
       "    </tr>\n",
       "    <tr>\n",
       "      <th>252773</th>\n",
       "      <td>2021-05-04</td>\n",
       "      <td>3</td>\n",
       "      <td>426</td>\n",
       "      <td>30-34</td>\n",
       "      <td>F</td>\n",
       "      <td>0</td>\n",
       "      <td>NaN</td>\n",
       "      <td>27</td>\n",
       "      <td>2</td>\n",
       "      <td>1.0</td>\n",
       "    </tr>\n",
       "    <tr>\n",
       "      <th>118886</th>\n",
       "      <td>2021-05-01</td>\n",
       "      <td>3</td>\n",
       "      <td>337</td>\n",
       "      <td>40-44</td>\n",
       "      <td>M</td>\n",
       "      <td>8</td>\n",
       "      <td>desktop</td>\n",
       "      <td>16</td>\n",
       "      <td>2</td>\n",
       "      <td>0.0</td>\n",
       "    </tr>\n",
       "    <tr>\n",
       "      <th>...</th>\n",
       "      <td>...</td>\n",
       "      <td>...</td>\n",
       "      <td>...</td>\n",
       "      <td>...</td>\n",
       "      <td>...</td>\n",
       "      <td>...</td>\n",
       "      <td>...</td>\n",
       "      <td>...</td>\n",
       "      <td>...</td>\n",
       "      <td>...</td>\n",
       "    </tr>\n",
       "    <tr>\n",
       "      <th>71168</th>\n",
       "      <td>2021-05-01</td>\n",
       "      <td>3</td>\n",
       "      <td>404</td>\n",
       "      <td>30-34</td>\n",
       "      <td>F</td>\n",
       "      <td>2</td>\n",
       "      <td>NaN</td>\n",
       "      <td>5</td>\n",
       "      <td>2</td>\n",
       "      <td>0.0</td>\n",
       "    </tr>\n",
       "    <tr>\n",
       "      <th>8348</th>\n",
       "      <td>2021-05-01</td>\n",
       "      <td>3</td>\n",
       "      <td>329</td>\n",
       "      <td>35-39</td>\n",
       "      <td>F</td>\n",
       "      <td>2</td>\n",
       "      <td>desktop</td>\n",
       "      <td>26</td>\n",
       "      <td>1625</td>\n",
       "      <td>0.0</td>\n",
       "    </tr>\n",
       "    <tr>\n",
       "      <th>242565</th>\n",
       "      <td>2021-05-04</td>\n",
       "      <td>3</td>\n",
       "      <td>361</td>\n",
       "      <td>35-39</td>\n",
       "      <td>F</td>\n",
       "      <td>7</td>\n",
       "      <td>desktop</td>\n",
       "      <td>12</td>\n",
       "      <td>2</td>\n",
       "      <td>0.0</td>\n",
       "    </tr>\n",
       "    <tr>\n",
       "      <th>199292</th>\n",
       "      <td>2021-05-03</td>\n",
       "      <td>3</td>\n",
       "      <td>377</td>\n",
       "      <td>40-44</td>\n",
       "      <td>M</td>\n",
       "      <td>7</td>\n",
       "      <td>desktop</td>\n",
       "      <td>20</td>\n",
       "      <td>1259</td>\n",
       "      <td>0.0</td>\n",
       "    </tr>\n",
       "    <tr>\n",
       "      <th>106848</th>\n",
       "      <td>2021-05-01</td>\n",
       "      <td>3</td>\n",
       "      <td>488</td>\n",
       "      <td>35-39</td>\n",
       "      <td>NaN</td>\n",
       "      <td>4</td>\n",
       "      <td>NaN</td>\n",
       "      <td>28</td>\n",
       "      <td>2</td>\n",
       "      <td>0.0</td>\n",
       "    </tr>\n",
       "  </tbody>\n",
       "</table>\n",
       "<p>426324 rows × 10 columns</p>\n",
       "</div>"
      ],
      "text/plain": [
       "              date  campaign_id  group_id age_group gender  user_type  \\\n",
       "id                                                                      \n",
       "277133  2021-05-04            3       372     45-49      F          0   \n",
       "270342  2021-05-04            3       313     35-39      F          4   \n",
       "161280  2021-05-02            3       321     30-34      M          1   \n",
       "252773  2021-05-04            3       426     30-34      F          0   \n",
       "118886  2021-05-01            3       337     40-44      M          8   \n",
       "...            ...          ...       ...       ...    ...        ...   \n",
       "71168   2021-05-01            3       404     30-34      F          2   \n",
       "8348    2021-05-01            3       329     35-39      F          2   \n",
       "242565  2021-05-04            3       361     35-39      F          7   \n",
       "199292  2021-05-03            3       377     40-44      M          7   \n",
       "106848  2021-05-01            3       488     35-39    NaN          4   \n",
       "\n",
       "       platform  state_id  interactions  sale  \n",
       "id                                             \n",
       "277133  desktop        19          5249   0.0  \n",
       "270342  desktop        16          1522   0.0  \n",
       "161280  desktop        25             2   0.0  \n",
       "252773      NaN        27             2   1.0  \n",
       "118886  desktop        16             2   0.0  \n",
       "...         ...       ...           ...   ...  \n",
       "71168       NaN         5             2   0.0  \n",
       "8348    desktop        26          1625   0.0  \n",
       "242565  desktop        12             2   0.0  \n",
       "199292  desktop        20          1259   0.0  \n",
       "106848      NaN        28             2   0.0  \n",
       "\n",
       "[426324 rows x 10 columns]"
      ]
     },
     "execution_count": 983,
     "metadata": {},
     "output_type": "execute_result"
    }
   ],
   "source": [
    "sales_data"
   ]
  },
  {
   "cell_type": "markdown",
   "id": "9ed736ae",
   "metadata": {},
   "source": [
    "**Let's use `pandas_profiling` for a quick and exhaustive summary of all features and their interactions**"
   ]
  },
  {
   "cell_type": "code",
   "execution_count": 984,
   "id": "2e0288e3",
   "metadata": {
    "ExecuteTime": {
     "end_time": "2022-02-01T19:57:45.857652Z",
     "start_time": "2022-02-01T19:57:45.796818Z"
    }
   },
   "outputs": [],
   "source": [
    "profile = ProfileReport(sales_data, title=\"Sales Data Report\", explorative=True,\n",
    "                        dark_mode=True)"
   ]
  },
  {
   "cell_type": "code",
   "execution_count": 985,
   "id": "47301016",
   "metadata": {
    "ExecuteTime": {
     "end_time": "2022-02-01T19:58:28.195983Z",
     "start_time": "2022-02-01T19:57:47.013921Z"
    }
   },
   "outputs": [
    {
     "data": {
      "application/vnd.jupyter.widget-view+json": {
       "model_id": "542ef7157ef24a65b75da5efd543231a",
       "version_major": 2,
       "version_minor": 0
      },
      "text/plain": [
       "Summarize dataset:   0%|          | 0/25 [00:00<?, ?it/s]"
      ]
     },
     "metadata": {},
     "output_type": "display_data"
    },
    {
     "name": "stderr",
     "output_type": "stream",
     "text": [
      "overflow encountered in long_scalars\n"
     ]
    },
    {
     "data": {
      "application/vnd.jupyter.widget-view+json": {
       "model_id": "3be9281ef53f402c843c705d3c41f676",
       "version_major": 2,
       "version_minor": 0
      },
      "text/plain": [
       "Generate report structure:   0%|          | 0/1 [00:00<?, ?it/s]"
      ]
     },
     "metadata": {},
     "output_type": "display_data"
    },
    {
     "data": {
      "application/vnd.jupyter.widget-view+json": {
       "model_id": "",
       "version_major": 2,
       "version_minor": 0
      },
      "text/plain": [
       "Render widgets:   0%|          | 0/1 [00:00<?, ?it/s]"
      ]
     },
     "metadata": {},
     "output_type": "display_data"
    },
    {
     "data": {
      "application/vnd.jupyter.widget-view+json": {
       "model_id": "cbd242d1332e42359061e4b2855d19d6",
       "version_major": 2,
       "version_minor": 0
      },
      "text/plain": [
       "VBox(children=(Tab(children=(Tab(children=(GridBox(children=(VBox(children=(GridspecLayout(children=(HTML(valu…"
      ]
     },
     "metadata": {},
     "output_type": "display_data"
    }
   ],
   "source": [
    "profile.to_widgets()"
   ]
  },
  {
   "cell_type": "code",
   "execution_count": null,
   "id": "aff4bfd9",
   "metadata": {},
   "outputs": [],
   "source": [
    "# profile.to_notebook_iframe()"
   ]
  },
  {
   "cell_type": "markdown",
   "id": "a6dc9bfc",
   "metadata": {},
   "source": [
    "**Below are some observations extracted from `pandas_profiling`**:\n",
    "\n",
    "  1. There are 28 missing values in the target `sale`. We will safely remove\n",
    "     those from the dataset, prior to any further analysis\n",
    "     \n",
    "   \n",
    "     \n",
    "  2. Huge imbalance in the target `sale` - 93.6% of all observations have **not**\n",
    "     resulted in a sale. \n",
    "     This imbalance must be addressed before model training and will determine\n",
    "     the performance metric we chose.\n",
    "     \n",
    "  \n",
    "  3. There is considerable imbalance in the feature `platform` - approximately 63% of users \n",
    "     come from a desktop machine, 36% have missing values and less than 1% come from\n",
    "     mobile devices.\n",
    "     Depending on whether the missing values represent merely a data quality\n",
    "     issue or an actual meaningful signal about user behaviour (e.e. user redirected\n",
    "     through third parties have \"undetected\" platform), we can either impute\n",
    "     the missing values or model them as a separate entity.\n",
    "     In this submission I have chosen the latter.\n",
    "   \n",
    "   \n",
    "  4. All features, except `interactions` are categorical.\n",
    "     We will have to encode them to be able to use most machine learning methods.\n",
    "     In this submission I have tried two methods - one-hot encoding and leave-one-out target coding.\n",
    "     They both perform similarly, so I leave the latter in the main code.\n",
    "   \n",
    "  \n",
    "  5. The feature `interactions` is heavily skewed. \n",
    "     We will log-transform it to make it more Gaussian-like and hence reduce the likelihood\n",
    "     that its heavy tails bias our models.\n",
    "     \n",
    "     \n",
    "  6. The features `group_id` and `user_type` have high cardinalities. If categorical features are one-hot encoded\n",
    "     this will be a problem, as this will induce a lot of spareness in the encoded dataset.\n",
    "     Furthermore, features with many categories will bias most learning algorithms in their favour.\n",
    "     The one-hot encoding in the submission reduces the cardinality of this feature by contracting it with\n",
    "     a new category \"Other\".\n",
    "     \n",
    "     \n",
    "  7. The *Phi_K* correlation plot suggests correlation between `sales` and the features `age_group`,\n",
    "     `gender` and `state_id`. \n",
    "     Despite being only visual this observation is a first indication of what features might be\n",
    "     influential in this problem and should be verified.\n",
    "     \n",
    "     \n",
    "  8. The `date`feature has only 9 distinct values and doesn't provide enough information for\n",
    "     time series analysis. We will thus drop it."
   ]
  },
  {
   "cell_type": "markdown",
   "id": "fc0a8ef2",
   "metadata": {},
   "source": [
    "## Clean-up"
   ]
  },
  {
   "cell_type": "markdown",
   "id": "296f30bf",
   "metadata": {},
   "source": [
    "**Let's remove the observation with missing target `sale`**"
   ]
  },
  {
   "cell_type": "code",
   "execution_count": 987,
   "id": "fdaf9a71",
   "metadata": {
    "ExecuteTime": {
     "end_time": "2022-02-01T20:26:36.149157Z",
     "start_time": "2022-02-01T20:26:36.080255Z"
    }
   },
   "outputs": [],
   "source": [
    "empty_sales_mask = np.isnan(sales_data['sale'])\n",
    "\n",
    "sales_data_cleaned = sales_data[~empty_sales_mask].copy()"
   ]
  },
  {
   "cell_type": "code",
   "execution_count": 988,
   "id": "01c2322b",
   "metadata": {
    "ExecuteTime": {
     "end_time": "2022-02-01T20:26:38.197063Z",
     "start_time": "2022-02-01T20:26:38.178216Z"
    }
   },
   "outputs": [
    {
     "data": {
      "text/html": [
       "<div>\n",
       "<style scoped>\n",
       "    .dataframe tbody tr th:only-of-type {\n",
       "        vertical-align: middle;\n",
       "    }\n",
       "\n",
       "    .dataframe tbody tr th {\n",
       "        vertical-align: top;\n",
       "    }\n",
       "\n",
       "    .dataframe thead th {\n",
       "        text-align: right;\n",
       "    }\n",
       "</style>\n",
       "<table border=\"1\" class=\"dataframe\">\n",
       "  <thead>\n",
       "    <tr style=\"text-align: right;\">\n",
       "      <th></th>\n",
       "      <th>date</th>\n",
       "      <th>campaign_id</th>\n",
       "      <th>group_id</th>\n",
       "      <th>age_group</th>\n",
       "      <th>gender</th>\n",
       "      <th>user_type</th>\n",
       "      <th>platform</th>\n",
       "      <th>state_id</th>\n",
       "      <th>interactions</th>\n",
       "      <th>sale</th>\n",
       "    </tr>\n",
       "    <tr>\n",
       "      <th>id</th>\n",
       "      <th></th>\n",
       "      <th></th>\n",
       "      <th></th>\n",
       "      <th></th>\n",
       "      <th></th>\n",
       "      <th></th>\n",
       "      <th></th>\n",
       "      <th></th>\n",
       "      <th></th>\n",
       "      <th></th>\n",
       "    </tr>\n",
       "  </thead>\n",
       "  <tbody>\n",
       "    <tr>\n",
       "      <th>277133</th>\n",
       "      <td>2021-05-04</td>\n",
       "      <td>3</td>\n",
       "      <td>372</td>\n",
       "      <td>45-49</td>\n",
       "      <td>F</td>\n",
       "      <td>0</td>\n",
       "      <td>desktop</td>\n",
       "      <td>19</td>\n",
       "      <td>5249</td>\n",
       "      <td>0.0</td>\n",
       "    </tr>\n",
       "    <tr>\n",
       "      <th>270342</th>\n",
       "      <td>2021-05-04</td>\n",
       "      <td>3</td>\n",
       "      <td>313</td>\n",
       "      <td>35-39</td>\n",
       "      <td>F</td>\n",
       "      <td>4</td>\n",
       "      <td>desktop</td>\n",
       "      <td>16</td>\n",
       "      <td>1522</td>\n",
       "      <td>0.0</td>\n",
       "    </tr>\n",
       "    <tr>\n",
       "      <th>161280</th>\n",
       "      <td>2021-05-02</td>\n",
       "      <td>3</td>\n",
       "      <td>321</td>\n",
       "      <td>30-34</td>\n",
       "      <td>M</td>\n",
       "      <td>1</td>\n",
       "      <td>desktop</td>\n",
       "      <td>25</td>\n",
       "      <td>2</td>\n",
       "      <td>0.0</td>\n",
       "    </tr>\n",
       "    <tr>\n",
       "      <th>252773</th>\n",
       "      <td>2021-05-04</td>\n",
       "      <td>3</td>\n",
       "      <td>426</td>\n",
       "      <td>30-34</td>\n",
       "      <td>F</td>\n",
       "      <td>0</td>\n",
       "      <td>NaN</td>\n",
       "      <td>27</td>\n",
       "      <td>2</td>\n",
       "      <td>1.0</td>\n",
       "    </tr>\n",
       "    <tr>\n",
       "      <th>118886</th>\n",
       "      <td>2021-05-01</td>\n",
       "      <td>3</td>\n",
       "      <td>337</td>\n",
       "      <td>40-44</td>\n",
       "      <td>M</td>\n",
       "      <td>8</td>\n",
       "      <td>desktop</td>\n",
       "      <td>16</td>\n",
       "      <td>2</td>\n",
       "      <td>0.0</td>\n",
       "    </tr>\n",
       "    <tr>\n",
       "      <th>...</th>\n",
       "      <td>...</td>\n",
       "      <td>...</td>\n",
       "      <td>...</td>\n",
       "      <td>...</td>\n",
       "      <td>...</td>\n",
       "      <td>...</td>\n",
       "      <td>...</td>\n",
       "      <td>...</td>\n",
       "      <td>...</td>\n",
       "      <td>...</td>\n",
       "    </tr>\n",
       "    <tr>\n",
       "      <th>71168</th>\n",
       "      <td>2021-05-01</td>\n",
       "      <td>3</td>\n",
       "      <td>404</td>\n",
       "      <td>30-34</td>\n",
       "      <td>F</td>\n",
       "      <td>2</td>\n",
       "      <td>NaN</td>\n",
       "      <td>5</td>\n",
       "      <td>2</td>\n",
       "      <td>0.0</td>\n",
       "    </tr>\n",
       "    <tr>\n",
       "      <th>8348</th>\n",
       "      <td>2021-05-01</td>\n",
       "      <td>3</td>\n",
       "      <td>329</td>\n",
       "      <td>35-39</td>\n",
       "      <td>F</td>\n",
       "      <td>2</td>\n",
       "      <td>desktop</td>\n",
       "      <td>26</td>\n",
       "      <td>1625</td>\n",
       "      <td>0.0</td>\n",
       "    </tr>\n",
       "    <tr>\n",
       "      <th>242565</th>\n",
       "      <td>2021-05-04</td>\n",
       "      <td>3</td>\n",
       "      <td>361</td>\n",
       "      <td>35-39</td>\n",
       "      <td>F</td>\n",
       "      <td>7</td>\n",
       "      <td>desktop</td>\n",
       "      <td>12</td>\n",
       "      <td>2</td>\n",
       "      <td>0.0</td>\n",
       "    </tr>\n",
       "    <tr>\n",
       "      <th>199292</th>\n",
       "      <td>2021-05-03</td>\n",
       "      <td>3</td>\n",
       "      <td>377</td>\n",
       "      <td>40-44</td>\n",
       "      <td>M</td>\n",
       "      <td>7</td>\n",
       "      <td>desktop</td>\n",
       "      <td>20</td>\n",
       "      <td>1259</td>\n",
       "      <td>0.0</td>\n",
       "    </tr>\n",
       "    <tr>\n",
       "      <th>106848</th>\n",
       "      <td>2021-05-01</td>\n",
       "      <td>3</td>\n",
       "      <td>488</td>\n",
       "      <td>35-39</td>\n",
       "      <td>NaN</td>\n",
       "      <td>4</td>\n",
       "      <td>NaN</td>\n",
       "      <td>28</td>\n",
       "      <td>2</td>\n",
       "      <td>0.0</td>\n",
       "    </tr>\n",
       "  </tbody>\n",
       "</table>\n",
       "<p>426296 rows × 10 columns</p>\n",
       "</div>"
      ],
      "text/plain": [
       "              date  campaign_id  group_id age_group gender  user_type  \\\n",
       "id                                                                      \n",
       "277133  2021-05-04            3       372     45-49      F          0   \n",
       "270342  2021-05-04            3       313     35-39      F          4   \n",
       "161280  2021-05-02            3       321     30-34      M          1   \n",
       "252773  2021-05-04            3       426     30-34      F          0   \n",
       "118886  2021-05-01            3       337     40-44      M          8   \n",
       "...            ...          ...       ...       ...    ...        ...   \n",
       "71168   2021-05-01            3       404     30-34      F          2   \n",
       "8348    2021-05-01            3       329     35-39      F          2   \n",
       "242565  2021-05-04            3       361     35-39      F          7   \n",
       "199292  2021-05-03            3       377     40-44      M          7   \n",
       "106848  2021-05-01            3       488     35-39    NaN          4   \n",
       "\n",
       "       platform  state_id  interactions  sale  \n",
       "id                                             \n",
       "277133  desktop        19          5249   0.0  \n",
       "270342  desktop        16          1522   0.0  \n",
       "161280  desktop        25             2   0.0  \n",
       "252773      NaN        27             2   1.0  \n",
       "118886  desktop        16             2   0.0  \n",
       "...         ...       ...           ...   ...  \n",
       "71168       NaN         5             2   0.0  \n",
       "8348    desktop        26          1625   0.0  \n",
       "242565  desktop        12             2   0.0  \n",
       "199292  desktop        20          1259   0.0  \n",
       "106848      NaN        28             2   0.0  \n",
       "\n",
       "[426296 rows x 10 columns]"
      ]
     },
     "execution_count": 988,
     "metadata": {},
     "output_type": "execute_result"
    }
   ],
   "source": [
    "sales_data_cleaned"
   ]
  },
  {
   "cell_type": "markdown",
   "id": "fbee4bc3",
   "metadata": {},
   "source": [
    "**As mentioned before we will keep the mising values as a special category\n",
    "to be explicitly modelled**.\n",
    "\n",
    "This affects mostly the `platform` feature, since it has the highest\n",
    "fraction of missing values."
   ]
  },
  {
   "cell_type": "code",
   "execution_count": 989,
   "id": "81f763e0",
   "metadata": {
    "ExecuteTime": {
     "end_time": "2022-02-01T20:30:02.329898Z",
     "start_time": "2022-02-01T20:30:02.246677Z"
    }
   },
   "outputs": [],
   "source": [
    "sales_data_cleaned = sales_data_cleaned.fillna('not available')"
   ]
  },
  {
   "cell_type": "markdown",
   "id": "fb3cd43e",
   "metadata": {},
   "source": [
    "And finally removing `date`"
   ]
  },
  {
   "cell_type": "code",
   "execution_count": 990,
   "id": "4f210912",
   "metadata": {
    "ExecuteTime": {
     "end_time": "2022-02-01T20:30:17.225906Z",
     "start_time": "2022-02-01T20:30:17.186072Z"
    }
   },
   "outputs": [],
   "source": [
    "sales_data_cleaned = sales_data_cleaned.drop(columns='date')"
   ]
  },
  {
   "cell_type": "markdown",
   "id": "83f83ce1",
   "metadata": {},
   "source": [
    "## Train-test split"
   ]
  },
  {
   "cell_type": "markdown",
   "id": "527a8bb7",
   "metadata": {},
   "source": [
    "Before we continue we'll allocate a *test* set to be used as a proxy for *unseen* data. \n",
    "That would be the final dataset on which models will be compared at the end.\n",
    "\n",
    "Importantly this must be done before any encoding or rebalancing.\n",
    "We want to keep the data imbalance in the test set and check model performance on it.\n",
    "In this way we'll know if our model has learned useful information to detect\n",
    "the positive signal resulting in a sale.\n",
    "\n",
    "Any rebalancing or encoding will be learned from the training dataset to ensure \n",
    "no data leakage.\n",
    "\n",
    "To generate the split and keep the data imbalance, we use `StratifiedShuffleSplit`\n",
    "and take 20% of the data as test.\n",
    "\n"
   ]
  },
  {
   "cell_type": "code",
   "execution_count": 991,
   "id": "01bfbd15",
   "metadata": {
    "ExecuteTime": {
     "end_time": "2022-02-01T20:35:13.242709Z",
     "start_time": "2022-02-01T20:35:11.453757Z"
    }
   },
   "outputs": [],
   "source": [
    "splitter = StratifiedShuffleSplit(n_splits=1, test_size=0.2, random_state=42)\n",
    "\n",
    "all_but_target = sales_data_cleaned.columns != 'sale'\n",
    "X = sales_data_cleaned.loc[:, all_but_target]\n",
    "y = sales_data_cleaned[['sale']]\n",
    "\n",
    "\n",
    "for train_index, test_index in splitter.split(X, y):\n",
    "    X_train, X_test = X.iloc[train_index].copy(), X.iloc[test_index].copy()\n",
    "    y_train, y_test = y.iloc[train_index].copy(), y.iloc[test_index].copy()"
   ]
  },
  {
   "cell_type": "code",
   "execution_count": 500,
   "id": "4126a3bb",
   "metadata": {},
   "outputs": [
    {
     "data": {
      "text/plain": [
       "sale\n",
       "0.0    398800\n",
       "1.0     27496\n",
       "dtype: int64"
      ]
     },
     "execution_count": 500,
     "metadata": {},
     "output_type": "execute_result"
    }
   ],
   "source": [
    "y.groupby(by='sale').size()"
   ]
  },
  {
   "cell_type": "code",
   "execution_count": 501,
   "id": "fe8d396b",
   "metadata": {},
   "outputs": [
    {
     "data": {
      "text/plain": [
       "sale\n",
       "0.0    319039\n",
       "1.0     21997\n",
       "dtype: int64"
      ]
     },
     "execution_count": 501,
     "metadata": {},
     "output_type": "execute_result"
    }
   ],
   "source": [
    "y_train.groupby(by='sale').size()"
   ]
  },
  {
   "cell_type": "code",
   "execution_count": 502,
   "id": "9fca9ffd",
   "metadata": {},
   "outputs": [
    {
     "data": {
      "text/plain": [
       "sale\n",
       "0.0    79761\n",
       "1.0     5499\n",
       "dtype: int64"
      ]
     },
     "execution_count": 502,
     "metadata": {},
     "output_type": "execute_result"
    }
   ],
   "source": [
    "y_test.groupby(by='sale').size()"
   ]
  },
  {
   "cell_type": "markdown",
   "id": "ebbbb156",
   "metadata": {},
   "source": [
    "As we can see the imbalance in `sale` is very similar across the original\n",
    "dataset, the training dataset and the test dataset."
   ]
  },
  {
   "cell_type": "markdown",
   "id": "cd464b3c",
   "metadata": {},
   "source": [
    "# Data Processing Pipelines"
   ]
  },
  {
   "cell_type": "markdown",
   "id": "62ff8d85",
   "metadata": {},
   "source": [
    "As a last step before modelling, we'll create the encoding and \n",
    "rebalancing logic.\n",
    "\n",
    "There are many options to encode categorical variables with the \n",
    "most popular one being **one-hot encoding**.\n",
    "Its alternative name, *dummy coding*, suggests that it may not be\n",
    "the obvious choice for all problems.\n",
    "Nevertheless I have supplied an implementation for it.\n",
    "\n",
    "Another category of encoding methods is known as **target coding**, \n",
    "where the main idea is that information about the target (e.g. mean value)\n",
    "conditional on the individual categories is used to encode them.\n",
    "The encoding is typically futher combined with the so-called *prior*, which\n",
    "represents a global statistic unconditioned on any category.\n",
    "\n",
    "There are several target-coding methods implemented in the Python package\n",
    "`category_encoders`.\n",
    "\n",
    "I have tried `TargetEncoder` and `LeaveOneOutEncoder`, both with similar performance.\n"
   ]
  },
  {
   "cell_type": "code",
   "execution_count": 992,
   "id": "82662af0",
   "metadata": {
    "ExecuteTime": {
     "end_time": "2022-02-01T20:46:08.697485Z",
     "start_time": "2022-02-01T20:46:08.682984Z"
    }
   },
   "outputs": [
    {
     "data": {
      "text/html": [
       "<div>\n",
       "<style scoped>\n",
       "    .dataframe tbody tr th:only-of-type {\n",
       "        vertical-align: middle;\n",
       "    }\n",
       "\n",
       "    .dataframe tbody tr th {\n",
       "        vertical-align: top;\n",
       "    }\n",
       "\n",
       "    .dataframe thead th {\n",
       "        text-align: right;\n",
       "    }\n",
       "</style>\n",
       "<table border=\"1\" class=\"dataframe\">\n",
       "  <thead>\n",
       "    <tr style=\"text-align: right;\">\n",
       "      <th></th>\n",
       "      <th>campaign_id</th>\n",
       "      <th>group_id</th>\n",
       "      <th>age_group</th>\n",
       "      <th>gender</th>\n",
       "      <th>user_type</th>\n",
       "      <th>platform</th>\n",
       "      <th>state_id</th>\n",
       "      <th>interactions</th>\n",
       "    </tr>\n",
       "    <tr>\n",
       "      <th>id</th>\n",
       "      <th></th>\n",
       "      <th></th>\n",
       "      <th></th>\n",
       "      <th></th>\n",
       "      <th></th>\n",
       "      <th></th>\n",
       "      <th></th>\n",
       "      <th></th>\n",
       "    </tr>\n",
       "  </thead>\n",
       "  <tbody>\n",
       "    <tr>\n",
       "      <th>148921</th>\n",
       "      <td>3</td>\n",
       "      <td>380</td>\n",
       "      <td>35-39</td>\n",
       "      <td>F</td>\n",
       "      <td>5</td>\n",
       "      <td>desktop</td>\n",
       "      <td>22</td>\n",
       "      <td>230</td>\n",
       "    </tr>\n",
       "    <tr>\n",
       "      <th>421695</th>\n",
       "      <td>3</td>\n",
       "      <td>438</td>\n",
       "      <td>35-39</td>\n",
       "      <td>F</td>\n",
       "      <td>1</td>\n",
       "      <td>not available</td>\n",
       "      <td>12</td>\n",
       "      <td>2</td>\n",
       "    </tr>\n",
       "    <tr>\n",
       "      <th>404077</th>\n",
       "      <td>3</td>\n",
       "      <td>402</td>\n",
       "      <td>35-39</td>\n",
       "      <td>M</td>\n",
       "      <td>2</td>\n",
       "      <td>not available</td>\n",
       "      <td>28</td>\n",
       "      <td>820</td>\n",
       "    </tr>\n",
       "    <tr>\n",
       "      <th>49202</th>\n",
       "      <td>3</td>\n",
       "      <td>349</td>\n",
       "      <td>40-44</td>\n",
       "      <td>M</td>\n",
       "      <td>7</td>\n",
       "      <td>desktop</td>\n",
       "      <td>50</td>\n",
       "      <td>139</td>\n",
       "    </tr>\n",
       "    <tr>\n",
       "      <th>348599</th>\n",
       "      <td>3</td>\n",
       "      <td>433</td>\n",
       "      <td>45-49</td>\n",
       "      <td>F</td>\n",
       "      <td>5</td>\n",
       "      <td>not available</td>\n",
       "      <td>15</td>\n",
       "      <td>1706</td>\n",
       "    </tr>\n",
       "    <tr>\n",
       "      <th>...</th>\n",
       "      <td>...</td>\n",
       "      <td>...</td>\n",
       "      <td>...</td>\n",
       "      <td>...</td>\n",
       "      <td>...</td>\n",
       "      <td>...</td>\n",
       "      <td>...</td>\n",
       "      <td>...</td>\n",
       "    </tr>\n",
       "    <tr>\n",
       "      <th>410359</th>\n",
       "      <td>3</td>\n",
       "      <td>426</td>\n",
       "      <td>45-49</td>\n",
       "      <td>F</td>\n",
       "      <td>2</td>\n",
       "      <td>not available</td>\n",
       "      <td>10</td>\n",
       "      <td>2</td>\n",
       "    </tr>\n",
       "    <tr>\n",
       "      <th>403996</th>\n",
       "      <td>3</td>\n",
       "      <td>228</td>\n",
       "      <td>35-39</td>\n",
       "      <td>M</td>\n",
       "      <td>1</td>\n",
       "      <td>desktop</td>\n",
       "      <td>2</td>\n",
       "      <td>2</td>\n",
       "    </tr>\n",
       "    <tr>\n",
       "      <th>74562</th>\n",
       "      <td>3</td>\n",
       "      <td>395</td>\n",
       "      <td>30-34</td>\n",
       "      <td>M</td>\n",
       "      <td>8</td>\n",
       "      <td>desktop</td>\n",
       "      <td>7</td>\n",
       "      <td>1173</td>\n",
       "    </tr>\n",
       "    <tr>\n",
       "      <th>24125</th>\n",
       "      <td>3</td>\n",
       "      <td>300</td>\n",
       "      <td>30-34</td>\n",
       "      <td>F</td>\n",
       "      <td>2</td>\n",
       "      <td>desktop</td>\n",
       "      <td>32</td>\n",
       "      <td>2</td>\n",
       "    </tr>\n",
       "    <tr>\n",
       "      <th>421324</th>\n",
       "      <td>3</td>\n",
       "      <td>351</td>\n",
       "      <td>40-44</td>\n",
       "      <td>M</td>\n",
       "      <td>7</td>\n",
       "      <td>desktop</td>\n",
       "      <td>20</td>\n",
       "      <td>2</td>\n",
       "    </tr>\n",
       "  </tbody>\n",
       "</table>\n",
       "<p>341036 rows × 8 columns</p>\n",
       "</div>"
      ],
      "text/plain": [
       "        campaign_id  group_id age_group gender  user_type       platform  \\\n",
       "id                                                                         \n",
       "148921            3       380     35-39      F          5        desktop   \n",
       "421695            3       438     35-39      F          1  not available   \n",
       "404077            3       402     35-39      M          2  not available   \n",
       "49202             3       349     40-44      M          7        desktop   \n",
       "348599            3       433     45-49      F          5  not available   \n",
       "...             ...       ...       ...    ...        ...            ...   \n",
       "410359            3       426     45-49      F          2  not available   \n",
       "403996            3       228     35-39      M          1        desktop   \n",
       "74562             3       395     30-34      M          8        desktop   \n",
       "24125             3       300     30-34      F          2        desktop   \n",
       "421324            3       351     40-44      M          7        desktop   \n",
       "\n",
       "        state_id  interactions  \n",
       "id                              \n",
       "148921        22           230  \n",
       "421695        12             2  \n",
       "404077        28           820  \n",
       "49202         50           139  \n",
       "348599        15          1706  \n",
       "...          ...           ...  \n",
       "410359        10             2  \n",
       "403996         2             2  \n",
       "74562          7          1173  \n",
       "24125         32             2  \n",
       "421324        20             2  \n",
       "\n",
       "[341036 rows x 8 columns]"
      ]
     },
     "execution_count": 992,
     "metadata": {},
     "output_type": "execute_result"
    }
   ],
   "source": [
    "X_train"
   ]
  },
  {
   "cell_type": "code",
   "execution_count": 993,
   "id": "d9830741",
   "metadata": {
    "ExecuteTime": {
     "end_time": "2022-02-01T20:46:43.118847Z",
     "start_time": "2022-02-01T20:46:43.114586Z"
    }
   },
   "outputs": [],
   "source": [
    "# We need to keep these around for convenience later on\n",
    "feature_cols = ['campaign_id', 'group_id', 'age_group', 'gender', 'user_type', 'platform', 'state_id', 'interactions']\n",
    "cat_cols = ['campaign_id', 'group_id', 'age_group', 'gender', 'user_type', 'platform', 'state_id']\n",
    "target_col = ['sale']"
   ]
  },
  {
   "cell_type": "markdown",
   "id": "498e7b78",
   "metadata": {},
   "source": [
    "Before, we continue let's define a function to log-transform the `interactions`\n",
    "feature.\n",
    "It will be used in the final `sklearn.pipeline.Pipeline`"
   ]
  },
  {
   "cell_type": "markdown",
   "id": "64877f0a",
   "metadata": {},
   "source": [
    "## Log-transform `interactions`"
   ]
  },
  {
   "cell_type": "code",
   "execution_count": 1004,
   "id": "30e02598",
   "metadata": {
    "ExecuteTime": {
     "end_time": "2022-02-01T20:54:22.887570Z",
     "start_time": "2022-02-01T20:54:22.884039Z"
    }
   },
   "outputs": [],
   "source": [
    "def log_trans(df):\n",
    "    df['interactions'] = np.log10(df['interactions'])\n",
    "    return pd.DataFrame(df, columns=df.columns)\n"
   ]
  },
  {
   "cell_type": "markdown",
   "id": "ee79cdc8",
   "metadata": {},
   "source": [
    "## Categorical Encoding"
   ]
  },
  {
   "cell_type": "markdown",
   "id": "4b803813",
   "metadata": {},
   "source": [
    "### Target coding"
   ]
  },
  {
   "cell_type": "code",
   "execution_count": 1005,
   "id": "0e4a783c",
   "metadata": {
    "ExecuteTime": {
     "end_time": "2022-02-01T20:55:48.193866Z",
     "start_time": "2022-02-01T20:55:48.190221Z"
    }
   },
   "outputs": [],
   "source": [
    "# both do very similary\n",
    "\n",
    "leave_one_out_enc = \\\n",
    "    category_encoders.leave_one_out.LeaveOneOutEncoder(cols=cat_cols,\n",
    "                                                       random_state=42,\n",
    "                                                       sigma=0.05)\n",
    "\n",
    "target_encoder = \\\n",
    "    category_encoders.target_encoder.TargetEncoder(cols=cat_cols,                                                                \n",
    "                                                   min_samples_leaf=500,\n",
    "                                                   smoothing=1)"
   ]
  },
  {
   "cell_type": "markdown",
   "id": "c89a832c",
   "metadata": {},
   "source": [
    "### One hot encoding"
   ]
  },
  {
   "cell_type": "code",
   "execution_count": 1006,
   "id": "5550703c",
   "metadata": {
    "ExecuteTime": {
     "end_time": "2022-02-01T20:56:25.790632Z",
     "start_time": "2022-02-01T20:56:24.640109Z"
    }
   },
   "outputs": [],
   "source": [
    "for col in cat_cols:\n",
    "    # all, but the last one 'interactions'\n",
    "    X_train[col] = X_train[col].astype('str')\n",
    "    X_test[col] = X_test[col].astype('str')"
   ]
  },
  {
   "cell_type": "code",
   "execution_count": 1007,
   "id": "e38d5210",
   "metadata": {
    "ExecuteTime": {
     "end_time": "2022-02-01T20:56:26.032224Z",
     "start_time": "2022-02-01T20:56:25.793957Z"
    }
   },
   "outputs": [],
   "source": [
    "campaign_id_cats = list(X_train['campaign_id'].value_counts().index)\n",
    "group_id_cats = list(X_train['group_id'].value_counts().index)\n",
    "age_group_cats = list(X_train['age_group'].value_counts().index)\n",
    "gender_cats = list(X_train['gender'].value_counts().index)\n",
    "user_type_cats = list(X_train['user_type'].value_counts().index)\n",
    "platform_cats = list(X_train['platform'].value_counts().index)\n",
    "state_id_cats = list(X_train['state_id'].value_counts().index)"
   ]
  },
  {
   "cell_type": "code",
   "execution_count": 1024,
   "id": "7dbca0ad",
   "metadata": {
    "ExecuteTime": {
     "end_time": "2022-02-01T21:24:02.031701Z",
     "start_time": "2022-02-01T21:24:02.027406Z"
    }
   },
   "outputs": [],
   "source": [
    "def reduce_column(df, column, q):  \n",
    "    \n",
    "    column_freqs = pd.DataFrame(df[column].value_counts())\n",
    "    column_freqs = column_freqs.reset_index().rename(columns={'index': column,\n",
    "                                                               column: 'count'})\n",
    "    \n",
    "    \n",
    "    quantile = np.int(np.floor(np.quantile(column_freqs['count'], q=q/100)))\n",
    "    threshold_mask = column_freqs['count'] > quantile\n",
    "    \n",
    "    \n",
    "    df[column] = np.where(df[column].isin(column_freqs[~threshold_mask][column]), 'Other', df[column])\n",
    "    \n",
    "    return pd.DataFrame(df, columns=df.columns)"
   ]
  },
  {
   "cell_type": "code",
   "execution_count": 1027,
   "id": "0fb81bdc",
   "metadata": {
    "ExecuteTime": {
     "end_time": "2022-02-01T21:24:22.333252Z",
     "start_time": "2022-02-01T21:24:22.329152Z"
    }
   },
   "outputs": [],
   "source": [
    "from sklearn.preprocessing import OneHotEncoder\n",
    "\n",
    "enc = OneHotEncoder(categories=[campaign_id_cats,\n",
    "                                group_id_cats,\n",
    "                                age_group_cats,\n",
    "                                gender_cats,\n",
    "                                user_type_cats,\n",
    "                                platform_cats,\n",
    "                                state_id_cats],\n",
    "                    drop='first', sparse=False)\n",
    "\n",
    "encoder = ColumnTransformer([('cat', enc, cat_cols)],\n",
    "                              remainder='passthrough')\n",
    "\n",
    "\n",
    "\n",
    "ohe_pipe = Pipeline([(\"reduce_group_id\",\n",
    "                      FunctionTransformer(reduce_column,\n",
    "                                         kw_args={'q': 99,\n",
    "                                        'column': 'group_id'})),\n",
    "         \n",
    "                     (\"one_hot_encoding\", encoder)])"
   ]
  },
  {
   "cell_type": "markdown",
   "id": "65df4afa",
   "metadata": {},
   "source": [
    "**And finally define the encoding pipeline**"
   ]
  },
  {
   "cell_type": "code",
   "execution_count": 1038,
   "id": "32f325bb",
   "metadata": {
    "ExecuteTime": {
     "end_time": "2022-02-01T21:27:58.070458Z",
     "start_time": "2022-02-01T21:27:58.067157Z"
    }
   },
   "outputs": [],
   "source": [
    "# both target-coding methods do very similary in terms of mode performance\n",
    "# to use one hot encoding, instead, we must contract the `group_id` feature, \n",
    "# otherwise there'll be too much sparseness and bias towards that feature\n",
    "\n",
    "encoding_pipeline = Pipeline([\n",
    "    (\"log_trans_interactions\", FunctionTransformer(log_trans)),\n",
    "    # (\"target_encoder\", target_encoder),\n",
    "    ('leave_one_out_enc', leave_one_out_enc),    \n",
    "    # (\"one_hot_encoding\", encoder)\n",
    "    ] + ohe_pipe.steps)\n"
   ]
  },
  {
   "cell_type": "markdown",
   "id": "88dd4177",
   "metadata": {},
   "source": [
    "We now learn the encoding from our training dataset and use it to\n",
    "transform the test dataset."
   ]
  },
  {
   "cell_type": "code",
   "execution_count": 1010,
   "id": "23f7da37",
   "metadata": {
    "ExecuteTime": {
     "end_time": "2022-02-01T20:59:16.540039Z",
     "start_time": "2022-02-01T20:59:14.865662Z"
    }
   },
   "outputs": [
    {
     "name": "stderr",
     "output_type": "stream",
     "text": [
      "is_categorical is deprecated and will be removed in a future version.  Use is_categorical_dtype instead\n"
     ]
    }
   ],
   "source": [
    "X_train_processed = encoding_pipeline.fit_transform(X_train.copy(), y_train)\n",
    "\n",
    "# importantly, only transform X_test, don't fit it\n",
    "X_test_processed = encoding_pipeline.transform(X_test.copy())"
   ]
  },
  {
   "cell_type": "markdown",
   "id": "c028155b",
   "metadata": {},
   "source": [
    "**This is how our encoded training dataset looks like:**"
   ]
  },
  {
   "cell_type": "code",
   "execution_count": 1011,
   "id": "0b98beef",
   "metadata": {
    "ExecuteTime": {
     "end_time": "2022-02-01T20:59:41.791659Z",
     "start_time": "2022-02-01T20:59:41.777859Z"
    }
   },
   "outputs": [
    {
     "data": {
      "text/html": [
       "<div>\n",
       "<style scoped>\n",
       "    .dataframe tbody tr th:only-of-type {\n",
       "        vertical-align: middle;\n",
       "    }\n",
       "\n",
       "    .dataframe tbody tr th {\n",
       "        vertical-align: top;\n",
       "    }\n",
       "\n",
       "    .dataframe thead th {\n",
       "        text-align: right;\n",
       "    }\n",
       "</style>\n",
       "<table border=\"1\" class=\"dataframe\">\n",
       "  <thead>\n",
       "    <tr style=\"text-align: right;\">\n",
       "      <th></th>\n",
       "      <th>campaign_id</th>\n",
       "      <th>group_id</th>\n",
       "      <th>age_group</th>\n",
       "      <th>gender</th>\n",
       "      <th>user_type</th>\n",
       "      <th>platform</th>\n",
       "      <th>state_id</th>\n",
       "      <th>interactions</th>\n",
       "    </tr>\n",
       "    <tr>\n",
       "      <th>id</th>\n",
       "      <th></th>\n",
       "      <th></th>\n",
       "      <th></th>\n",
       "      <th></th>\n",
       "      <th></th>\n",
       "      <th></th>\n",
       "      <th></th>\n",
       "      <th></th>\n",
       "    </tr>\n",
       "  </thead>\n",
       "  <tbody>\n",
       "    <tr>\n",
       "      <th>148921</th>\n",
       "      <td>0.064972</td>\n",
       "      <td>0.058964</td>\n",
       "      <td>0.058979</td>\n",
       "      <td>0.076748</td>\n",
       "      <td>0.058101</td>\n",
       "      <td>0.064608</td>\n",
       "      <td>0.066816</td>\n",
       "      <td>2.361728</td>\n",
       "    </tr>\n",
       "    <tr>\n",
       "      <th>421695</th>\n",
       "      <td>0.062959</td>\n",
       "      <td>0.057963</td>\n",
       "      <td>0.053258</td>\n",
       "      <td>0.084822</td>\n",
       "      <td>0.061982</td>\n",
       "      <td>0.065355</td>\n",
       "      <td>0.059073</td>\n",
       "      <td>0.301030</td>\n",
       "    </tr>\n",
       "    <tr>\n",
       "      <th>404077</th>\n",
       "      <td>0.065451</td>\n",
       "      <td>0.063377</td>\n",
       "      <td>0.055670</td>\n",
       "      <td>0.044467</td>\n",
       "      <td>0.070165</td>\n",
       "      <td>0.063153</td>\n",
       "      <td>0.077831</td>\n",
       "      <td>2.913814</td>\n",
       "    </tr>\n",
       "    <tr>\n",
       "      <th>49202</th>\n",
       "      <td>0.068225</td>\n",
       "      <td>0.060133</td>\n",
       "      <td>0.081790</td>\n",
       "      <td>0.052788</td>\n",
       "      <td>0.065206</td>\n",
       "      <td>0.063335</td>\n",
       "      <td>0.055190</td>\n",
       "      <td>2.143015</td>\n",
       "    </tr>\n",
       "    <tr>\n",
       "      <th>348599</th>\n",
       "      <td>0.062655</td>\n",
       "      <td>0.071872</td>\n",
       "      <td>0.089473</td>\n",
       "      <td>0.078551</td>\n",
       "      <td>0.068743</td>\n",
       "      <td>0.066866</td>\n",
       "      <td>0.032520</td>\n",
       "      <td>3.231979</td>\n",
       "    </tr>\n",
       "    <tr>\n",
       "      <th>...</th>\n",
       "      <td>...</td>\n",
       "      <td>...</td>\n",
       "      <td>...</td>\n",
       "      <td>...</td>\n",
       "      <td>...</td>\n",
       "      <td>...</td>\n",
       "      <td>...</td>\n",
       "      <td>...</td>\n",
       "    </tr>\n",
       "    <tr>\n",
       "      <th>410359</th>\n",
       "      <td>0.060622</td>\n",
       "      <td>0.067146</td>\n",
       "      <td>0.091456</td>\n",
       "      <td>0.077340</td>\n",
       "      <td>0.061130</td>\n",
       "      <td>0.064453</td>\n",
       "      <td>0.056765</td>\n",
       "      <td>0.301030</td>\n",
       "    </tr>\n",
       "    <tr>\n",
       "      <th>403996</th>\n",
       "      <td>0.065305</td>\n",
       "      <td>0.053810</td>\n",
       "      <td>0.053451</td>\n",
       "      <td>0.048431</td>\n",
       "      <td>0.061702</td>\n",
       "      <td>0.064885</td>\n",
       "      <td>0.060694</td>\n",
       "      <td>0.301030</td>\n",
       "    </tr>\n",
       "    <tr>\n",
       "      <th>74562</th>\n",
       "      <td>0.060387</td>\n",
       "      <td>0.060852</td>\n",
       "      <td>0.040525</td>\n",
       "      <td>0.052182</td>\n",
       "      <td>0.066841</td>\n",
       "      <td>0.067272</td>\n",
       "      <td>0.047185</td>\n",
       "      <td>3.069298</td>\n",
       "    </tr>\n",
       "    <tr>\n",
       "      <th>24125</th>\n",
       "      <td>0.060083</td>\n",
       "      <td>0.067476</td>\n",
       "      <td>0.042396</td>\n",
       "      <td>0.072862</td>\n",
       "      <td>0.063898</td>\n",
       "      <td>0.064774</td>\n",
       "      <td>0.051436</td>\n",
       "      <td>0.301030</td>\n",
       "    </tr>\n",
       "    <tr>\n",
       "      <th>421324</th>\n",
       "      <td>0.060514</td>\n",
       "      <td>0.059713</td>\n",
       "      <td>0.070726</td>\n",
       "      <td>0.048991</td>\n",
       "      <td>0.063168</td>\n",
       "      <td>0.065999</td>\n",
       "      <td>0.063608</td>\n",
       "      <td>0.301030</td>\n",
       "    </tr>\n",
       "  </tbody>\n",
       "</table>\n",
       "<p>341036 rows × 8 columns</p>\n",
       "</div>"
      ],
      "text/plain": [
       "        campaign_id  group_id  age_group    gender  user_type  platform  \\\n",
       "id                                                                        \n",
       "148921     0.064972  0.058964   0.058979  0.076748   0.058101  0.064608   \n",
       "421695     0.062959  0.057963   0.053258  0.084822   0.061982  0.065355   \n",
       "404077     0.065451  0.063377   0.055670  0.044467   0.070165  0.063153   \n",
       "49202      0.068225  0.060133   0.081790  0.052788   0.065206  0.063335   \n",
       "348599     0.062655  0.071872   0.089473  0.078551   0.068743  0.066866   \n",
       "...             ...       ...        ...       ...        ...       ...   \n",
       "410359     0.060622  0.067146   0.091456  0.077340   0.061130  0.064453   \n",
       "403996     0.065305  0.053810   0.053451  0.048431   0.061702  0.064885   \n",
       "74562      0.060387  0.060852   0.040525  0.052182   0.066841  0.067272   \n",
       "24125      0.060083  0.067476   0.042396  0.072862   0.063898  0.064774   \n",
       "421324     0.060514  0.059713   0.070726  0.048991   0.063168  0.065999   \n",
       "\n",
       "        state_id  interactions  \n",
       "id                              \n",
       "148921  0.066816      2.361728  \n",
       "421695  0.059073      0.301030  \n",
       "404077  0.077831      2.913814  \n",
       "49202   0.055190      2.143015  \n",
       "348599  0.032520      3.231979  \n",
       "...          ...           ...  \n",
       "410359  0.056765      0.301030  \n",
       "403996  0.060694      0.301030  \n",
       "74562   0.047185      3.069298  \n",
       "24125   0.051436      0.301030  \n",
       "421324  0.063608      0.301030  \n",
       "\n",
       "[341036 rows x 8 columns]"
      ]
     },
     "execution_count": 1011,
     "metadata": {},
     "output_type": "execute_result"
    }
   ],
   "source": [
    "X_train_processed"
   ]
  },
  {
   "cell_type": "markdown",
   "id": "6f29cac7",
   "metadata": {},
   "source": [
    "**This is how our encoded test dataset looks like:**"
   ]
  },
  {
   "cell_type": "code",
   "execution_count": 1012,
   "id": "b02bb009",
   "metadata": {
    "ExecuteTime": {
     "end_time": "2022-02-01T21:01:06.671282Z",
     "start_time": "2022-02-01T21:01:06.655167Z"
    }
   },
   "outputs": [
    {
     "data": {
      "text/html": [
       "<div>\n",
       "<style scoped>\n",
       "    .dataframe tbody tr th:only-of-type {\n",
       "        vertical-align: middle;\n",
       "    }\n",
       "\n",
       "    .dataframe tbody tr th {\n",
       "        vertical-align: top;\n",
       "    }\n",
       "\n",
       "    .dataframe thead th {\n",
       "        text-align: right;\n",
       "    }\n",
       "</style>\n",
       "<table border=\"1\" class=\"dataframe\">\n",
       "  <thead>\n",
       "    <tr style=\"text-align: right;\">\n",
       "      <th></th>\n",
       "      <th>campaign_id</th>\n",
       "      <th>group_id</th>\n",
       "      <th>age_group</th>\n",
       "      <th>gender</th>\n",
       "      <th>user_type</th>\n",
       "      <th>platform</th>\n",
       "      <th>state_id</th>\n",
       "      <th>interactions</th>\n",
       "    </tr>\n",
       "    <tr>\n",
       "      <th>id</th>\n",
       "      <th></th>\n",
       "      <th></th>\n",
       "      <th></th>\n",
       "      <th></th>\n",
       "      <th></th>\n",
       "      <th></th>\n",
       "      <th></th>\n",
       "      <th></th>\n",
       "    </tr>\n",
       "  </thead>\n",
       "  <tbody>\n",
       "    <tr>\n",
       "      <th>137980</th>\n",
       "      <td>0.063397</td>\n",
       "      <td>0.075871</td>\n",
       "      <td>0.050993</td>\n",
       "      <td>0.076757</td>\n",
       "      <td>0.066394</td>\n",
       "      <td>0.062852</td>\n",
       "      <td>0.052820</td>\n",
       "      <td>3.821251</td>\n",
       "    </tr>\n",
       "    <tr>\n",
       "      <th>268057</th>\n",
       "      <td>0.063397</td>\n",
       "      <td>0.071778</td>\n",
       "      <td>0.050993</td>\n",
       "      <td>0.076757</td>\n",
       "      <td>0.065721</td>\n",
       "      <td>0.065366</td>\n",
       "      <td>0.055466</td>\n",
       "      <td>0.301030</td>\n",
       "    </tr>\n",
       "    <tr>\n",
       "      <th>97548</th>\n",
       "      <td>0.063397</td>\n",
       "      <td>0.069227</td>\n",
       "      <td>0.088960</td>\n",
       "      <td>0.076757</td>\n",
       "      <td>0.062918</td>\n",
       "      <td>0.062852</td>\n",
       "      <td>0.058394</td>\n",
       "      <td>3.533136</td>\n",
       "    </tr>\n",
       "    <tr>\n",
       "      <th>412151</th>\n",
       "      <td>0.063397</td>\n",
       "      <td>0.074661</td>\n",
       "      <td>0.040761</td>\n",
       "      <td>0.050327</td>\n",
       "      <td>0.062448</td>\n",
       "      <td>0.065366</td>\n",
       "      <td>0.035693</td>\n",
       "      <td>4.291458</td>\n",
       "    </tr>\n",
       "    <tr>\n",
       "      <th>164008</th>\n",
       "      <td>0.063397</td>\n",
       "      <td>0.064941</td>\n",
       "      <td>0.080211</td>\n",
       "      <td>0.050327</td>\n",
       "      <td>0.062448</td>\n",
       "      <td>0.065366</td>\n",
       "      <td>0.052979</td>\n",
       "      <td>3.745465</td>\n",
       "    </tr>\n",
       "    <tr>\n",
       "      <th>...</th>\n",
       "      <td>...</td>\n",
       "      <td>...</td>\n",
       "      <td>...</td>\n",
       "      <td>...</td>\n",
       "      <td>...</td>\n",
       "      <td>...</td>\n",
       "      <td>...</td>\n",
       "      <td>...</td>\n",
       "    </tr>\n",
       "    <tr>\n",
       "      <th>137183</th>\n",
       "      <td>0.063397</td>\n",
       "      <td>0.060465</td>\n",
       "      <td>0.050993</td>\n",
       "      <td>0.050327</td>\n",
       "      <td>0.064885</td>\n",
       "      <td>0.062852</td>\n",
       "      <td>0.049427</td>\n",
       "      <td>0.301030</td>\n",
       "    </tr>\n",
       "    <tr>\n",
       "      <th>291801</th>\n",
       "      <td>0.093611</td>\n",
       "      <td>0.117647</td>\n",
       "      <td>0.040761</td>\n",
       "      <td>0.076757</td>\n",
       "      <td>0.064885</td>\n",
       "      <td>0.069317</td>\n",
       "      <td>0.052979</td>\n",
       "      <td>0.301030</td>\n",
       "    </tr>\n",
       "    <tr>\n",
       "      <th>303190</th>\n",
       "      <td>0.063397</td>\n",
       "      <td>0.062682</td>\n",
       "      <td>0.050993</td>\n",
       "      <td>0.050327</td>\n",
       "      <td>0.065721</td>\n",
       "      <td>0.062852</td>\n",
       "      <td>0.058394</td>\n",
       "      <td>3.034227</td>\n",
       "    </tr>\n",
       "    <tr>\n",
       "      <th>122097</th>\n",
       "      <td>0.093611</td>\n",
       "      <td>0.061404</td>\n",
       "      <td>0.080211</td>\n",
       "      <td>0.076757</td>\n",
       "      <td>0.064690</td>\n",
       "      <td>0.065366</td>\n",
       "      <td>0.060691</td>\n",
       "      <td>0.301030</td>\n",
       "    </tr>\n",
       "    <tr>\n",
       "      <th>424970</th>\n",
       "      <td>0.063397</td>\n",
       "      <td>0.060396</td>\n",
       "      <td>0.080211</td>\n",
       "      <td>0.076757</td>\n",
       "      <td>0.064885</td>\n",
       "      <td>0.062852</td>\n",
       "      <td>0.072389</td>\n",
       "      <td>0.301030</td>\n",
       "    </tr>\n",
       "  </tbody>\n",
       "</table>\n",
       "<p>85260 rows × 8 columns</p>\n",
       "</div>"
      ],
      "text/plain": [
       "        campaign_id  group_id  age_group    gender  user_type  platform  \\\n",
       "id                                                                        \n",
       "137980     0.063397  0.075871   0.050993  0.076757   0.066394  0.062852   \n",
       "268057     0.063397  0.071778   0.050993  0.076757   0.065721  0.065366   \n",
       "97548      0.063397  0.069227   0.088960  0.076757   0.062918  0.062852   \n",
       "412151     0.063397  0.074661   0.040761  0.050327   0.062448  0.065366   \n",
       "164008     0.063397  0.064941   0.080211  0.050327   0.062448  0.065366   \n",
       "...             ...       ...        ...       ...        ...       ...   \n",
       "137183     0.063397  0.060465   0.050993  0.050327   0.064885  0.062852   \n",
       "291801     0.093611  0.117647   0.040761  0.076757   0.064885  0.069317   \n",
       "303190     0.063397  0.062682   0.050993  0.050327   0.065721  0.062852   \n",
       "122097     0.093611  0.061404   0.080211  0.076757   0.064690  0.065366   \n",
       "424970     0.063397  0.060396   0.080211  0.076757   0.064885  0.062852   \n",
       "\n",
       "        state_id  interactions  \n",
       "id                              \n",
       "137980  0.052820      3.821251  \n",
       "268057  0.055466      0.301030  \n",
       "97548   0.058394      3.533136  \n",
       "412151  0.035693      4.291458  \n",
       "164008  0.052979      3.745465  \n",
       "...          ...           ...  \n",
       "137183  0.049427      0.301030  \n",
       "291801  0.052979      0.301030  \n",
       "303190  0.058394      3.034227  \n",
       "122097  0.060691      0.301030  \n",
       "424970  0.072389      0.301030  \n",
       "\n",
       "[85260 rows x 8 columns]"
      ]
     },
     "execution_count": 1012,
     "metadata": {},
     "output_type": "execute_result"
    }
   ],
   "source": [
    "X_test_processed"
   ]
  },
  {
   "cell_type": "markdown",
   "id": "34af8f33",
   "metadata": {},
   "source": [
    "## Re-balancing `sale`"
   ]
  },
  {
   "cell_type": "markdown",
   "id": "f5ab94ad",
   "metadata": {},
   "source": [
    "Rebalancig the `sale` feature is very important during training, if\n",
    "we don't want our models to simply learn to predict the majority class.\n",
    "\n",
    "While choosing a scoring metric appropriate for imbalanced datasets is\n",
    "certainly important, that alone is often not enough.\n",
    "\n",
    "For this reason, in addition to choosing an appropriate metric, we will rebalance \n",
    "the target\n",
    "\n",
    "Because there're plenty of samples, I have opted for a downsampling strategy of\n",
    "the majority class (no sale).\n",
    "By reducing the size of the dataset all further analysis downstream\n",
    "(including modelling) will be sped up, which in the context of this submission\n",
    "was an important factor.\n",
    "\n",
    "There are many ways to down- or under-sample a majority class. \n",
    "By far a popular first choice is the random under-sampler, which, as the name\n",
    "suggests, randomply selects majority samples until a desired proportion\n",
    "of majority and minority samples is achieved.\n",
    "\n",
    "The random under-sampler is extremely fast and suitable for mixed data.\n",
    "Caution must be taken to sample sufficiently from the distribution of the\n",
    "majority class, so that its properties are preserved in the undersampled dataset.\n",
    "\n",
    "I have also tried other popular methods from `imblearn`, which had similar\n",
    "results and the cost of processing time.\n",
    "\n",
    "For this reason, the random under-sampler is provided in the main code."
   ]
  },
  {
   "cell_type": "code",
   "execution_count": 1013,
   "id": "fc39bf74",
   "metadata": {
    "ExecuteTime": {
     "end_time": "2022-02-01T21:14:44.999787Z",
     "start_time": "2022-02-01T21:14:44.997110Z"
    }
   },
   "outputs": [],
   "source": [
    "from imblearn.under_sampling import RandomUnderSampler, NearMiss, TomekLinks"
   ]
  },
  {
   "cell_type": "markdown",
   "id": "b75c2ada",
   "metadata": {},
   "source": [
    "### Random undersampler"
   ]
  },
  {
   "cell_type": "code",
   "execution_count": 1051,
   "id": "caceb6bc",
   "metadata": {
    "ExecuteTime": {
     "end_time": "2022-02-01T21:51:52.996212Z",
     "start_time": "2022-02-01T21:51:52.889379Z"
    }
   },
   "outputs": [],
   "source": [
    "rus = RandomUnderSampler(random_state=42, sampling_strategy=1, replacement=False)\n",
    "tomek = TomekLinks(sampling_strategy='all', n_jobs=-1)\n",
    "nearmiss = NearMiss(sampling_strategy=1, version=1, n_jobs=-1, n_neighbors=3)\n",
    "\n",
    "X_train_processed_resampled, y_train_processed_resampled = rus.fit_resample(X=X_train_processed, y=y_train)\n",
    "sample_indeces = rus.sample_indices_\n",
    "\n",
    "# X_train_processed_resampled, y_train_processed_resampled = tomek.fit_resample(X=X_train_processed, y=y_train)\n",
    "# sample_indeces = tomek.sample_indices_\n",
    "\n",
    "# X_train_processed_resampled, y_train_processed_resampled = nearmiss.fit_resample(X=X_train_processed, y=y_train)\n",
    "# sample_indeces = nearmiss.sample_indices_\n"
   ]
  },
  {
   "cell_type": "markdown",
   "id": "626f5422",
   "metadata": {},
   "source": [
    "And this is the rebalanced training data"
   ]
  },
  {
   "cell_type": "code",
   "execution_count": 1052,
   "id": "69bd3322",
   "metadata": {
    "ExecuteTime": {
     "end_time": "2022-02-01T21:51:56.625359Z",
     "start_time": "2022-02-01T21:51:56.612298Z"
    }
   },
   "outputs": [
    {
     "data": {
      "text/html": [
       "<div>\n",
       "<style scoped>\n",
       "    .dataframe tbody tr th:only-of-type {\n",
       "        vertical-align: middle;\n",
       "    }\n",
       "\n",
       "    .dataframe tbody tr th {\n",
       "        vertical-align: top;\n",
       "    }\n",
       "\n",
       "    .dataframe thead th {\n",
       "        text-align: right;\n",
       "    }\n",
       "</style>\n",
       "<table border=\"1\" class=\"dataframe\">\n",
       "  <thead>\n",
       "    <tr style=\"text-align: right;\">\n",
       "      <th></th>\n",
       "      <th>campaign_id</th>\n",
       "      <th>group_id</th>\n",
       "      <th>age_group</th>\n",
       "      <th>gender</th>\n",
       "      <th>user_type</th>\n",
       "      <th>platform</th>\n",
       "      <th>state_id</th>\n",
       "      <th>interactions</th>\n",
       "    </tr>\n",
       "  </thead>\n",
       "  <tbody>\n",
       "    <tr>\n",
       "      <th>0</th>\n",
       "      <td>0.063131</td>\n",
       "      <td>0.067561</td>\n",
       "      <td>0.089640</td>\n",
       "      <td>0.051975</td>\n",
       "      <td>0.066639</td>\n",
       "      <td>0.070138</td>\n",
       "      <td>0.055140</td>\n",
       "      <td>3.147058</td>\n",
       "    </tr>\n",
       "    <tr>\n",
       "      <th>1</th>\n",
       "      <td>0.062972</td>\n",
       "      <td>0.064806</td>\n",
       "      <td>0.081564</td>\n",
       "      <td>0.050470</td>\n",
       "      <td>0.064988</td>\n",
       "      <td>0.065714</td>\n",
       "      <td>0.053772</td>\n",
       "      <td>0.301030</td>\n",
       "    </tr>\n",
       "    <tr>\n",
       "      <th>2</th>\n",
       "      <td>0.060136</td>\n",
       "      <td>0.057024</td>\n",
       "      <td>0.037093</td>\n",
       "      <td>0.046639</td>\n",
       "      <td>0.072868</td>\n",
       "      <td>0.067875</td>\n",
       "      <td>0.056041</td>\n",
       "      <td>0.301030</td>\n",
       "    </tr>\n",
       "    <tr>\n",
       "      <th>3</th>\n",
       "      <td>0.060811</td>\n",
       "      <td>0.070793</td>\n",
       "      <td>0.049056</td>\n",
       "      <td>0.081000</td>\n",
       "      <td>0.071178</td>\n",
       "      <td>0.067022</td>\n",
       "      <td>0.058759</td>\n",
       "      <td>3.332438</td>\n",
       "    </tr>\n",
       "    <tr>\n",
       "      <th>4</th>\n",
       "      <td>0.063654</td>\n",
       "      <td>0.061823</td>\n",
       "      <td>0.079296</td>\n",
       "      <td>0.075416</td>\n",
       "      <td>0.069616</td>\n",
       "      <td>0.060174</td>\n",
       "      <td>0.057421</td>\n",
       "      <td>0.301030</td>\n",
       "    </tr>\n",
       "    <tr>\n",
       "      <th>...</th>\n",
       "      <td>...</td>\n",
       "      <td>...</td>\n",
       "      <td>...</td>\n",
       "      <td>...</td>\n",
       "      <td>...</td>\n",
       "      <td>...</td>\n",
       "      <td>...</td>\n",
       "      <td>...</td>\n",
       "    </tr>\n",
       "    <tr>\n",
       "      <th>43989</th>\n",
       "      <td>0.060076</td>\n",
       "      <td>0.057429</td>\n",
       "      <td>0.041666</td>\n",
       "      <td>0.076181</td>\n",
       "      <td>0.066933</td>\n",
       "      <td>0.064027</td>\n",
       "      <td>0.070167</td>\n",
       "      <td>0.301030</td>\n",
       "    </tr>\n",
       "    <tr>\n",
       "      <th>43990</th>\n",
       "      <td>0.063514</td>\n",
       "      <td>0.081057</td>\n",
       "      <td>0.096937</td>\n",
       "      <td>0.073002</td>\n",
       "      <td>0.066066</td>\n",
       "      <td>0.066857</td>\n",
       "      <td>0.138660</td>\n",
       "      <td>3.925157</td>\n",
       "    </tr>\n",
       "    <tr>\n",
       "      <th>43991</th>\n",
       "      <td>0.069869</td>\n",
       "      <td>0.067323</td>\n",
       "      <td>0.093553</td>\n",
       "      <td>0.075415</td>\n",
       "      <td>0.064779</td>\n",
       "      <td>0.062597</td>\n",
       "      <td>0.052129</td>\n",
       "      <td>3.189771</td>\n",
       "    </tr>\n",
       "    <tr>\n",
       "      <th>43992</th>\n",
       "      <td>0.060202</td>\n",
       "      <td>0.061539</td>\n",
       "      <td>0.050127</td>\n",
       "      <td>0.054611</td>\n",
       "      <td>0.061012</td>\n",
       "      <td>0.058063</td>\n",
       "      <td>0.135085</td>\n",
       "      <td>3.628593</td>\n",
       "    </tr>\n",
       "    <tr>\n",
       "      <th>43993</th>\n",
       "      <td>0.063960</td>\n",
       "      <td>0.057594</td>\n",
       "      <td>0.055589</td>\n",
       "      <td>0.051271</td>\n",
       "      <td>0.065744</td>\n",
       "      <td>0.061800</td>\n",
       "      <td>0.133364</td>\n",
       "      <td>3.729489</td>\n",
       "    </tr>\n",
       "  </tbody>\n",
       "</table>\n",
       "<p>43994 rows × 8 columns</p>\n",
       "</div>"
      ],
      "text/plain": [
       "       campaign_id  group_id  age_group    gender  user_type  platform  \\\n",
       "0         0.063131  0.067561   0.089640  0.051975   0.066639  0.070138   \n",
       "1         0.062972  0.064806   0.081564  0.050470   0.064988  0.065714   \n",
       "2         0.060136  0.057024   0.037093  0.046639   0.072868  0.067875   \n",
       "3         0.060811  0.070793   0.049056  0.081000   0.071178  0.067022   \n",
       "4         0.063654  0.061823   0.079296  0.075416   0.069616  0.060174   \n",
       "...            ...       ...        ...       ...        ...       ...   \n",
       "43989     0.060076  0.057429   0.041666  0.076181   0.066933  0.064027   \n",
       "43990     0.063514  0.081057   0.096937  0.073002   0.066066  0.066857   \n",
       "43991     0.069869  0.067323   0.093553  0.075415   0.064779  0.062597   \n",
       "43992     0.060202  0.061539   0.050127  0.054611   0.061012  0.058063   \n",
       "43993     0.063960  0.057594   0.055589  0.051271   0.065744  0.061800   \n",
       "\n",
       "       state_id  interactions  \n",
       "0      0.055140      3.147058  \n",
       "1      0.053772      0.301030  \n",
       "2      0.056041      0.301030  \n",
       "3      0.058759      3.332438  \n",
       "4      0.057421      0.301030  \n",
       "...         ...           ...  \n",
       "43989  0.070167      0.301030  \n",
       "43990  0.138660      3.925157  \n",
       "43991  0.052129      3.189771  \n",
       "43992  0.135085      3.628593  \n",
       "43993  0.133364      3.729489  \n",
       "\n",
       "[43994 rows x 8 columns]"
      ]
     },
     "execution_count": 1052,
     "metadata": {},
     "output_type": "execute_result"
    }
   ],
   "source": [
    "X_train_processed_resampled"
   ]
  },
  {
   "cell_type": "markdown",
   "id": "7f471116",
   "metadata": {
    "ExecuteTime": {
     "end_time": "2022-02-01T21:49:21.170092Z",
     "start_time": "2022-02-01T21:49:21.166591Z"
    }
   },
   "source": [
    "corresponding to the original:"
   ]
  },
  {
   "cell_type": "code",
   "execution_count": 1054,
   "id": "b402e473",
   "metadata": {
    "ExecuteTime": {
     "end_time": "2022-02-01T21:52:40.263703Z",
     "start_time": "2022-02-01T21:52:40.232319Z"
    }
   },
   "outputs": [
    {
     "data": {
      "text/html": [
       "<div>\n",
       "<style scoped>\n",
       "    .dataframe tbody tr th:only-of-type {\n",
       "        vertical-align: middle;\n",
       "    }\n",
       "\n",
       "    .dataframe tbody tr th {\n",
       "        vertical-align: top;\n",
       "    }\n",
       "\n",
       "    .dataframe thead th {\n",
       "        text-align: right;\n",
       "    }\n",
       "</style>\n",
       "<table border=\"1\" class=\"dataframe\">\n",
       "  <thead>\n",
       "    <tr style=\"text-align: right;\">\n",
       "      <th></th>\n",
       "      <th>campaign_id</th>\n",
       "      <th>group_id</th>\n",
       "      <th>age_group</th>\n",
       "      <th>gender</th>\n",
       "      <th>user_type</th>\n",
       "      <th>platform</th>\n",
       "      <th>state_id</th>\n",
       "      <th>interactions</th>\n",
       "    </tr>\n",
       "    <tr>\n",
       "      <th>id</th>\n",
       "      <th></th>\n",
       "      <th></th>\n",
       "      <th></th>\n",
       "      <th></th>\n",
       "      <th></th>\n",
       "      <th></th>\n",
       "      <th></th>\n",
       "      <th></th>\n",
       "    </tr>\n",
       "  </thead>\n",
       "  <tbody>\n",
       "    <tr>\n",
       "      <th>167697</th>\n",
       "      <td>3</td>\n",
       "      <td>347</td>\n",
       "      <td>45-49</td>\n",
       "      <td>M</td>\n",
       "      <td>0</td>\n",
       "      <td>desktop</td>\n",
       "      <td>10</td>\n",
       "      <td>1403</td>\n",
       "    </tr>\n",
       "    <tr>\n",
       "      <th>91754</th>\n",
       "      <td>3</td>\n",
       "      <td>414</td>\n",
       "      <td>45-49</td>\n",
       "      <td>M</td>\n",
       "      <td>2</td>\n",
       "      <td>not available</td>\n",
       "      <td>10</td>\n",
       "      <td>2</td>\n",
       "    </tr>\n",
       "    <tr>\n",
       "      <th>157719</th>\n",
       "      <td>3</td>\n",
       "      <td>352</td>\n",
       "      <td>30-34</td>\n",
       "      <td>M</td>\n",
       "      <td>8</td>\n",
       "      <td>desktop</td>\n",
       "      <td>10</td>\n",
       "      <td>2</td>\n",
       "    </tr>\n",
       "    <tr>\n",
       "      <th>63640</th>\n",
       "      <td>3</td>\n",
       "      <td>290</td>\n",
       "      <td>35-39</td>\n",
       "      <td>F</td>\n",
       "      <td>4</td>\n",
       "      <td>desktop</td>\n",
       "      <td>10</td>\n",
       "      <td>2150</td>\n",
       "    </tr>\n",
       "    <tr>\n",
       "      <th>104954</th>\n",
       "      <td>3</td>\n",
       "      <td>466</td>\n",
       "      <td>45-49</td>\n",
       "      <td>F</td>\n",
       "      <td>2</td>\n",
       "      <td>not available</td>\n",
       "      <td>10</td>\n",
       "      <td>2</td>\n",
       "    </tr>\n",
       "    <tr>\n",
       "      <th>...</th>\n",
       "      <td>...</td>\n",
       "      <td>...</td>\n",
       "      <td>...</td>\n",
       "      <td>...</td>\n",
       "      <td>...</td>\n",
       "      <td>...</td>\n",
       "      <td>...</td>\n",
       "      <td>...</td>\n",
       "    </tr>\n",
       "    <tr>\n",
       "      <th>308051</th>\n",
       "      <td>3</td>\n",
       "      <td>404</td>\n",
       "      <td>30-34</td>\n",
       "      <td>F</td>\n",
       "      <td>3</td>\n",
       "      <td>not available</td>\n",
       "      <td>28</td>\n",
       "      <td>2</td>\n",
       "    </tr>\n",
       "    <tr>\n",
       "      <th>286593</th>\n",
       "      <td>3</td>\n",
       "      <td>311</td>\n",
       "      <td>45-49</td>\n",
       "      <td>F</td>\n",
       "      <td>0</td>\n",
       "      <td>desktop</td>\n",
       "      <td>27</td>\n",
       "      <td>8417</td>\n",
       "    </tr>\n",
       "    <tr>\n",
       "      <th>367150</th>\n",
       "      <td>3</td>\n",
       "      <td>403</td>\n",
       "      <td>45-49</td>\n",
       "      <td>F</td>\n",
       "      <td>8</td>\n",
       "      <td>not available</td>\n",
       "      <td>16</td>\n",
       "      <td>1548</td>\n",
       "    </tr>\n",
       "    <tr>\n",
       "      <th>204248</th>\n",
       "      <td>3</td>\n",
       "      <td>414</td>\n",
       "      <td>35-39</td>\n",
       "      <td>M</td>\n",
       "      <td>2</td>\n",
       "      <td>not available</td>\n",
       "      <td>27</td>\n",
       "      <td>4252</td>\n",
       "    </tr>\n",
       "    <tr>\n",
       "      <th>89914</th>\n",
       "      <td>3</td>\n",
       "      <td>392</td>\n",
       "      <td>35-39</td>\n",
       "      <td>M</td>\n",
       "      <td>0</td>\n",
       "      <td>desktop</td>\n",
       "      <td>27</td>\n",
       "      <td>5364</td>\n",
       "    </tr>\n",
       "  </tbody>\n",
       "</table>\n",
       "<p>43994 rows × 8 columns</p>\n",
       "</div>"
      ],
      "text/plain": [
       "       campaign_id group_id age_group gender user_type       platform  \\\n",
       "id                                                                      \n",
       "167697           3      347     45-49      M         0        desktop   \n",
       "91754            3      414     45-49      M         2  not available   \n",
       "157719           3      352     30-34      M         8        desktop   \n",
       "63640            3      290     35-39      F         4        desktop   \n",
       "104954           3      466     45-49      F         2  not available   \n",
       "...            ...      ...       ...    ...       ...            ...   \n",
       "308051           3      404     30-34      F         3  not available   \n",
       "286593           3      311     45-49      F         0        desktop   \n",
       "367150           3      403     45-49      F         8  not available   \n",
       "204248           3      414     35-39      M         2  not available   \n",
       "89914            3      392     35-39      M         0        desktop   \n",
       "\n",
       "       state_id  interactions  \n",
       "id                             \n",
       "167697       10          1403  \n",
       "91754        10             2  \n",
       "157719       10             2  \n",
       "63640        10          2150  \n",
       "104954       10             2  \n",
       "...         ...           ...  \n",
       "308051       28             2  \n",
       "286593       27          8417  \n",
       "367150       16          1548  \n",
       "204248       27          4252  \n",
       "89914        27          5364  \n",
       "\n",
       "[43994 rows x 8 columns]"
      ]
     },
     "execution_count": 1054,
     "metadata": {},
     "output_type": "execute_result"
    }
   ],
   "source": [
    "X_train.iloc[sample_indeces]"
   ]
  },
  {
   "cell_type": "code",
   "execution_count": 1023,
   "id": "88eb145d",
   "metadata": {
    "ExecuteTime": {
     "end_time": "2022-02-01T21:20:04.696892Z",
     "start_time": "2022-02-01T21:20:04.680645Z"
    }
   },
   "outputs": [
    {
     "data": {
      "text/markdown": [
       "**Ratio of positive targets in original training data is: 0.06450052193903283**"
      ],
      "text/plain": [
       "<IPython.core.display.Markdown object>"
      ]
     },
     "metadata": {},
     "output_type": "display_data"
    },
    {
     "data": {
      "text/markdown": [
       "**Ratio of positive targets in test data is: 0.06449683321604503**"
      ],
      "text/plain": [
       "<IPython.core.display.Markdown object>"
      ]
     },
     "metadata": {},
     "output_type": "display_data"
    },
    {
     "data": {
      "text/markdown": [
       "**Ratio of positive targets in rebalanced training data is: 0.5**"
      ],
      "text/plain": [
       "<IPython.core.display.Markdown object>"
      ]
     },
     "metadata": {},
     "output_type": "display_data"
    }
   ],
   "source": [
    "t = y_train_processed_resampled.groupby(by='sale').size()\n",
    "t2 = y_train.groupby(by='sale').size()\n",
    "t3 = y_test.groupby(by='sale').size()\n",
    "\n",
    "ratio_positives = t[1] / (t[0] + t[1])\n",
    "ratio_positives_orig = t2[1] / (t2[0] + t2[1])\n",
    "ratio_positives_test = t3[1] / (t3[0] + t3[1])\n",
    "\n",
    "display(Markdown(f\"**Ratio of positive targets in original training data is: {ratio_positives_orig}**\"))\n",
    "display(Markdown(f\"**Ratio of positive targets in test data is: {ratio_positives_test}**\"))\n",
    "display(Markdown(f\"**Ratio of positive targets in rebalanced training data is: {ratio_positives}**\"))"
   ]
  },
  {
   "cell_type": "markdown",
   "id": "3ebd4094",
   "metadata": {},
   "source": [
    "As we see the rebalanced training data has an equal proportion of\n",
    "minority and majority samples"
   ]
  },
  {
   "cell_type": "code",
   "execution_count": 906,
   "id": "3021d075",
   "metadata": {},
   "outputs": [],
   "source": [
    "def reduce_column(df, column, q):  \n",
    "    \n",
    "    column_freqs = pd.DataFrame(df[column].value_counts())\n",
    "    column_freqs = column_freqs.reset_index().rename(columns={'index': column,\n",
    "                                                               column: 'count'})\n",
    "    \n",
    "    \n",
    "    quantile = np.int(np.floor(np.quantile(column_freqs['count'], q=q/100)))\n",
    "    threshold_mask = column_freqs['count'] > quantile\n",
    "    \n",
    "    \n",
    "    df[column] = np.where(df[column].isin(column_freqs[~threshold_mask][column]), 'Other', df[column])\n",
    "    \n",
    "    return pd.DataFrame(df, columns=df.columns)\n",
    "\n",
    "# the last two steps are optional, comment out if needed\n",
    "data_preparation_pipeline = Pipeline([\n",
    "    (\"log_trans_interactions\", FunctionTransformer(log_trans)),\n",
    "    (\"reduce_group_id\", FunctionTransformer(reduce_column, kw_args={'q': 99, 'column': 'group_id'})),\n",
    "    (\"reduce_user_type\", FunctionTransformer(reduce_column, kw_args={'q': 80, 'column': 'user_type'}))            \n",
    "])"
   ]
  },
  {
   "cell_type": "code",
   "execution_count": 907,
   "id": "2d972aab",
   "metadata": {},
   "outputs": [],
   "source": [
    "# the last two steps are optional, comment out if needed\n",
    "data_preparation_pipeline = Pipeline([\n",
    "    (\"log_trans_interactions\", FunctionTransformer(log_trans)),\n",
    "    (\"reduce_group_id\", FunctionTransformer(reduce_column, kw_args={'q': 99, 'column': 'group_id'})),\n",
    "    (\"reduce_user_type\", FunctionTransformer(reduce_column, kw_args={'q': 80, 'column': 'user_type'}))            \n",
    "])\n"
   ]
  },
  {
   "cell_type": "markdown",
   "id": "aca63a0f",
   "metadata": {},
   "source": [
    "------"
   ]
  },
  {
   "cell_type": "markdown",
   "id": "b27c781b",
   "metadata": {},
   "source": [
    "# Modelling"
   ]
  },
  {
   "cell_type": "markdown",
   "id": "6c8842a6",
   "metadata": {},
   "source": [
    "Before we begin modelling, we need to define the performance metric to optimize.\n",
    "\n",
    "The *f1 score* and *balanced accuracy* are suitable metrics for imbalanced datasets.\n",
    "Even though we rebalanced our training data, we still want to be sensitive\n",
    "to trivial predictions on the (imbalanced) test data.\n",
    "\n",
    "For this reason the *f1 score* will be used as a performance metric with\n",
    "the added convenience that to compute it we will require the *precision*\n",
    "and *recall* of our classifiers. \n",
    "\n",
    "These are important indicators, specifically when a tradeoff between false positives\n",
    "and true negatives is an integral part of the business question, as it is here.\n",
    "\n",
    "\n",
    "Essentially low precision, but high recall, will allows us to identify interested\n",
    "customers well, at the expense of maybe bothering uninterested customers.\n",
    "\n",
    "And vice versa, high precision and low recall will ensure that we only spend effort in\n",
    "contacting \"sure\" sales, at the expense of possibly omitting others with buying inclinations.\n",
    "\n",
    "----"
   ]
  },
  {
   "cell_type": "markdown",
   "id": "ea16b886",
   "metadata": {},
   "source": [
    "As a first point, let's calculate the expected f1 score of a dummy classifier that\n",
    "always predicts the minority class on the test set (i.e. recall is 1).\n",
    "Such a classifier does not learn from the training data at all.\n",
    "\n",
    "This will serve as our lowest possible benchmark.\n",
    "If a model performs worse than that, we will know there've been serious\n",
    "issues during training.\n"
   ]
  },
  {
   "cell_type": "code",
   "execution_count": 1046,
   "id": "2d4803ad",
   "metadata": {
    "ExecuteTime": {
     "end_time": "2022-02-01T21:40:18.227761Z",
     "start_time": "2022-02-01T21:40:18.222152Z"
    }
   },
   "outputs": [
    {
     "data": {
      "text/markdown": [
       "**Expected F1 Score of a dummy classifier predicting always positive is: 0.12117806498529071**"
      ],
      "text/plain": [
       "<IPython.core.display.Markdown object>"
      ]
     },
     "metadata": {},
     "output_type": "display_data"
    }
   ],
   "source": [
    "dummy_clf_f1 = 2*ratio_positives_test / (ratio_positives_test + 1)\n",
    "\n",
    "display(Markdown(\"**Expected F1 Score of a dummy classifier predicting \"\n",
    "                 f\"always positive is: {dummy_clf_f1}**\"))"
   ]
  },
  {
   "cell_type": "markdown",
   "id": "c06e4f11",
   "metadata": {},
   "source": [
    "## Baseline Models"
   ]
  },
  {
   "cell_type": "markdown",
   "id": "1c0de440",
   "metadata": {},
   "source": [
    "In addition to"
   ]
  },
  {
   "cell_type": "markdown",
   "id": "b578ec66",
   "metadata": {},
   "source": [
    "### Statsmodels Logistics Regression"
   ]
  },
  {
   "cell_type": "code",
   "execution_count": 1195,
   "id": "afe3ef91",
   "metadata": {
    "ExecuteTime": {
     "end_time": "2022-02-01T23:10:36.146647Z",
     "start_time": "2022-02-01T23:10:36.098124Z"
    }
   },
   "outputs": [],
   "source": [
    "sm_train_data = X_train.iloc[sample_indeces].join(y_train.iloc[sample_indeces])\n",
    "sm_test_data = X_test.join(y_test)\n",
    "\n",
    "\n",
    "\"\"\"\n",
    "Uncomment below if target-coding is desired (**)\n",
    "\"\"\";\n",
    "\n",
    "# sm_train_data = X_train_processed_resampled.join(y_train_processed_resampled)\n",
    "# sm_test_data = X_test_processed.join(y_test)\n",
    "\n"
   ]
  },
  {
   "cell_type": "code",
   "execution_count": 1168,
   "id": "8fd68a0a",
   "metadata": {
    "ExecuteTime": {
     "end_time": "2022-02-01T22:42:06.472920Z",
     "start_time": "2022-02-01T22:42:05.541541Z"
    }
   },
   "outputs": [
    {
     "name": "stdout",
     "output_type": "stream",
     "text": [
      "Optimization terminated successfully.\n",
      "         Current function value: 0.653719\n",
      "         Iterations 5\n"
     ]
    }
   ],
   "source": [
    "# we drop the high cardinality group_id and user_type features\n",
    "\n",
    "formula = ('sale ~ C(campaign_id, Treatment(reference=\"3\")) + '\n",
    "           #'C(group_id) + '\n",
    "           'C(age_group, Treatment(reference=\"30-34\")) + '\n",
    "           'C(gender, Treatment(reference=\"F\")) + '\n",
    "           # 'C(user_type) +'\n",
    "           'C(platform) + '\n",
    "           'C(state_id) + '\n",
    "           'interactions')\n",
    "\n",
    "\n",
    "\"\"\"\n",
    "Uncomment below if target-coding is desired (**)\n",
    "\"\"\";\n",
    "\n",
    "# formula = ('sale ~ campaign_id + '\n",
    "#            'group_id + '\n",
    "#            'age_group + '\n",
    "#            'gender + '\n",
    "#            'user_type +'\n",
    "#            'platform  + '\n",
    "#            'state_id + '\n",
    "#            'interactions')\n",
    "\n",
    "\n",
    "\n",
    "log_reg_sm = smf.logit(formula=formula, data=sm_train_data).fit()"
   ]
  },
  {
   "cell_type": "code",
   "execution_count": 1169,
   "id": "f90608bd",
   "metadata": {
    "ExecuteTime": {
     "end_time": "2022-02-01T22:42:14.648195Z",
     "start_time": "2022-02-01T22:42:14.641916Z"
    }
   },
   "outputs": [],
   "source": [
    "odds_ratios = pd.DataFrame(\n",
    "    {\n",
    "        \"OR\": log_reg_sm.params,\n",
    "        \"Lower CI\": log_reg_sm.conf_int()[0],\n",
    "        \"Upper CI\": log_reg_sm.conf_int()[1],\n",
    "    }\n",
    ")\n",
    "odds_ratios = np.exp(odds_ratios)\n",
    "\n",
    "odds_ratios[\"p-values\"] = log_reg_sm.pvalues"
   ]
  },
  {
   "cell_type": "code",
   "execution_count": 1134,
   "id": "823a6766",
   "metadata": {
    "ExecuteTime": {
     "end_time": "2022-02-01T22:26:03.759473Z",
     "start_time": "2022-02-01T22:26:03.757001Z"
    }
   },
   "outputs": [],
   "source": [
    "# log_reg_sm.summary()"
   ]
  },
  {
   "cell_type": "markdown",
   "id": "5b1fe28a",
   "metadata": {},
   "source": [
    "Let's see only the odds ratios corresponding to categories with considerable\n",
    "statistical significance\n"
   ]
  },
  {
   "cell_type": "code",
   "execution_count": 1170,
   "id": "f12f9a8a",
   "metadata": {
    "ExecuteTime": {
     "end_time": "2022-02-01T22:42:22.445514Z",
     "start_time": "2022-02-01T22:42:22.434202Z"
    }
   },
   "outputs": [
    {
     "data": {
      "text/html": [
       "<div>\n",
       "<style scoped>\n",
       "    .dataframe tbody tr th:only-of-type {\n",
       "        vertical-align: middle;\n",
       "    }\n",
       "\n",
       "    .dataframe tbody tr th {\n",
       "        vertical-align: top;\n",
       "    }\n",
       "\n",
       "    .dataframe thead th {\n",
       "        text-align: right;\n",
       "    }\n",
       "</style>\n",
       "<table border=\"1\" class=\"dataframe\">\n",
       "  <thead>\n",
       "    <tr style=\"text-align: right;\">\n",
       "      <th></th>\n",
       "      <th>OR</th>\n",
       "      <th>Lower CI</th>\n",
       "      <th>Upper CI</th>\n",
       "      <th>p-values</th>\n",
       "    </tr>\n",
       "  </thead>\n",
       "  <tbody>\n",
       "    <tr>\n",
       "      <th>Intercept</th>\n",
       "      <td>0.462120</td>\n",
       "      <td>0.343505</td>\n",
       "      <td>0.621693</td>\n",
       "      <td>3.385482e-07</td>\n",
       "    </tr>\n",
       "    <tr>\n",
       "      <th>C(campaign_id, Treatment(reference=\"3\"))[T.2]</th>\n",
       "      <td>1.493511</td>\n",
       "      <td>1.347583</td>\n",
       "      <td>1.655242</td>\n",
       "      <td>2.063944e-14</td>\n",
       "    </tr>\n",
       "    <tr>\n",
       "      <th>C(age_group, Treatment(reference=\"30-34\"))[T.35-39]</th>\n",
       "      <td>1.315446</td>\n",
       "      <td>1.237273</td>\n",
       "      <td>1.398559</td>\n",
       "      <td>1.768920e-18</td>\n",
       "    </tr>\n",
       "    <tr>\n",
       "      <th>C(age_group, Treatment(reference=\"30-34\"))[T.40-44]</th>\n",
       "      <td>2.372429</td>\n",
       "      <td>2.232821</td>\n",
       "      <td>2.520767</td>\n",
       "      <td>1.574143e-171</td>\n",
       "    </tr>\n",
       "    <tr>\n",
       "      <th>C(age_group, Treatment(reference=\"30-34\"))[T.45-49]</th>\n",
       "      <td>2.518744</td>\n",
       "      <td>2.389119</td>\n",
       "      <td>2.655401</td>\n",
       "      <td>2.400744e-257</td>\n",
       "    </tr>\n",
       "    <tr>\n",
       "      <th>C(gender, Treatment(reference=\"F\"))[T.M]</th>\n",
       "      <td>0.698323</td>\n",
       "      <td>0.669114</td>\n",
       "      <td>0.728808</td>\n",
       "      <td>5.940879e-61</td>\n",
       "    </tr>\n",
       "    <tr>\n",
       "      <th>C(state_id)[T.14]</th>\n",
       "      <td>2.328141</td>\n",
       "      <td>1.623605</td>\n",
       "      <td>3.338399</td>\n",
       "      <td>4.317670e-06</td>\n",
       "    </tr>\n",
       "    <tr>\n",
       "      <th>C(state_id)[T.19]</th>\n",
       "      <td>2.041204</td>\n",
       "      <td>1.492378</td>\n",
       "      <td>2.791862</td>\n",
       "      <td>7.981433e-06</td>\n",
       "    </tr>\n",
       "    <tr>\n",
       "      <th>C(state_id)[T.20]</th>\n",
       "      <td>1.925581</td>\n",
       "      <td>1.408468</td>\n",
       "      <td>2.632548</td>\n",
       "      <td>4.016000e-05</td>\n",
       "    </tr>\n",
       "    <tr>\n",
       "      <th>C(state_id)[T.22]</th>\n",
       "      <td>1.932965</td>\n",
       "      <td>1.396582</td>\n",
       "      <td>2.675357</td>\n",
       "      <td>7.061622e-05</td>\n",
       "    </tr>\n",
       "    <tr>\n",
       "      <th>C(state_id)[T.24]</th>\n",
       "      <td>3.687529</td>\n",
       "      <td>2.625288</td>\n",
       "      <td>5.179573</td>\n",
       "      <td>5.162805e-14</td>\n",
       "    </tr>\n",
       "    <tr>\n",
       "      <th>C(state_id)[T.25]</th>\n",
       "      <td>3.312890</td>\n",
       "      <td>2.423081</td>\n",
       "      <td>4.529457</td>\n",
       "      <td>6.103484e-14</td>\n",
       "    </tr>\n",
       "    <tr>\n",
       "      <th>C(state_id)[T.27]</th>\n",
       "      <td>3.008124</td>\n",
       "      <td>2.229272</td>\n",
       "      <td>4.059087</td>\n",
       "      <td>5.858058e-13</td>\n",
       "    </tr>\n",
       "    <tr>\n",
       "      <th>C(state_id)[T.28]</th>\n",
       "      <td>2.169541</td>\n",
       "      <td>1.598663</td>\n",
       "      <td>2.944278</td>\n",
       "      <td>6.645274e-07</td>\n",
       "    </tr>\n",
       "  </tbody>\n",
       "</table>\n",
       "</div>"
      ],
      "text/plain": [
       "                                                          OR  Lower CI  \\\n",
       "Intercept                                           0.462120  0.343505   \n",
       "C(campaign_id, Treatment(reference=\"3\"))[T.2]       1.493511  1.347583   \n",
       "C(age_group, Treatment(reference=\"30-34\"))[T.35...  1.315446  1.237273   \n",
       "C(age_group, Treatment(reference=\"30-34\"))[T.40...  2.372429  2.232821   \n",
       "C(age_group, Treatment(reference=\"30-34\"))[T.45...  2.518744  2.389119   \n",
       "C(gender, Treatment(reference=\"F\"))[T.M]            0.698323  0.669114   \n",
       "C(state_id)[T.14]                                   2.328141  1.623605   \n",
       "C(state_id)[T.19]                                   2.041204  1.492378   \n",
       "C(state_id)[T.20]                                   1.925581  1.408468   \n",
       "C(state_id)[T.22]                                   1.932965  1.396582   \n",
       "C(state_id)[T.24]                                   3.687529  2.625288   \n",
       "C(state_id)[T.25]                                   3.312890  2.423081   \n",
       "C(state_id)[T.27]                                   3.008124  2.229272   \n",
       "C(state_id)[T.28]                                   2.169541  1.598663   \n",
       "\n",
       "                                                    Upper CI       p-values  \n",
       "Intercept                                           0.621693   3.385482e-07  \n",
       "C(campaign_id, Treatment(reference=\"3\"))[T.2]       1.655242   2.063944e-14  \n",
       "C(age_group, Treatment(reference=\"30-34\"))[T.35...  1.398559   1.768920e-18  \n",
       "C(age_group, Treatment(reference=\"30-34\"))[T.40...  2.520767  1.574143e-171  \n",
       "C(age_group, Treatment(reference=\"30-34\"))[T.45...  2.655401  2.400744e-257  \n",
       "C(gender, Treatment(reference=\"F\"))[T.M]            0.728808   5.940879e-61  \n",
       "C(state_id)[T.14]                                   3.338399   4.317670e-06  \n",
       "C(state_id)[T.19]                                   2.791862   7.981433e-06  \n",
       "C(state_id)[T.20]                                   2.632548   4.016000e-05  \n",
       "C(state_id)[T.22]                                   2.675357   7.061622e-05  \n",
       "C(state_id)[T.24]                                   5.179573   5.162805e-14  \n",
       "C(state_id)[T.25]                                   4.529457   6.103484e-14  \n",
       "C(state_id)[T.27]                                   4.059087   5.858058e-13  \n",
       "C(state_id)[T.28]                                   2.944278   6.645274e-07  "
      ]
     },
     "execution_count": 1170,
     "metadata": {},
     "output_type": "execute_result"
    }
   ],
   "source": [
    "odds_ratios[odds_ratios['p-values'] < 0.01]"
   ]
  },
  {
   "cell_type": "markdown",
   "id": "92fd04e4",
   "metadata": {},
   "source": [
    "**Already here we see some interesting insights**:\n",
    "\n",
    "\n",
    "  1. Four features appear to be most prominent - `campain_id`, `age_group`, `gender` and `state_id`.\n",
    "     Incidently, three of those we have already hypothesized to be correlated with the\n",
    "     target in our visual inspection with `pandas_profiling`\n",
    "     \n",
    "\n",
    "  2. The odds ratios increase monotonously with age. The probability of sale is 2.52 times higher\n",
    "     among customers in the 45-49 age group, compared to the treatment 30-34 age\n",
    "     group. Likewise for the other age groups. \n",
    "     This is reasonable, as it could be argued that younger people are less interested\n",
    "     in buying insurance than older ones\n",
    "     \n",
    "     \n",
    "  3. Males have 0.7 times **less** probability than females of buying insurace.\n",
    "     That is interesting, but without knowing more context, it's hard to reality check it. \n",
    "     However, it may be related to aggresiveness and risk aversion\n",
    "     \n",
    "     \n",
    "  4. Certain state_ids, namely 24, 25 and 27 almost triple the probability of a sale.\n",
    "     That's quite interesting and deservers further investigations with more context"
   ]
  },
  {
   "cell_type": "markdown",
   "id": "070585f2",
   "metadata": {},
   "source": [
    "### Logistics Regression"
   ]
  },
  {
   "cell_type": "code",
   "execution_count": 1136,
   "id": "b0ddd220",
   "metadata": {
    "ExecuteTime": {
     "end_time": "2022-02-01T22:33:58.745948Z",
     "start_time": "2022-02-01T22:33:58.741648Z"
    }
   },
   "outputs": [],
   "source": [
    "from sklearn.linear_model import LogisticRegression\n",
    "\n",
    "clf_log_reg = LogisticRegression(penalty='l2',\n",
    "                                 random_state=42,\n",
    "                                 class_weight='balanced',\n",
    "                                 max_iter=300, n_jobs=-1)\n",
    "\n",
    "lr_pipe = Pipeline([(\"lr_classifier\", clf_log_reg)])\n",
    "\n",
    "\n",
    "\n",
    "parameters = {'lr_classifier__C': [0.05, 0.1, 0.5, 1],\n",
    "              'lr_classifier__tol': [0.0001, 0.001]}\n",
    "\n",
    "clf_grid_search = GridSearchCV(lr_pipe,\n",
    "                               param_grid=parameters,\n",
    "                               scoring='f1',\n",
    "                               refit=True,\n",
    "                               cv=5,\n",
    "                               n_jobs=-1,\n",
    "                               verbose=0)"
   ]
  },
  {
   "cell_type": "code",
   "execution_count": 1137,
   "id": "bb1df7ae",
   "metadata": {
    "ExecuteTime": {
     "end_time": "2022-02-01T22:34:04.727046Z",
     "start_time": "2022-02-01T22:34:00.035776Z"
    }
   },
   "outputs": [],
   "source": [
    "clf_grid_search.fit(X_train_processed_resampled,\n",
    "                    y_train_processed_resampled['sale']);"
   ]
  },
  {
   "cell_type": "code",
   "execution_count": 1140,
   "id": "9fd2a97d",
   "metadata": {
    "ExecuteTime": {
     "end_time": "2022-02-01T22:34:26.853029Z",
     "start_time": "2022-02-01T22:34:26.850136Z"
    }
   },
   "outputs": [],
   "source": [
    "best_estimator_lr = clf_grid_search.best_estimator_"
   ]
  },
  {
   "cell_type": "markdown",
   "id": "ef5e33dd",
   "metadata": {},
   "source": [
    "### Random Forest Classifier"
   ]
  },
  {
   "cell_type": "code",
   "execution_count": 1141,
   "id": "610ca459",
   "metadata": {
    "ExecuteTime": {
     "end_time": "2022-02-01T22:34:28.784407Z",
     "start_time": "2022-02-01T22:34:28.781967Z"
    }
   },
   "outputs": [],
   "source": [
    "from sklearn.ensemble import RandomForestClassifier"
   ]
  },
  {
   "cell_type": "code",
   "execution_count": 1188,
   "id": "3ec9d6ab",
   "metadata": {
    "ExecuteTime": {
     "end_time": "2022-02-01T22:56:18.748462Z",
     "start_time": "2022-02-01T22:56:18.654502Z"
    }
   },
   "outputs": [],
   "source": [
    "clf_rf = RandomForestClassifier(n_estimators=100, bootstrap=True, oob_score=True, n_jobs=-1, random_state=42)\n",
    "rf_pipe = Pipeline([(\"rf_classifier\", clf_rf)])"
   ]
  },
  {
   "cell_type": "code",
   "execution_count": 1189,
   "id": "b5859fd1",
   "metadata": {
    "ExecuteTime": {
     "end_time": "2022-02-01T22:56:22.877759Z",
     "start_time": "2022-02-01T22:56:19.087227Z"
    }
   },
   "outputs": [],
   "source": [
    "rf_pipe.fit(X_train_processed_resampled, y_train_processed_resampled['sale']);"
   ]
  },
  {
   "cell_type": "markdown",
   "id": "363addd7",
   "metadata": {},
   "source": [
    "### Comparison"
   ]
  },
  {
   "cell_type": "code",
   "execution_count": 1146,
   "id": "9ad88e0b",
   "metadata": {
    "ExecuteTime": {
     "end_time": "2022-02-01T22:35:10.338108Z",
     "start_time": "2022-02-01T22:35:10.334983Z"
    }
   },
   "outputs": [],
   "source": [
    "pos_label_index_lr = np.where(best_estimator_lr['lr_classifier'].classes_ == 1)[0]\n",
    "pos_label_index_rf = np.where(rf_pipe['rf_classifier'].classes_ == 1)[0]"
   ]
  },
  {
   "cell_type": "code",
   "execution_count": 1171,
   "id": "743db591",
   "metadata": {
    "ExecuteTime": {
     "end_time": "2022-02-01T22:42:30.676773Z",
     "start_time": "2022-02-01T22:42:28.001813Z"
    }
   },
   "outputs": [],
   "source": [
    "y_pred_lr = best_estimator_lr.predict_proba(X_test_processed)[:,pos_label_index_lr]\n",
    "y_pred_rf = rf_pipe.predict_proba(X_test_processed)[:,pos_label_index_rf]\n",
    "y_pred_sm = log_reg_sm.predict(sm_test_data)"
   ]
  },
  {
   "cell_type": "markdown",
   "id": "d7e0e33e",
   "metadata": {},
   "source": [
    "**Feature Importance**"
   ]
  },
  {
   "cell_type": "code",
   "execution_count": 1190,
   "id": "801d4a24",
   "metadata": {
    "ExecuteTime": {
     "end_time": "2022-02-01T22:56:24.209033Z",
     "start_time": "2022-02-01T22:56:24.201639Z"
    }
   },
   "outputs": [],
   "source": [
    "def plot_feature_importance(estimator, X, y, label='Permutation Importances (test set)'):\n",
    "\n",
    "    result = permutation_importance(estimator, X, y,\n",
    "                                    scoring='f1',\n",
    "                                    n_repeats=10, random_state=42, n_jobs=-1)\n",
    "    result['importances_mean']\n",
    "    \n",
    "    sorted_idx = result.importances_mean.argsort()\n",
    "\n",
    "    fig, ax = plt.subplots()\n",
    "    ax.boxplot(\n",
    "        result.importances[sorted_idx].T, vert=False, labels=X.columns[sorted_idx]\n",
    "    )\n",
    "    ax.set_title(label)\n",
    "    fig.tight_layout()\n",
    "    plt.show()"
   ]
  },
  {
   "cell_type": "code",
   "execution_count": 1191,
   "id": "aa716c74",
   "metadata": {
    "ExecuteTime": {
     "end_time": "2022-02-01T22:56:30.666781Z",
     "start_time": "2022-02-01T22:56:26.671204Z"
    },
    "scrolled": true
   },
   "outputs": [
    {
     "data": {
      "image/png": "[encoded data removed]",
      "text/plain": [
       "<Figure size 432x288 with 1 Axes>"
      ]
     },
     "metadata": {
      "needs_background": "light"
     },
     "output_type": "display_data"
    }
   ],
   "source": [
    "plot_feature_importance(best_estimator_lr, X_test_processed, y_test,\n",
    "                        label='Permutation Importances Logistics Regression(test set)')"
   ]
  },
  {
   "cell_type": "code",
   "execution_count": 1192,
   "id": "a447bb92",
   "metadata": {
    "ExecuteTime": {
     "end_time": "2022-02-01T22:57:08.665112Z",
     "start_time": "2022-02-01T22:56:32.197849Z"
    }
   },
   "outputs": [
    {
     "data": {
      "image/png": "[encoded data removed]",
      "text/plain": [
       "<Figure size 432x288 with 1 Axes>"
      ]
     },
     "metadata": {
      "needs_background": "light"
     },
     "output_type": "display_data"
    }
   ],
   "source": [
    "plot_feature_importance(rf_pipe, X_test_processed, y_test,\n",
    "                        label='Permutation Importances Random Forest (test set)')"
   ]
  },
  {
   "cell_type": "markdown",
   "id": "cd7e0620",
   "metadata": {},
   "source": [
    "**F1 Score**"
   ]
  },
  {
   "cell_type": "code",
   "execution_count": 1173,
   "id": "fa7aa78e",
   "metadata": {
    "ExecuteTime": {
     "end_time": "2022-02-01T22:52:34.760473Z",
     "start_time": "2022-02-01T22:52:32.894056Z"
    }
   },
   "outputs": [],
   "source": [
    "score_lr = f1_score(y_test['sale'], best_estimator_lr.predict(X_test_processed))\n",
    "score_rf = f1_score(y_test['sale'], rf_pipe.predict(X_test_processed))\n",
    "score_sm = f1_score(y_test['sale'], 1 * (y_pred_sm > 0.5))"
   ]
  },
  {
   "cell_type": "code",
   "execution_count": 1174,
   "id": "6599a487",
   "metadata": {
    "ExecuteTime": {
     "end_time": "2022-02-01T22:52:37.847851Z",
     "start_time": "2022-02-01T22:52:37.840350Z"
    }
   },
   "outputs": [
    {
     "data": {
      "text/plain": [
       "0.16370220959017145"
      ]
     },
     "execution_count": 1174,
     "metadata": {},
     "output_type": "execute_result"
    }
   ],
   "source": [
    "score_lr"
   ]
  },
  {
   "cell_type": "code",
   "execution_count": 1175,
   "id": "c51e8f4e",
   "metadata": {
    "ExecuteTime": {
     "end_time": "2022-02-01T22:52:39.197587Z",
     "start_time": "2022-02-01T22:52:39.193808Z"
    }
   },
   "outputs": [
    {
     "data": {
      "text/plain": [
       "0.1584774797359405"
      ]
     },
     "execution_count": 1175,
     "metadata": {},
     "output_type": "execute_result"
    }
   ],
   "source": [
    "score_rf"
   ]
  },
  {
   "cell_type": "code",
   "execution_count": 1176,
   "id": "16d55bc6",
   "metadata": {
    "ExecuteTime": {
     "end_time": "2022-02-01T22:52:40.599766Z",
     "start_time": "2022-02-01T22:52:40.595142Z"
    }
   },
   "outputs": [
    {
     "data": {
      "text/plain": [
       "0.17048010169160063"
      ]
     },
     "execution_count": 1176,
     "metadata": {},
     "output_type": "execute_result"
    }
   ],
   "source": [
    "score_sm"
   ]
  },
  {
   "cell_type": "code",
   "execution_count": 1177,
   "id": "36706a2a",
   "metadata": {
    "ExecuteTime": {
     "end_time": "2022-02-01T22:52:46.510835Z",
     "start_time": "2022-02-01T22:52:45.716726Z"
    }
   },
   "outputs": [],
   "source": [
    "f1scores_lr = []\n",
    "f1scores_rf = []\n",
    "f1scores_sm = []\n",
    "\n",
    "max_f1 = -10\n",
    "max_th = -10\n",
    "\n",
    "for th in np.linspace(0, 1, 9):\n",
    "    f1_lr = f1_score(y_test['sale'], 1 * (y_pred_lr > th))\n",
    "    f1_rf = f1_score(y_test['sale'], 1 * (y_pred_rf > th))\n",
    "    f1_sm = f1_score(y_test['sale'], 1 * (y_pred_sm > th))\n",
    "    \n",
    "    if f1_lr > max_f1:\n",
    "        max_f1 = f1_lr\n",
    "        max_th = th\n",
    "        \n",
    "    if f1_rf > max_f1:\n",
    "        max_f1 = f1_rf\n",
    "        max_th = th\n",
    "        \n",
    "    if f1_sm > max_f1:\n",
    "        max_f1 = f1_sm\n",
    "        max_th = th\n",
    "        \n",
    "    f1scores_sm.append(f1_sm)\n",
    "    f1scores_lr.append(f1_lr)\n",
    "    f1scores_rf.append(f1_rf)"
   ]
  },
  {
   "cell_type": "code",
   "execution_count": 1178,
   "id": "348d2440",
   "metadata": {
    "ExecuteTime": {
     "end_time": "2022-02-01T22:52:47.867875Z",
     "start_time": "2022-02-01T22:52:47.864051Z"
    }
   },
   "outputs": [
    {
     "data": {
      "text/plain": [
       "0.17048010169160063"
      ]
     },
     "execution_count": 1178,
     "metadata": {},
     "output_type": "execute_result"
    }
   ],
   "source": [
    "max_f1"
   ]
  },
  {
   "cell_type": "code",
   "execution_count": 1179,
   "id": "996e4866",
   "metadata": {
    "ExecuteTime": {
     "end_time": "2022-02-01T22:52:48.924586Z",
     "start_time": "2022-02-01T22:52:48.920928Z"
    }
   },
   "outputs": [
    {
     "data": {
      "text/plain": [
       "0.5"
      ]
     },
     "execution_count": 1179,
     "metadata": {},
     "output_type": "execute_result"
    }
   ],
   "source": [
    "max_th"
   ]
  },
  {
   "cell_type": "code",
   "execution_count": 1180,
   "id": "47ba07bf",
   "metadata": {
    "ExecuteTime": {
     "end_time": "2022-02-01T22:52:50.018249Z",
     "start_time": "2022-02-01T22:52:49.774339Z"
    }
   },
   "outputs": [
    {
     "data": {
      "image/png": "[encoded data removed]",
      "text/plain": [
       "<Figure size 432x288 with 1 Axes>"
      ]
     },
     "metadata": {
      "needs_background": "light"
     },
     "output_type": "display_data"
    }
   ],
   "source": [
    "f, axes = plt.subplots(1,1)\n",
    "\n",
    "seaborn.lineplot(x=np.linspace(0, 1, 9), y=f1scores_lr, estimator=None, ax=axes, label='Logistics Regression');\n",
    "seaborn.lineplot(x=np.linspace(0, 1, 9), y=f1scores_rf, estimator=None, ax=axes, label='Random Forest');\n",
    "seaborn.lineplot(x=np.linspace(0, 1, 9), y=f1scores_sm, estimator=None, ax=axes,\n",
    "                 label='Logistics Regression (statsmodels)');\n",
    "plt.axvline(x=max_th, color='grey')\n",
    "\n",
    "\n",
    "plt.xlabel('Classification Threshold');\n",
    "plt.ylabel('f1 Score');\n"
   ]
  },
  {
   "cell_type": "markdown",
   "id": "a90234e5",
   "metadata": {},
   "source": [
    "**ROC Curve**"
   ]
  },
  {
   "cell_type": "code",
   "execution_count": 1181,
   "id": "f509d850",
   "metadata": {
    "ExecuteTime": {
     "end_time": "2022-02-01T22:53:12.647334Z",
     "start_time": "2022-02-01T22:53:12.527529Z"
    }
   },
   "outputs": [],
   "source": [
    "fpr_lr, tpr_lr, thresholds_lr = roc_curve(y_test, y_pred_lr)\n",
    "fpr_rf, tpr_rf, thresholds_rf = roc_curve(y_test, y_pred_rf)\n",
    "fpr_sm, tpr_sm, thresholds_sm = roc_curve(y_test, y_pred_sm)\n",
    "\n",
    "auc_lr = np.round(roc_auc_score(y_test, y_pred_lr), 2)\n",
    "auc_rf = np.round(roc_auc_score(y_test, y_pred_rf), 2)\n",
    "auc_sm = np.round(roc_auc_score(y_test, y_pred_sm), 2)"
   ]
  },
  {
   "cell_type": "code",
   "execution_count": 1182,
   "id": "9bed8981",
   "metadata": {
    "ExecuteTime": {
     "end_time": "2022-02-01T22:53:13.655201Z",
     "start_time": "2022-02-01T22:53:13.288917Z"
    }
   },
   "outputs": [
    {
     "data": {
      "image/png": "[encoded data removed]",
      "text/plain": [
       "<Figure size 432x288 with 1 Axes>"
      ]
     },
     "metadata": {
      "needs_background": "light"
     },
     "output_type": "display_data"
    }
   ],
   "source": [
    "f, axes = plt.subplots(1,1)\n",
    "\n",
    "seaborn.lineplot(x=fpr_lr, y=tpr_lr, estimator=None, ax=axes, label=f'Logistics Regression, AUC: {auc_lr}');\n",
    "seaborn.lineplot(x=fpr_rf, y=tpr_rf, estimator=None, ax=axes, label=f'Random Forest, AUC: {auc_rf}');\n",
    "seaborn.lineplot(x=fpr_sm, y=tpr_sm, estimator=None, ax=axes,\n",
    "                 label=f'Logistics Regression (statsmodels), AUC: {auc_sm}');\n",
    "\n",
    "idx_lr = np.abs(thresholds_lr-max_th).argmin()\n",
    "idx_rf = np.abs(thresholds_rf-max_th).argmin()\n",
    "idx_sm = np.abs(thresholds_sm-max_th).argmin()\n",
    "\n",
    "\n",
    "seaborn.scatterplot(x=[fpr_lr[idx_lr]], y=[tpr_lr[idx_lr]], ax=axes)\n",
    "seaborn.scatterplot(x=[fpr_rf[idx_rf]], y=[tpr_rf[idx_rf]], ax=axes)\n",
    "seaborn.scatterplot(x=[fpr_sm[idx_sm]], y=[tpr_sm[idx_sm]], ax=axes)\n",
    "\n",
    "plt.axvline(x=0.5, color='grey')\n",
    "\n",
    "plt.xlabel('False Positive Rate (Positive label: 1.0)');\n",
    "plt.ylabel('True Positive Rate (Positive label: 1.0)');\n"
   ]
  },
  {
   "cell_type": "markdown",
   "id": "ed48b658",
   "metadata": {},
   "source": [
    "**PR Curve**"
   ]
  },
  {
   "cell_type": "code",
   "execution_count": 1183,
   "id": "e7ed3f2d",
   "metadata": {
    "ExecuteTime": {
     "end_time": "2022-02-01T22:53:26.323230Z",
     "start_time": "2022-02-01T22:53:26.273535Z"
    }
   },
   "outputs": [],
   "source": [
    "precisions_lr, recalls_lr, thresholds_lr = precision_recall_curve(y_test, y_pred_lr)\n",
    "precisions_rf, recalls_rf, thresholds_rf = precision_recall_curve(y_test, y_pred_rf)\n",
    "precisions_sm, recalls_sm, thresholds_sm = precision_recall_curve(y_test, y_pred_sm)"
   ]
  },
  {
   "cell_type": "code",
   "execution_count": 1184,
   "id": "94165c99",
   "metadata": {
    "ExecuteTime": {
     "end_time": "2022-02-01T22:53:27.569178Z",
     "start_time": "2022-02-01T22:53:27.255964Z"
    }
   },
   "outputs": [
    {
     "data": {
      "text/plain": [
       "<AxesSubplot:ylabel='Count'>"
      ]
     },
     "execution_count": 1184,
     "metadata": {},
     "output_type": "execute_result"
    },
    {
     "data": {
      "image/png": "[encoded data removed]",
      "text/plain": [
       "<Figure size 432x288 with 1 Axes>"
      ]
     },
     "metadata": {
      "needs_background": "light"
     },
     "output_type": "display_data"
    }
   ],
   "source": [
    "seaborn.histplot(y_pred_lr)"
   ]
  },
  {
   "cell_type": "code",
   "execution_count": 1185,
   "id": "f076e0bb",
   "metadata": {
    "ExecuteTime": {
     "end_time": "2022-02-01T22:53:30.797265Z",
     "start_time": "2022-02-01T22:53:30.484747Z"
    }
   },
   "outputs": [
    {
     "data": {
      "text/plain": [
       "<AxesSubplot:ylabel='Count'>"
      ]
     },
     "execution_count": 1185,
     "metadata": {},
     "output_type": "execute_result"
    },
    {
     "data": {
      "image/png": "[encoded data removed]",
      "text/plain": [
       "<Figure size 432x288 with 1 Axes>"
      ]
     },
     "metadata": {
      "needs_background": "light"
     },
     "output_type": "display_data"
    }
   ],
   "source": [
    "seaborn.histplot(y_pred_rf)"
   ]
  },
  {
   "cell_type": "code",
   "execution_count": 1186,
   "id": "a8688ba8",
   "metadata": {
    "ExecuteTime": {
     "end_time": "2022-02-01T22:53:33.021037Z",
     "start_time": "2022-02-01T22:53:32.724201Z"
    }
   },
   "outputs": [
    {
     "data": {
      "text/plain": [
       "<AxesSubplot:ylabel='Count'>"
      ]
     },
     "execution_count": 1186,
     "metadata": {},
     "output_type": "execute_result"
    },
    {
     "data": {
      "image/png": "[encoded data removed]",
      "text/plain": [
       "<Figure size 432x288 with 1 Axes>"
      ]
     },
     "metadata": {
      "needs_background": "light"
     },
     "output_type": "display_data"
    }
   ],
   "source": [
    "seaborn.histplot(y_pred_sm)"
   ]
  },
  {
   "cell_type": "code",
   "execution_count": 1187,
   "id": "36f56666",
   "metadata": {
    "ExecuteTime": {
     "end_time": "2022-02-01T22:54:33.737681Z",
     "start_time": "2022-02-01T22:54:33.351423Z"
    }
   },
   "outputs": [
    {
     "data": {
      "image/png": "[encoded data removed]",
      "text/plain": [
       "<Figure size 432x288 with 1 Axes>"
      ]
     },
     "metadata": {
      "needs_background": "light"
     },
     "output_type": "display_data"
    }
   ],
   "source": [
    "f, axes = plt.subplots(1,1)\n",
    "\n",
    "seaborn.lineplot(x=recalls_lr, y=precisions_lr,\n",
    "                 estimator=None, ax=axes, label=f'Logistics Regression');\n",
    "seaborn.lineplot(x=recalls_rf, y=precisions_rf,\n",
    "                 estimator=None, ax=axes, label=f'Random Forest');\n",
    "seaborn.lineplot(x=recalls_sm, y=precisions_sm,\n",
    "                 estimator=None, ax=axes, label=f'Linear Regression (statsmodels)');\n",
    "\n",
    "\n",
    "idx_lr = np.abs(thresholds_lr-max_th).argmin()\n",
    "idx_rf = np.abs(thresholds_rf-max_th).argmin()\n",
    "idx_sm = np.abs(thresholds_sm-max_th).argmin()\n",
    "\n",
    "\n",
    "seaborn.scatterplot(x=[recalls_lr[idx_lr]], y=[precisions_lr[idx_lr]], ax=axes)\n",
    "seaborn.scatterplot(x=[recalls_rf[idx_rf]], y=[precisions_rf[idx_rf]], ax=axes)\n",
    "seaborn.scatterplot(x=[recalls_sm[idx_sm]], y=[precisions_sm[idx_sm]], ax=axes)\n",
    "\n",
    "plt.xlabel('Recall (Positive label: 1.0)');\n",
    "plt.ylabel('Precision (Positive label: 1.0)');\n"
   ]
  },
  {
   "cell_type": "markdown",
   "id": "a0d3f4d5",
   "metadata": {},
   "source": [
    "## Challenger Model"
   ]
  },
  {
   "cell_type": "markdown",
   "id": "937e11e7",
   "metadata": {},
   "source": [
    "### Gradient Boosting"
   ]
  },
  {
   "cell_type": "code",
   "execution_count": 1196,
   "id": "874ca237",
   "metadata": {
    "ExecuteTime": {
     "end_time": "2022-02-01T23:12:13.974532Z",
     "start_time": "2022-02-01T23:12:13.670376Z"
    }
   },
   "outputs": [],
   "source": [
    "from catboost import CatBoostClassifier, Pool, cv\n",
    "\n",
    "cat_features = [0, 1, 2, 3, 4, 5, 6]\n",
    "\n",
    "# train_dataset = Pool(data=X_train_processed_resampled,\n",
    "#                     label=y_train_processed_resampled['sale'])#, cat_features=cat_features)\n",
    "# test_dataset = Pool(data=X_test_processed, label=y_test['sale'])#, cat_features=cat_features)\n",
    "\n",
    "X_train.iloc[sample_indeces].join(y_train.iloc[sample_indeces])\n",
    "\n",
    "\n",
    "train_dataset = Pool(data=X_train.iloc[sample_indeces],\n",
    "                     label=y_train.iloc[sample_indeces]['sale'],\n",
    "                     cat_features=cat_features)\n",
    "test_dataset = Pool(data=X_test, label=y_test['sale'],\n",
    "                    cat_features=cat_features)"
   ]
  },
  {
   "cell_type": "code",
   "execution_count": 1197,
   "id": "4d6fb9ef",
   "metadata": {
    "ExecuteTime": {
     "end_time": "2022-02-01T23:12:15.772225Z",
     "start_time": "2022-02-01T23:12:15.768728Z"
    }
   },
   "outputs": [],
   "source": [
    "clf = CatBoostClassifier(depth=5,\n",
    "                         iterations=1000,\n",
    "                         l2_leaf_reg=1,\n",
    "                         loss_function=\"Logloss\",\n",
    "                         eval_metric=\"F1\",\n",
    "                         logging_level='Silent',\n",
    "                         boost_from_average=True,\n",
    "                         langevin=True)"
   ]
  },
  {
   "cell_type": "code",
   "execution_count": 1198,
   "id": "b64c40f9",
   "metadata": {
    "ExecuteTime": {
     "end_time": "2022-02-01T23:12:41.651545Z",
     "start_time": "2022-02-01T23:12:17.191992Z"
    }
   },
   "outputs": [
    {
     "data": {
      "text/plain": [
       "<catboost.core.CatBoostClassifier at 0x7fc83e8819a0>"
      ]
     },
     "execution_count": 1198,
     "metadata": {},
     "output_type": "execute_result"
    }
   ],
   "source": [
    "clf.fit(train_dataset)"
   ]
  },
  {
   "cell_type": "code",
   "execution_count": 1199,
   "id": "d6883c2e",
   "metadata": {
    "ExecuteTime": {
     "end_time": "2022-02-01T23:12:47.958500Z",
     "start_time": "2022-02-01T23:12:47.838765Z"
    }
   },
   "outputs": [],
   "source": [
    "pos_label_index_cb = np.where(clf.classes_ == 1)[0]\n",
    "\n",
    "y_pred_cb = clf.predict_proba(test_dataset)[:,pos_label_index_cb]"
   ]
  },
  {
   "cell_type": "code",
   "execution_count": 1205,
   "id": "82e4d461",
   "metadata": {
    "ExecuteTime": {
     "end_time": "2022-02-01T23:13:44.558230Z",
     "start_time": "2022-02-01T23:13:44.261741Z"
    }
   },
   "outputs": [
    {
     "data": {
      "text/plain": [
       "<AxesSubplot:ylabel='Count'>"
      ]
     },
     "execution_count": 1205,
     "metadata": {},
     "output_type": "execute_result"
    },
    {
     "data": {
      "image/png": "[encoded data removed]",
      "text/plain": [
       "<Figure size 432x288 with 1 Axes>"
      ]
     },
     "metadata": {
      "needs_background": "light"
     },
     "output_type": "display_data"
    }
   ],
   "source": [
    "seaborn.histplot(y_pred_cb)"
   ]
  },
  {
   "cell_type": "code",
   "execution_count": 1200,
   "id": "2e2f962e",
   "metadata": {
    "ExecuteTime": {
     "end_time": "2022-02-01T23:12:48.805209Z",
     "start_time": "2022-02-01T23:12:48.638442Z"
    }
   },
   "outputs": [],
   "source": [
    "score_cb = f1_score(test_dataset.get_label(),\n",
    "                    clf.predict(test_dataset))"
   ]
  },
  {
   "cell_type": "code",
   "execution_count": 1206,
   "id": "d14a0777",
   "metadata": {
    "ExecuteTime": {
     "end_time": "2022-02-01T23:14:12.935170Z",
     "start_time": "2022-02-01T23:14:12.931127Z"
    }
   },
   "outputs": [
    {
     "data": {
      "text/plain": [
       "0.16316135065761983"
      ]
     },
     "execution_count": 1206,
     "metadata": {},
     "output_type": "execute_result"
    }
   ],
   "source": [
    "score_cb"
   ]
  },
  {
   "cell_type": "code",
   "execution_count": 1202,
   "id": "cb9841fe",
   "metadata": {
    "ExecuteTime": {
     "end_time": "2022-02-01T23:12:54.099889Z",
     "start_time": "2022-02-01T23:12:53.933951Z"
    }
   },
   "outputs": [],
   "source": [
    "fpr_lr, tpr_lr, thresholds_lr = roc_curve(y_test, y_pred_lr)\n",
    "fpr_rf, tpr_rf, thresholds_rf = roc_curve(y_test, y_pred_rf)\n",
    "fpr_sm, tpr_sm, thresholds_sm = roc_curve(y_test, y_pred_sm)\n",
    "fpr_cb, tpr_cb, thresholds_cb = roc_curve(y_test, y_pred_cb)\n",
    "\n",
    "auc_lr = np.round(roc_auc_score(y_test, y_pred_lr), 2)\n",
    "auc_rf = np.round(roc_auc_score(y_test, y_pred_rf), 2)\n",
    "auc_sm = np.round(roc_auc_score(y_test, y_pred_sm), 2)\n",
    "auc_cb = np.round(roc_auc_score(y_test, y_pred_cb), 2)"
   ]
  },
  {
   "cell_type": "code",
   "execution_count": 1203,
   "id": "04520f27",
   "metadata": {
    "ExecuteTime": {
     "end_time": "2022-02-01T23:12:56.951241Z",
     "start_time": "2022-02-01T23:12:54.791185Z"
    }
   },
   "outputs": [
    {
     "data": {
      "image/png": "[encoded data removed]",
      "text/plain": [
       "<Figure size 432x288 with 1 Axes>"
      ]
     },
     "metadata": {
      "needs_background": "light"
     },
     "output_type": "display_data"
    }
   ],
   "source": [
    "f, axes = plt.subplots(1,1)\n",
    "\n",
    "seaborn.lineplot(x=fpr_lr, y=tpr_lr, estimator=None, ax=axes, label=f'Logistics Regression, AUC: {auc_lr}');\n",
    "seaborn.lineplot(x=fpr_rf, y=tpr_rf, estimator=None, ax=axes, label=f'Random Forest, AUC: {auc_rf}');\n",
    "seaborn.lineplot(x=fpr_sm, y=tpr_sm, estimator=None, ax=axes,\n",
    "                 label=f'Logistics Regression (statsmodels), AUC: {auc_sm}');\n",
    "seaborn.lineplot(x=fpr_cb, y=tpr_cb, estimator=None, ax=axes,\n",
    "                 label=f'Catboost classifier, AUC: {auc_cb}');\n",
    "\n",
    "\n",
    "idx_lr = np.abs(thresholds_lr-max_th).argmin()\n",
    "idx_rf = np.abs(thresholds_rf-max_th).argmin()\n",
    "idx_sm = np.abs(thresholds_sm-max_th).argmin()\n",
    "\n",
    "\n",
    "seaborn.scatterplot(x=[fpr_lr[idx_lr]], y=[tpr_lr[idx_lr]], ax=axes)\n",
    "seaborn.scatterplot(x=[fpr_rf[idx_rf]], y=[tpr_rf[idx_rf]], ax=axes)\n",
    "seaborn.scatterplot(x=[fpr_sm[idx_sm]], y=[tpr_sm[idx_sm]], ax=axes)\n",
    "\n",
    "plt.axvline(x=0.5, color='grey')\n",
    "\n",
    "plt.xlabel('False Positive Rate (Positive label: 1.0)');\n",
    "plt.ylabel('True Positive Rate (Positive label: 1.0)');\n"
   ]
  },
  {
   "cell_type": "code",
   "execution_count": 1204,
   "id": "35eaf8f0",
   "metadata": {
    "ExecuteTime": {
     "end_time": "2022-02-01T23:13:12.305888Z",
     "start_time": "2022-02-01T23:13:11.438158Z"
    }
   },
   "outputs": [
    {
     "data": {
      "text/html": [
       "<div>\n",
       "<style scoped>\n",
       "    .dataframe tbody tr th:only-of-type {\n",
       "        vertical-align: middle;\n",
       "    }\n",
       "\n",
       "    .dataframe tbody tr th {\n",
       "        vertical-align: top;\n",
       "    }\n",
       "\n",
       "    .dataframe thead th {\n",
       "        text-align: right;\n",
       "    }\n",
       "</style>\n",
       "<table border=\"1\" class=\"dataframe\">\n",
       "  <thead>\n",
       "    <tr style=\"text-align: right;\">\n",
       "      <th></th>\n",
       "      <th>Feature Id</th>\n",
       "      <th>Importances</th>\n",
       "    </tr>\n",
       "  </thead>\n",
       "  <tbody>\n",
       "    <tr>\n",
       "      <th>0</th>\n",
       "      <td>state_id</td>\n",
       "      <td>33.188040</td>\n",
       "    </tr>\n",
       "    <tr>\n",
       "      <th>1</th>\n",
       "      <td>age_group</td>\n",
       "      <td>27.820842</td>\n",
       "    </tr>\n",
       "    <tr>\n",
       "      <th>2</th>\n",
       "      <td>gender</td>\n",
       "      <td>11.525431</td>\n",
       "    </tr>\n",
       "    <tr>\n",
       "      <th>3</th>\n",
       "      <td>group_id</td>\n",
       "      <td>9.650438</td>\n",
       "    </tr>\n",
       "    <tr>\n",
       "      <th>4</th>\n",
       "      <td>user_type</td>\n",
       "      <td>6.272892</td>\n",
       "    </tr>\n",
       "    <tr>\n",
       "      <th>5</th>\n",
       "      <td>campaign_id</td>\n",
       "      <td>4.912181</td>\n",
       "    </tr>\n",
       "    <tr>\n",
       "      <th>6</th>\n",
       "      <td>interactions</td>\n",
       "      <td>4.517615</td>\n",
       "    </tr>\n",
       "    <tr>\n",
       "      <th>7</th>\n",
       "      <td>platform</td>\n",
       "      <td>2.112560</td>\n",
       "    </tr>\n",
       "  </tbody>\n",
       "</table>\n",
       "</div>"
      ],
      "text/plain": [
       "     Feature Id  Importances\n",
       "0      state_id    33.188040\n",
       "1     age_group    27.820842\n",
       "2        gender    11.525431\n",
       "3      group_id     9.650438\n",
       "4     user_type     6.272892\n",
       "5   campaign_id     4.912181\n",
       "6  interactions     4.517615\n",
       "7      platform     2.112560"
      ]
     },
     "execution_count": 1204,
     "metadata": {},
     "output_type": "execute_result"
    }
   ],
   "source": [
    "clf.get_feature_importance(data=test_dataset, type='PredictionValuesChange', prettified=True)"
   ]
  },
  {
   "cell_type": "markdown",
   "id": "caad1aca",
   "metadata": {},
   "source": [
    "### Neural Network"
   ]
  },
  {
   "cell_type": "code",
   "execution_count": 950,
   "id": "7a0e2c30",
   "metadata": {},
   "outputs": [],
   "source": [
    "\n",
    "def recall_m(y_true, y_pred):\n",
    "    true_positives = K.sum(K.round(K.clip(y_true * y_pred, 0, 1)))\n",
    "    possible_positives = K.sum(K.round(K.clip(y_true, 0, 1)))\n",
    "    recall = true_positives / (possible_positives + K.epsilon())\n",
    "    return recall\n",
    "\n",
    "\n",
    "def precision_m(y_true, y_pred):\n",
    "    true_positives = K.sum(K.round(K.clip(y_true * y_pred, 0, 1)))\n",
    "    predicted_positives = K.sum(K.round(K.clip(y_pred, 0, 1)))\n",
    "    precision = true_positives / (predicted_positives + K.epsilon())\n",
    "    return precision\n",
    "\n",
    "@tf.autograph.experimental.do_not_convert\n",
    "def f1_nn(y_true, y_pred):\n",
    "    precision = precision_m(y_true, y_pred)\n",
    "    recall = recall_m(y_true, y_pred)\n",
    "    return 2*((precision*recall)/(precision+recall+K.epsilon()))\n",
    "\n",
    "def create_model():\n",
    "\n",
    "    nn = tf.keras.Sequential([    \n",
    "        tf.keras.layers.Dense(128, input_dim=X_train_processed_resampled.shape[1], activation='relu'),\n",
    "        tf.keras.layers.Dense(32, input_dim=128, activation='relu'),\n",
    "        tf.keras.layers.Dense(1, activation='sigmoid')])\n",
    "    \n",
    "    nn.compile(loss='binary_crossentropy', optimizer='adam', metrics=[f1_nn])\n",
    "    \n",
    "    return nn\n"
   ]
  },
  {
   "cell_type": "code",
   "execution_count": 951,
   "id": "70558680",
   "metadata": {},
   "outputs": [],
   "source": [
    "\n",
    "clf_nn = KerasClassifier(build_fn=create_model, epochs=20, batch_size=32, use_multiprocessing=True)"
   ]
  },
  {
   "cell_type": "code",
   "execution_count": 952,
   "id": "d0080be2",
   "metadata": {},
   "outputs": [
    {
     "name": "stdout",
     "output_type": "stream",
     "text": [
      "Epoch 1/20\n",
      "1375/1375 [==============================] - 2s 1ms/step - loss: 0.6844 - f1_nn: 0.4783\n",
      "Epoch 2/20\n",
      "1375/1375 [==============================] - 1s 1ms/step - loss: 0.6629 - f1_nn: 0.5920\n",
      "Epoch 3/20\n",
      "1375/1375 [==============================] - 1s 1ms/step - loss: 0.6598 - f1_nn: 0.6132\n",
      "Epoch 4/20\n",
      "1375/1375 [==============================] - 1s 999us/step - loss: 0.6592 - f1_nn: 0.6207\n",
      "Epoch 5/20\n",
      "1375/1375 [==============================] - 1s 968us/step - loss: 0.6578 - f1_nn: 0.6274\n",
      "Epoch 6/20\n",
      "1375/1375 [==============================] - 1s 1ms/step - loss: 0.6581 - f1_nn: 0.6310\n",
      "Epoch 7/20\n",
      "1375/1375 [==============================] - 1s 960us/step - loss: 0.6579 - f1_nn: 0.6271\n",
      "Epoch 8/20\n",
      "1375/1375 [==============================] - 1s 999us/step - loss: 0.6568 - f1_nn: 0.6316\n",
      "Epoch 9/20\n",
      "1375/1375 [==============================] - 1s 958us/step - loss: 0.6580 - f1_nn: 0.6293\n",
      "Epoch 10/20\n",
      "1375/1375 [==============================] - 1s 958us/step - loss: 0.6571 - f1_nn: 0.6327\n",
      "Epoch 11/20\n",
      "1375/1375 [==============================] - 1s 986us/step - loss: 0.6564 - f1_nn: 0.6327\n",
      "Epoch 12/20\n",
      "1375/1375 [==============================] - 1s 1ms/step - loss: 0.6562 - f1_nn: 0.6362\n",
      "Epoch 13/20\n",
      "1375/1375 [==============================] - 1s 938us/step - loss: 0.6572 - f1_nn: 0.6308\n",
      "Epoch 14/20\n",
      "1375/1375 [==============================] - 1s 940us/step - loss: 0.6573 - f1_nn: 0.6308\n",
      "Epoch 15/20\n",
      "1375/1375 [==============================] - 1s 995us/step - loss: 0.6561 - f1_nn: 0.6358\n",
      "Epoch 16/20\n",
      "1375/1375 [==============================] - 1s 965us/step - loss: 0.6564 - f1_nn: 0.6358\n",
      "Epoch 17/20\n",
      "1375/1375 [==============================] - 1s 1ms/step - loss: 0.6563 - f1_nn: 0.6353\n",
      "Epoch 18/20\n",
      "1375/1375 [==============================] - 1s 974us/step - loss: 0.6558 - f1_nn: 0.6393\n",
      "Epoch 19/20\n",
      "1375/1375 [==============================] - 1s 947us/step - loss: 0.6561 - f1_nn: 0.6364\n",
      "Epoch 20/20\n",
      "1375/1375 [==============================] - 1s 945us/step - loss: 0.6564 - f1_nn: 0.6383\n"
     ]
    },
    {
     "data": {
      "text/plain": [
       "<keras.callbacks.History at 0x7fc781466c40>"
      ]
     },
     "execution_count": 952,
     "metadata": {},
     "output_type": "execute_result"
    }
   ],
   "source": [
    "clf_nn.fit(X_train_processed_resampled, y_train_processed_resampled['sale'])"
   ]
  },
  {
   "cell_type": "code",
   "execution_count": 953,
   "id": "7466171d",
   "metadata": {},
   "outputs": [],
   "source": [
    "y_pred_nn = clf_nn.predict(X_test_processed)"
   ]
  },
  {
   "cell_type": "code",
   "execution_count": 954,
   "id": "8f42f268",
   "metadata": {},
   "outputs": [
    {
     "data": {
      "text/plain": [
       "<AxesSubplot:ylabel='Count'>"
      ]
     },
     "execution_count": 954,
     "metadata": {},
     "output_type": "execute_result"
    },
    {
     "data": {
      "image/png": "[encoded data removed]",
      "text/plain": [
       "<Figure size 432x288 with 1 Axes>"
      ]
     },
     "metadata": {
      "needs_background": "light"
     },
     "output_type": "display_data"
    }
   ],
   "source": [
    "seaborn.histplot(y_pred_nn)"
   ]
  },
  {
   "cell_type": "code",
   "execution_count": 955,
   "id": "13096f4e",
   "metadata": {},
   "outputs": [
    {
     "data": {
      "text/plain": [
       "0.16776602364654636"
      ]
     },
     "execution_count": 955,
     "metadata": {},
     "output_type": "execute_result"
    }
   ],
   "source": [
    "f1_score(y_test['sale'], y_pred_nn)"
   ]
  },
  {
   "cell_type": "code",
   "execution_count": 956,
   "id": "9d908740",
   "metadata": {},
   "outputs": [],
   "source": [
    "y_pred_nn_raw = clf_nn.predict_proba(X_test_processed)"
   ]
  },
  {
   "cell_type": "code",
   "execution_count": 957,
   "id": "24b90d6c",
   "metadata": {},
   "outputs": [
    {
     "data": {
      "text/plain": [
       "array([0.3279399 , 0.34944278, 0.5372196 , ..., 0.31070524, 0.5788075 ,\n",
       "       0.58738047], dtype=float32)"
      ]
     },
     "execution_count": 957,
     "metadata": {},
     "output_type": "execute_result"
    }
   ],
   "source": [
    "y_pred_nn_raw[:, 1]"
   ]
  },
  {
   "cell_type": "code",
   "execution_count": 958,
   "id": "cd045145",
   "metadata": {},
   "outputs": [
    {
     "data": {
      "text/plain": [
       "<AxesSubplot:ylabel='Count'>"
      ]
     },
     "execution_count": 958,
     "metadata": {},
     "output_type": "execute_result"
    },
    {
     "data": {
      "image/png": "[encoded data removed]",
      "text/plain": [
       "<Figure size 432x288 with 1 Axes>"
      ]
     },
     "metadata": {
      "needs_background": "light"
     },
     "output_type": "display_data"
    }
   ],
   "source": [
    "seaborn.histplot(y_pred_nn_raw[:, 1])"
   ]
  },
  {
   "cell_type": "markdown",
   "id": "926f0418",
   "metadata": {},
   "source": [
    "# Explainability"
   ]
  },
  {
   "cell_type": "code",
   "execution_count": null,
   "id": "9b4e4b99",
   "metadata": {},
   "outputs": [],
   "source": []
  },
  {
   "cell_type": "markdown",
   "id": "4c787c9c",
   "metadata": {},
   "source": [
    "# Fairness"
   ]
  },
  {
   "cell_type": "code",
   "execution_count": null,
   "id": "e3457dc3",
   "metadata": {},
   "outputs": [],
   "source": []
  }
 ],
 "metadata": {
  "kernelspec": {
   "display_name": "Python [conda env:insurify-py39] *",
   "language": "python",
   "name": "conda-env-insurify-py39-py"
  },
  "language_info": {
   "codemirror_mode": {
    "name": "ipython",
    "version": 3
   },
   "file_extension": ".py",
   "mimetype": "text/x-python",
   "name": "python",
   "nbconvert_exporter": "python",
   "pygments_lexer": "ipython3",
   "version": "3.9.7"
  },
  "toc": {
   "toc_cell": false,
   "toc_number_sections": true,
   "toc_threshold": 6,
   "toc_window_display": true
  },
  "toc_position": {
   "height": "657.688px",
   "left": "10.7969px",
   "right": "20px",
   "top": "121px",
   "width": "231.188px"
  }
 },
 "nbformat": 4,
 "nbformat_minor": 5
}
