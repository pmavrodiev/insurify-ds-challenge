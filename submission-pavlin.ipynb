{
 "cells": [
  {
   "cell_type": "code",
   "execution_count": 476,
   "id": "f9226b61",
   "metadata": {},
   "outputs": [],
   "source": [
    "import numpy as np\n",
    "import pandas as pd\n",
    "import sklearn\n",
    "import catboost\n",
    "import shap\n",
    "import seaborn\n",
    "import matplotlib.pyplot as plt\n",
    "import statsmodels.formula.api as smf\n",
    "\n",
    "from sklearn.model_selection import cross_val_score, GridSearchCV\n",
    "from sklearn.metrics import roc_curve, precision_recall_curve, auc, roc_auc_score\n",
    "from sklearn.metrics import RocCurveDisplay, PrecisionRecallDisplay, f1_score, balanced_accuracy_score\n",
    "from sklearn.inspection import permutation_importance\n",
    "from sklearn.compose import ColumnTransformer\n",
    "from sklearn.pipeline import Pipeline\n",
    "from sklearn.preprocessing import FunctionTransformer\n",
    "\n",
    "from sklearn.preprocessing import OrdinalEncoder\n",
    "from pandas_profiling import ProfileReport\n",
    "\n",
    "from IPython.display import display, Markdown"
   ]
  },
  {
   "cell_type": "markdown",
   "id": "98ff56d2",
   "metadata": {},
   "source": [
    "# Problem Statement"
   ]
  },
  {
   "cell_type": "markdown",
   "id": "cd46bd3e",
   "metadata": {},
   "source": [
    "Work with the attached dataset to identify users who are more likely to do a sale.\n",
    "\n",
    "It's important for the business to understand **what makes someone more likely to buy** an insurance.\n",
    "For this purpose, we assembled a dataset with features of users and their sessions and an indicator if they resulted in a sale or not.\n",
    "\n",
    "Your goal is to work with this dataset and **identify users who are more likely to convert** so that we can personalise the experience for them.\n",
    "\n",
    "We don't expect a perfect solution (actually, we believe there isn't one). But please take several hours to implement a well structured approach in a Jupyter notebook.\n",
    "\n",
    "Afterwards, we'll discuss your solution in detail. Be ready to answer question like, why did you choose this approach and not others, how will you measure the performance of your solution and how do you interpret the final results\n"
   ]
  },
  {
   "cell_type": "markdown",
   "id": "53a795ca",
   "metadata": {},
   "source": [
    "# Data understanding"
   ]
  },
  {
   "cell_type": "markdown",
   "id": "1ac5e2fd",
   "metadata": {},
   "source": [
    "| field name   \t| description                                                  \t|\n",
    "|--------------\t|--------------------------------------------------------------\t|\n",
    "| id           \t| unique identifier of the rows                                \t|\n",
    "| date         \t| date of the session                                          \t|\n",
    "| campaign_id  \t| id of the advertising campaign that led the user to the site \t|\n",
    "| group_id     \t| id of the group that lead the user to the site               \t|\n",
    "| age_group    \t| age range of the user                                        \t|\n",
    "| gender       \t| gender of the user                                           \t|\n",
    "| user_type    \t| internal id of the type of user                              \t|\n",
    "| platform     \t| device type of the user                                      \t|\n",
    "| state_id     \t| US state id of the user location                             \t|\n",
    "| interactions \t| number of interactions of the user                           \t|\n",
    "| sale         \t| boolean indicator if the user has made a sale or not         \t|"
   ]
  },
  {
   "cell_type": "markdown",
   "id": "8a52c2dc",
   "metadata": {},
   "source": [
    "## Read-in the data"
   ]
  },
  {
   "cell_type": "code",
   "execution_count": 635,
   "id": "95add0f9",
   "metadata": {},
   "outputs": [],
   "source": [
    "sales_data = pd.read_csv('sales_data.csv.gz', compression='gzip', sep=',', header=0, index_col=0)"
   ]
  },
  {
   "cell_type": "code",
   "execution_count": 636,
   "id": "2b16e8d2",
   "metadata": {},
   "outputs": [
    {
     "data": {
      "text/html": [
       "<div>\n",
       "<style scoped>\n",
       "    .dataframe tbody tr th:only-of-type {\n",
       "        vertical-align: middle;\n",
       "    }\n",
       "\n",
       "    .dataframe tbody tr th {\n",
       "        vertical-align: top;\n",
       "    }\n",
       "\n",
       "    .dataframe thead th {\n",
       "        text-align: right;\n",
       "    }\n",
       "</style>\n",
       "<table border=\"1\" class=\"dataframe\">\n",
       "  <thead>\n",
       "    <tr style=\"text-align: right;\">\n",
       "      <th></th>\n",
       "      <th>date</th>\n",
       "      <th>campaign_id</th>\n",
       "      <th>group_id</th>\n",
       "      <th>age_group</th>\n",
       "      <th>gender</th>\n",
       "      <th>user_type</th>\n",
       "      <th>platform</th>\n",
       "      <th>state_id</th>\n",
       "      <th>interactions</th>\n",
       "      <th>sale</th>\n",
       "    </tr>\n",
       "    <tr>\n",
       "      <th>id</th>\n",
       "      <th></th>\n",
       "      <th></th>\n",
       "      <th></th>\n",
       "      <th></th>\n",
       "      <th></th>\n",
       "      <th></th>\n",
       "      <th></th>\n",
       "      <th></th>\n",
       "      <th></th>\n",
       "      <th></th>\n",
       "    </tr>\n",
       "  </thead>\n",
       "  <tbody>\n",
       "    <tr>\n",
       "      <th>277133</th>\n",
       "      <td>2021-05-04</td>\n",
       "      <td>3</td>\n",
       "      <td>372</td>\n",
       "      <td>45-49</td>\n",
       "      <td>F</td>\n",
       "      <td>0</td>\n",
       "      <td>desktop</td>\n",
       "      <td>19</td>\n",
       "      <td>5249</td>\n",
       "      <td>0.0</td>\n",
       "    </tr>\n",
       "    <tr>\n",
       "      <th>270342</th>\n",
       "      <td>2021-05-04</td>\n",
       "      <td>3</td>\n",
       "      <td>313</td>\n",
       "      <td>35-39</td>\n",
       "      <td>F</td>\n",
       "      <td>4</td>\n",
       "      <td>desktop</td>\n",
       "      <td>16</td>\n",
       "      <td>1522</td>\n",
       "      <td>0.0</td>\n",
       "    </tr>\n",
       "    <tr>\n",
       "      <th>161280</th>\n",
       "      <td>2021-05-02</td>\n",
       "      <td>3</td>\n",
       "      <td>321</td>\n",
       "      <td>30-34</td>\n",
       "      <td>M</td>\n",
       "      <td>1</td>\n",
       "      <td>desktop</td>\n",
       "      <td>25</td>\n",
       "      <td>2</td>\n",
       "      <td>0.0</td>\n",
       "    </tr>\n",
       "    <tr>\n",
       "      <th>252773</th>\n",
       "      <td>2021-05-04</td>\n",
       "      <td>3</td>\n",
       "      <td>426</td>\n",
       "      <td>30-34</td>\n",
       "      <td>F</td>\n",
       "      <td>0</td>\n",
       "      <td>NaN</td>\n",
       "      <td>27</td>\n",
       "      <td>2</td>\n",
       "      <td>1.0</td>\n",
       "    </tr>\n",
       "    <tr>\n",
       "      <th>118886</th>\n",
       "      <td>2021-05-01</td>\n",
       "      <td>3</td>\n",
       "      <td>337</td>\n",
       "      <td>40-44</td>\n",
       "      <td>M</td>\n",
       "      <td>8</td>\n",
       "      <td>desktop</td>\n",
       "      <td>16</td>\n",
       "      <td>2</td>\n",
       "      <td>0.0</td>\n",
       "    </tr>\n",
       "    <tr>\n",
       "      <th>...</th>\n",
       "      <td>...</td>\n",
       "      <td>...</td>\n",
       "      <td>...</td>\n",
       "      <td>...</td>\n",
       "      <td>...</td>\n",
       "      <td>...</td>\n",
       "      <td>...</td>\n",
       "      <td>...</td>\n",
       "      <td>...</td>\n",
       "      <td>...</td>\n",
       "    </tr>\n",
       "    <tr>\n",
       "      <th>71168</th>\n",
       "      <td>2021-05-01</td>\n",
       "      <td>3</td>\n",
       "      <td>404</td>\n",
       "      <td>30-34</td>\n",
       "      <td>F</td>\n",
       "      <td>2</td>\n",
       "      <td>NaN</td>\n",
       "      <td>5</td>\n",
       "      <td>2</td>\n",
       "      <td>0.0</td>\n",
       "    </tr>\n",
       "    <tr>\n",
       "      <th>8348</th>\n",
       "      <td>2021-05-01</td>\n",
       "      <td>3</td>\n",
       "      <td>329</td>\n",
       "      <td>35-39</td>\n",
       "      <td>F</td>\n",
       "      <td>2</td>\n",
       "      <td>desktop</td>\n",
       "      <td>26</td>\n",
       "      <td>1625</td>\n",
       "      <td>0.0</td>\n",
       "    </tr>\n",
       "    <tr>\n",
       "      <th>242565</th>\n",
       "      <td>2021-05-04</td>\n",
       "      <td>3</td>\n",
       "      <td>361</td>\n",
       "      <td>35-39</td>\n",
       "      <td>F</td>\n",
       "      <td>7</td>\n",
       "      <td>desktop</td>\n",
       "      <td>12</td>\n",
       "      <td>2</td>\n",
       "      <td>0.0</td>\n",
       "    </tr>\n",
       "    <tr>\n",
       "      <th>199292</th>\n",
       "      <td>2021-05-03</td>\n",
       "      <td>3</td>\n",
       "      <td>377</td>\n",
       "      <td>40-44</td>\n",
       "      <td>M</td>\n",
       "      <td>7</td>\n",
       "      <td>desktop</td>\n",
       "      <td>20</td>\n",
       "      <td>1259</td>\n",
       "      <td>0.0</td>\n",
       "    </tr>\n",
       "    <tr>\n",
       "      <th>106848</th>\n",
       "      <td>2021-05-01</td>\n",
       "      <td>3</td>\n",
       "      <td>488</td>\n",
       "      <td>35-39</td>\n",
       "      <td>NaN</td>\n",
       "      <td>4</td>\n",
       "      <td>NaN</td>\n",
       "      <td>28</td>\n",
       "      <td>2</td>\n",
       "      <td>0.0</td>\n",
       "    </tr>\n",
       "  </tbody>\n",
       "</table>\n",
       "<p>426324 rows × 10 columns</p>\n",
       "</div>"
      ],
      "text/plain": [
       "              date  campaign_id  group_id age_group gender  user_type  \\\n",
       "id                                                                      \n",
       "277133  2021-05-04            3       372     45-49      F          0   \n",
       "270342  2021-05-04            3       313     35-39      F          4   \n",
       "161280  2021-05-02            3       321     30-34      M          1   \n",
       "252773  2021-05-04            3       426     30-34      F          0   \n",
       "118886  2021-05-01            3       337     40-44      M          8   \n",
       "...            ...          ...       ...       ...    ...        ...   \n",
       "71168   2021-05-01            3       404     30-34      F          2   \n",
       "8348    2021-05-01            3       329     35-39      F          2   \n",
       "242565  2021-05-04            3       361     35-39      F          7   \n",
       "199292  2021-05-03            3       377     40-44      M          7   \n",
       "106848  2021-05-01            3       488     35-39    NaN          4   \n",
       "\n",
       "       platform  state_id  interactions  sale  \n",
       "id                                             \n",
       "277133  desktop        19          5249   0.0  \n",
       "270342  desktop        16          1522   0.0  \n",
       "161280  desktop        25             2   0.0  \n",
       "252773      NaN        27             2   1.0  \n",
       "118886  desktop        16             2   0.0  \n",
       "...         ...       ...           ...   ...  \n",
       "71168       NaN         5             2   0.0  \n",
       "8348    desktop        26          1625   0.0  \n",
       "242565  desktop        12             2   0.0  \n",
       "199292  desktop        20          1259   0.0  \n",
       "106848      NaN        28             2   0.0  \n",
       "\n",
       "[426324 rows x 10 columns]"
      ]
     },
     "execution_count": 636,
     "metadata": {},
     "output_type": "execute_result"
    }
   ],
   "source": [
    "sales_data"
   ]
  },
  {
   "cell_type": "code",
   "execution_count": 4,
   "id": "a5377b29",
   "metadata": {},
   "outputs": [
    {
     "data": {
      "text/plain": [
       "\"\\nsales_data['age_group'] = sales_data['age_group'].astype('category')\\nsales_data['campaign_id'] = sales_data['campaign_id'].astype('category')\\nsales_data['group_id'] = sales_data['group_id'].astype('category')\\nsales_data['user_type'] = sales_data['user_type'].astype('category')\\nsales_data['state_id'] = sales_data['state_id'].astype('category')\\n\""
      ]
     },
     "execution_count": 4,
     "metadata": {},
     "output_type": "execute_result"
    }
   ],
   "source": [
    "\"\"\"\n",
    "sales_data['age_group'] = sales_data['age_group'].astype('category')\n",
    "sales_data['campaign_id'] = sales_data['campaign_id'].astype('category')\n",
    "sales_data['group_id'] = sales_data['group_id'].astype('category')\n",
    "sales_data['user_type'] = sales_data['user_type'].astype('category')\n",
    "sales_data['state_id'] = sales_data['state_id'].astype('category')\n",
    "\"\"\""
   ]
  },
  {
   "cell_type": "code",
   "execution_count": 5,
   "id": "2e0288e3",
   "metadata": {},
   "outputs": [],
   "source": [
    "profile = ProfileReport(sales_data, title=\"Sales Data Report\", explorative=True, dark_mode=True)"
   ]
  },
  {
   "cell_type": "code",
   "execution_count": 6,
   "id": "47301016",
   "metadata": {},
   "outputs": [
    {
     "data": {
      "application/vnd.jupyter.widget-view+json": {
       "model_id": "ae6bd43aa07d4fff8ad3896da6f3192d",
       "version_major": 2,
       "version_minor": 0
      },
      "text/plain": [
       "Summarize dataset:   0%|          | 0/25 [00:00<?, ?it/s]"
      ]
     },
     "metadata": {},
     "output_type": "display_data"
    },
    {
     "name": "stderr",
     "output_type": "stream",
     "text": [
      "overflow encountered in long_scalars\n"
     ]
    },
    {
     "data": {
      "application/vnd.jupyter.widget-view+json": {
       "model_id": "22db9bc06a064894947a13f733aa7cfc",
       "version_major": 2,
       "version_minor": 0
      },
      "text/plain": [
       "Generate report structure:   0%|          | 0/1 [00:00<?, ?it/s]"
      ]
     },
     "metadata": {},
     "output_type": "display_data"
    },
    {
     "data": {
      "application/vnd.jupyter.widget-view+json": {
       "model_id": "",
       "version_major": 2,
       "version_minor": 0
      },
      "text/plain": [
       "Render widgets:   0%|          | 0/1 [00:00<?, ?it/s]"
      ]
     },
     "metadata": {},
     "output_type": "display_data"
    },
    {
     "data": {
      "application/vnd.jupyter.widget-view+json": {
       "model_id": "e2d044ec9e434f6591882210e969c001",
       "version_major": 2,
       "version_minor": 0
      },
      "text/plain": [
       "VBox(children=(Tab(children=(Tab(children=(GridBox(children=(VBox(children=(GridspecLayout(children=(HTML(valu…"
      ]
     },
     "metadata": {},
     "output_type": "display_data"
    }
   ],
   "source": [
    "profile.to_widgets()"
   ]
  },
  {
   "cell_type": "code",
   "execution_count": 7,
   "id": "aff4bfd9",
   "metadata": {},
   "outputs": [],
   "source": [
    "# profile.to_notebook_iframe()"
   ]
  },
  {
   "cell_type": "markdown",
   "id": "a6dc9bfc",
   "metadata": {},
   "source": [
    "**Notes**:\n",
    "\n",
    "   - missing values in sales. remove from analysis\n",
    "   - imbalance in sales. need to rebalance\n",
    "   - missing values in platform. remove?\n",
    "   - imabalance in platform. rebalance?\n",
    "   - encode categorical string variables \n",
    "   - log transform interactions?\n",
    "   - reduce cardinatlity of group_id ?"
   ]
  },
  {
   "cell_type": "markdown",
   "id": "bc90bb1b",
   "metadata": {},
   "source": [
    "## Clean-up"
   ]
  },
  {
   "cell_type": "code",
   "execution_count": 637,
   "id": "b603fa1c",
   "metadata": {},
   "outputs": [
    {
     "data": {
      "text/markdown": [
       "### 1. Remove empty sales"
      ],
      "text/plain": [
       "<IPython.core.display.Markdown object>"
      ]
     },
     "metadata": {},
     "output_type": "display_data"
    }
   ],
   "source": [
    "display(Markdown(\"### 1. Remove empty sales\"))"
   ]
  },
  {
   "cell_type": "code",
   "execution_count": 736,
   "id": "cd324c6b",
   "metadata": {},
   "outputs": [],
   "source": [
    "empty_sales_mask = np.isnan(sales_data['sale'])\n",
    "\n",
    "sales_data_cleaned = sales_data[~empty_sales_mask].copy()"
   ]
  },
  {
   "cell_type": "code",
   "execution_count": 737,
   "id": "8f350cea",
   "metadata": {},
   "outputs": [
    {
     "data": {
      "text/html": [
       "<div>\n",
       "<style scoped>\n",
       "    .dataframe tbody tr th:only-of-type {\n",
       "        vertical-align: middle;\n",
       "    }\n",
       "\n",
       "    .dataframe tbody tr th {\n",
       "        vertical-align: top;\n",
       "    }\n",
       "\n",
       "    .dataframe thead th {\n",
       "        text-align: right;\n",
       "    }\n",
       "</style>\n",
       "<table border=\"1\" class=\"dataframe\">\n",
       "  <thead>\n",
       "    <tr style=\"text-align: right;\">\n",
       "      <th></th>\n",
       "      <th>date</th>\n",
       "      <th>campaign_id</th>\n",
       "      <th>group_id</th>\n",
       "      <th>age_group</th>\n",
       "      <th>gender</th>\n",
       "      <th>user_type</th>\n",
       "      <th>platform</th>\n",
       "      <th>state_id</th>\n",
       "      <th>interactions</th>\n",
       "      <th>sale</th>\n",
       "    </tr>\n",
       "    <tr>\n",
       "      <th>id</th>\n",
       "      <th></th>\n",
       "      <th></th>\n",
       "      <th></th>\n",
       "      <th></th>\n",
       "      <th></th>\n",
       "      <th></th>\n",
       "      <th></th>\n",
       "      <th></th>\n",
       "      <th></th>\n",
       "      <th></th>\n",
       "    </tr>\n",
       "  </thead>\n",
       "  <tbody>\n",
       "    <tr>\n",
       "      <th>277133</th>\n",
       "      <td>2021-05-04</td>\n",
       "      <td>3</td>\n",
       "      <td>372</td>\n",
       "      <td>45-49</td>\n",
       "      <td>F</td>\n",
       "      <td>0</td>\n",
       "      <td>desktop</td>\n",
       "      <td>19</td>\n",
       "      <td>5249</td>\n",
       "      <td>0.0</td>\n",
       "    </tr>\n",
       "    <tr>\n",
       "      <th>270342</th>\n",
       "      <td>2021-05-04</td>\n",
       "      <td>3</td>\n",
       "      <td>313</td>\n",
       "      <td>35-39</td>\n",
       "      <td>F</td>\n",
       "      <td>4</td>\n",
       "      <td>desktop</td>\n",
       "      <td>16</td>\n",
       "      <td>1522</td>\n",
       "      <td>0.0</td>\n",
       "    </tr>\n",
       "    <tr>\n",
       "      <th>161280</th>\n",
       "      <td>2021-05-02</td>\n",
       "      <td>3</td>\n",
       "      <td>321</td>\n",
       "      <td>30-34</td>\n",
       "      <td>M</td>\n",
       "      <td>1</td>\n",
       "      <td>desktop</td>\n",
       "      <td>25</td>\n",
       "      <td>2</td>\n",
       "      <td>0.0</td>\n",
       "    </tr>\n",
       "    <tr>\n",
       "      <th>252773</th>\n",
       "      <td>2021-05-04</td>\n",
       "      <td>3</td>\n",
       "      <td>426</td>\n",
       "      <td>30-34</td>\n",
       "      <td>F</td>\n",
       "      <td>0</td>\n",
       "      <td>NaN</td>\n",
       "      <td>27</td>\n",
       "      <td>2</td>\n",
       "      <td>1.0</td>\n",
       "    </tr>\n",
       "    <tr>\n",
       "      <th>118886</th>\n",
       "      <td>2021-05-01</td>\n",
       "      <td>3</td>\n",
       "      <td>337</td>\n",
       "      <td>40-44</td>\n",
       "      <td>M</td>\n",
       "      <td>8</td>\n",
       "      <td>desktop</td>\n",
       "      <td>16</td>\n",
       "      <td>2</td>\n",
       "      <td>0.0</td>\n",
       "    </tr>\n",
       "    <tr>\n",
       "      <th>...</th>\n",
       "      <td>...</td>\n",
       "      <td>...</td>\n",
       "      <td>...</td>\n",
       "      <td>...</td>\n",
       "      <td>...</td>\n",
       "      <td>...</td>\n",
       "      <td>...</td>\n",
       "      <td>...</td>\n",
       "      <td>...</td>\n",
       "      <td>...</td>\n",
       "    </tr>\n",
       "    <tr>\n",
       "      <th>71168</th>\n",
       "      <td>2021-05-01</td>\n",
       "      <td>3</td>\n",
       "      <td>404</td>\n",
       "      <td>30-34</td>\n",
       "      <td>F</td>\n",
       "      <td>2</td>\n",
       "      <td>NaN</td>\n",
       "      <td>5</td>\n",
       "      <td>2</td>\n",
       "      <td>0.0</td>\n",
       "    </tr>\n",
       "    <tr>\n",
       "      <th>8348</th>\n",
       "      <td>2021-05-01</td>\n",
       "      <td>3</td>\n",
       "      <td>329</td>\n",
       "      <td>35-39</td>\n",
       "      <td>F</td>\n",
       "      <td>2</td>\n",
       "      <td>desktop</td>\n",
       "      <td>26</td>\n",
       "      <td>1625</td>\n",
       "      <td>0.0</td>\n",
       "    </tr>\n",
       "    <tr>\n",
       "      <th>242565</th>\n",
       "      <td>2021-05-04</td>\n",
       "      <td>3</td>\n",
       "      <td>361</td>\n",
       "      <td>35-39</td>\n",
       "      <td>F</td>\n",
       "      <td>7</td>\n",
       "      <td>desktop</td>\n",
       "      <td>12</td>\n",
       "      <td>2</td>\n",
       "      <td>0.0</td>\n",
       "    </tr>\n",
       "    <tr>\n",
       "      <th>199292</th>\n",
       "      <td>2021-05-03</td>\n",
       "      <td>3</td>\n",
       "      <td>377</td>\n",
       "      <td>40-44</td>\n",
       "      <td>M</td>\n",
       "      <td>7</td>\n",
       "      <td>desktop</td>\n",
       "      <td>20</td>\n",
       "      <td>1259</td>\n",
       "      <td>0.0</td>\n",
       "    </tr>\n",
       "    <tr>\n",
       "      <th>106848</th>\n",
       "      <td>2021-05-01</td>\n",
       "      <td>3</td>\n",
       "      <td>488</td>\n",
       "      <td>35-39</td>\n",
       "      <td>NaN</td>\n",
       "      <td>4</td>\n",
       "      <td>NaN</td>\n",
       "      <td>28</td>\n",
       "      <td>2</td>\n",
       "      <td>0.0</td>\n",
       "    </tr>\n",
       "  </tbody>\n",
       "</table>\n",
       "<p>426296 rows × 10 columns</p>\n",
       "</div>"
      ],
      "text/plain": [
       "              date  campaign_id  group_id age_group gender  user_type  \\\n",
       "id                                                                      \n",
       "277133  2021-05-04            3       372     45-49      F          0   \n",
       "270342  2021-05-04            3       313     35-39      F          4   \n",
       "161280  2021-05-02            3       321     30-34      M          1   \n",
       "252773  2021-05-04            3       426     30-34      F          0   \n",
       "118886  2021-05-01            3       337     40-44      M          8   \n",
       "...            ...          ...       ...       ...    ...        ...   \n",
       "71168   2021-05-01            3       404     30-34      F          2   \n",
       "8348    2021-05-01            3       329     35-39      F          2   \n",
       "242565  2021-05-04            3       361     35-39      F          7   \n",
       "199292  2021-05-03            3       377     40-44      M          7   \n",
       "106848  2021-05-01            3       488     35-39    NaN          4   \n",
       "\n",
       "       platform  state_id  interactions  sale  \n",
       "id                                             \n",
       "277133  desktop        19          5249   0.0  \n",
       "270342  desktop        16          1522   0.0  \n",
       "161280  desktop        25             2   0.0  \n",
       "252773      NaN        27             2   1.0  \n",
       "118886  desktop        16             2   0.0  \n",
       "...         ...       ...           ...   ...  \n",
       "71168       NaN         5             2   0.0  \n",
       "8348    desktop        26          1625   0.0  \n",
       "242565  desktop        12             2   0.0  \n",
       "199292  desktop        20          1259   0.0  \n",
       "106848      NaN        28             2   0.0  \n",
       "\n",
       "[426296 rows x 10 columns]"
      ]
     },
     "execution_count": 737,
     "metadata": {},
     "output_type": "execute_result"
    }
   ],
   "source": [
    "sales_data_cleaned"
   ]
  },
  {
   "cell_type": "code",
   "execution_count": 738,
   "id": "7ff1b9d5",
   "metadata": {},
   "outputs": [],
   "source": [
    "sales_data_cleaned=sales_data_cleaned.fillna('not available')"
   ]
  },
  {
   "cell_type": "markdown",
   "id": "d0027229",
   "metadata": {},
   "source": [
    "## Log-transform `interactions`"
   ]
  },
  {
   "cell_type": "code",
   "execution_count": 739,
   "id": "9e5ab939",
   "metadata": {},
   "outputs": [],
   "source": [
    "def log_trans(df):    \n",
    "    df['interactions'] = np.log10(df['interactions'])\n",
    "    return pd.DataFrame(df, columns=df.columns)\n"
   ]
  },
  {
   "cell_type": "markdown",
   "id": "34af8f33",
   "metadata": {},
   "source": [
    "## Re-balancing `sale`"
   ]
  },
  {
   "cell_type": "code",
   "execution_count": 740,
   "id": "963f391c",
   "metadata": {},
   "outputs": [],
   "source": [
    "feature_cols = ['campaign_id', 'group_id', 'age_group', 'gender', 'user_type', 'platform', 'state_id', 'interactions']\n",
    "target_col = ['sale']"
   ]
  },
  {
   "cell_type": "code",
   "execution_count": 741,
   "id": "982b72d4",
   "metadata": {},
   "outputs": [
    {
     "data": {
      "text/html": [
       "<div>\n",
       "<style scoped>\n",
       "    .dataframe tbody tr th:only-of-type {\n",
       "        vertical-align: middle;\n",
       "    }\n",
       "\n",
       "    .dataframe tbody tr th {\n",
       "        vertical-align: top;\n",
       "    }\n",
       "\n",
       "    .dataframe thead th {\n",
       "        text-align: right;\n",
       "    }\n",
       "</style>\n",
       "<table border=\"1\" class=\"dataframe\">\n",
       "  <thead>\n",
       "    <tr style=\"text-align: right;\">\n",
       "      <th></th>\n",
       "      <th>campaign_id</th>\n",
       "      <th>group_id</th>\n",
       "      <th>age_group</th>\n",
       "      <th>gender</th>\n",
       "      <th>user_type</th>\n",
       "      <th>platform</th>\n",
       "      <th>state_id</th>\n",
       "      <th>interactions</th>\n",
       "    </tr>\n",
       "    <tr>\n",
       "      <th>id</th>\n",
       "      <th></th>\n",
       "      <th></th>\n",
       "      <th></th>\n",
       "      <th></th>\n",
       "      <th></th>\n",
       "      <th></th>\n",
       "      <th></th>\n",
       "      <th></th>\n",
       "    </tr>\n",
       "  </thead>\n",
       "  <tbody>\n",
       "    <tr>\n",
       "      <th>277133</th>\n",
       "      <td>3</td>\n",
       "      <td>372</td>\n",
       "      <td>45-49</td>\n",
       "      <td>F</td>\n",
       "      <td>0</td>\n",
       "      <td>desktop</td>\n",
       "      <td>19</td>\n",
       "      <td>5249</td>\n",
       "    </tr>\n",
       "    <tr>\n",
       "      <th>270342</th>\n",
       "      <td>3</td>\n",
       "      <td>313</td>\n",
       "      <td>35-39</td>\n",
       "      <td>F</td>\n",
       "      <td>4</td>\n",
       "      <td>desktop</td>\n",
       "      <td>16</td>\n",
       "      <td>1522</td>\n",
       "    </tr>\n",
       "    <tr>\n",
       "      <th>161280</th>\n",
       "      <td>3</td>\n",
       "      <td>321</td>\n",
       "      <td>30-34</td>\n",
       "      <td>M</td>\n",
       "      <td>1</td>\n",
       "      <td>desktop</td>\n",
       "      <td>25</td>\n",
       "      <td>2</td>\n",
       "    </tr>\n",
       "    <tr>\n",
       "      <th>252773</th>\n",
       "      <td>3</td>\n",
       "      <td>426</td>\n",
       "      <td>30-34</td>\n",
       "      <td>F</td>\n",
       "      <td>0</td>\n",
       "      <td>not available</td>\n",
       "      <td>27</td>\n",
       "      <td>2</td>\n",
       "    </tr>\n",
       "    <tr>\n",
       "      <th>118886</th>\n",
       "      <td>3</td>\n",
       "      <td>337</td>\n",
       "      <td>40-44</td>\n",
       "      <td>M</td>\n",
       "      <td>8</td>\n",
       "      <td>desktop</td>\n",
       "      <td>16</td>\n",
       "      <td>2</td>\n",
       "    </tr>\n",
       "    <tr>\n",
       "      <th>...</th>\n",
       "      <td>...</td>\n",
       "      <td>...</td>\n",
       "      <td>...</td>\n",
       "      <td>...</td>\n",
       "      <td>...</td>\n",
       "      <td>...</td>\n",
       "      <td>...</td>\n",
       "      <td>...</td>\n",
       "    </tr>\n",
       "    <tr>\n",
       "      <th>71168</th>\n",
       "      <td>3</td>\n",
       "      <td>404</td>\n",
       "      <td>30-34</td>\n",
       "      <td>F</td>\n",
       "      <td>2</td>\n",
       "      <td>not available</td>\n",
       "      <td>5</td>\n",
       "      <td>2</td>\n",
       "    </tr>\n",
       "    <tr>\n",
       "      <th>8348</th>\n",
       "      <td>3</td>\n",
       "      <td>329</td>\n",
       "      <td>35-39</td>\n",
       "      <td>F</td>\n",
       "      <td>2</td>\n",
       "      <td>desktop</td>\n",
       "      <td>26</td>\n",
       "      <td>1625</td>\n",
       "    </tr>\n",
       "    <tr>\n",
       "      <th>242565</th>\n",
       "      <td>3</td>\n",
       "      <td>361</td>\n",
       "      <td>35-39</td>\n",
       "      <td>F</td>\n",
       "      <td>7</td>\n",
       "      <td>desktop</td>\n",
       "      <td>12</td>\n",
       "      <td>2</td>\n",
       "    </tr>\n",
       "    <tr>\n",
       "      <th>199292</th>\n",
       "      <td>3</td>\n",
       "      <td>377</td>\n",
       "      <td>40-44</td>\n",
       "      <td>M</td>\n",
       "      <td>7</td>\n",
       "      <td>desktop</td>\n",
       "      <td>20</td>\n",
       "      <td>1259</td>\n",
       "    </tr>\n",
       "    <tr>\n",
       "      <th>106848</th>\n",
       "      <td>3</td>\n",
       "      <td>488</td>\n",
       "      <td>35-39</td>\n",
       "      <td>not available</td>\n",
       "      <td>4</td>\n",
       "      <td>not available</td>\n",
       "      <td>28</td>\n",
       "      <td>2</td>\n",
       "    </tr>\n",
       "  </tbody>\n",
       "</table>\n",
       "<p>426296 rows × 8 columns</p>\n",
       "</div>"
      ],
      "text/plain": [
       "        campaign_id  group_id age_group         gender  user_type  \\\n",
       "id                                                                  \n",
       "277133            3       372     45-49              F          0   \n",
       "270342            3       313     35-39              F          4   \n",
       "161280            3       321     30-34              M          1   \n",
       "252773            3       426     30-34              F          0   \n",
       "118886            3       337     40-44              M          8   \n",
       "...             ...       ...       ...            ...        ...   \n",
       "71168             3       404     30-34              F          2   \n",
       "8348              3       329     35-39              F          2   \n",
       "242565            3       361     35-39              F          7   \n",
       "199292            3       377     40-44              M          7   \n",
       "106848            3       488     35-39  not available          4   \n",
       "\n",
       "             platform  state_id  interactions  \n",
       "id                                             \n",
       "277133        desktop        19          5249  \n",
       "270342        desktop        16          1522  \n",
       "161280        desktop        25             2  \n",
       "252773  not available        27             2  \n",
       "118886        desktop        16             2  \n",
       "...               ...       ...           ...  \n",
       "71168   not available         5             2  \n",
       "8348          desktop        26          1625  \n",
       "242565        desktop        12             2  \n",
       "199292        desktop        20          1259  \n",
       "106848  not available        28             2  \n",
       "\n",
       "[426296 rows x 8 columns]"
      ]
     },
     "execution_count": 741,
     "metadata": {},
     "output_type": "execute_result"
    }
   ],
   "source": [
    "sales_data_cleaned[feature_cols]"
   ]
  },
  {
   "cell_type": "markdown",
   "id": "57f21e11",
   "metadata": {},
   "source": [
    "### Random undersampler"
   ]
  },
  {
   "cell_type": "code",
   "execution_count": 742,
   "id": "8a2d4fd8",
   "metadata": {},
   "outputs": [],
   "source": [
    "from imblearn.under_sampling import RandomUnderSampler, NearMiss, TomekLinks\n",
    "from imblearn.combine import SMOTETomek\n",
    "from imblearn.over_sampling import SMOTENC\n",
    "\n",
    "rus = RandomUnderSampler(random_state=42, sampling_strategy=1.0, replacement=True)"
   ]
  },
  {
   "cell_type": "code",
   "execution_count": 752,
   "id": "13e0b742",
   "metadata": {},
   "outputs": [],
   "source": [
    "X, y = rus.fit_resample(X=sales_data_cleaned[feature_cols],\n",
    "                       y=sales_data_cleaned[target_col])"
   ]
  },
  {
   "cell_type": "code",
   "execution_count": 753,
   "id": "53b5d707",
   "metadata": {},
   "outputs": [
    {
     "data": {
      "text/html": [
       "<div>\n",
       "<style scoped>\n",
       "    .dataframe tbody tr th:only-of-type {\n",
       "        vertical-align: middle;\n",
       "    }\n",
       "\n",
       "    .dataframe tbody tr th {\n",
       "        vertical-align: top;\n",
       "    }\n",
       "\n",
       "    .dataframe thead th {\n",
       "        text-align: right;\n",
       "    }\n",
       "</style>\n",
       "<table border=\"1\" class=\"dataframe\">\n",
       "  <thead>\n",
       "    <tr style=\"text-align: right;\">\n",
       "      <th></th>\n",
       "      <th>campaign_id</th>\n",
       "      <th>group_id</th>\n",
       "      <th>age_group</th>\n",
       "      <th>gender</th>\n",
       "      <th>user_type</th>\n",
       "      <th>platform</th>\n",
       "      <th>state_id</th>\n",
       "      <th>interactions</th>\n",
       "    </tr>\n",
       "  </thead>\n",
       "  <tbody>\n",
       "    <tr>\n",
       "      <th>0</th>\n",
       "      <td>3</td>\n",
       "      <td>401</td>\n",
       "      <td>30-34</td>\n",
       "      <td>F</td>\n",
       "      <td>4</td>\n",
       "      <td>not available</td>\n",
       "      <td>32</td>\n",
       "      <td>5381</td>\n",
       "    </tr>\n",
       "    <tr>\n",
       "      <th>1</th>\n",
       "      <td>3</td>\n",
       "      <td>423</td>\n",
       "      <td>45-49</td>\n",
       "      <td>F</td>\n",
       "      <td>1</td>\n",
       "      <td>not available</td>\n",
       "      <td>49</td>\n",
       "      <td>1771</td>\n",
       "    </tr>\n",
       "    <tr>\n",
       "      <th>2</th>\n",
       "      <td>3</td>\n",
       "      <td>420</td>\n",
       "      <td>35-39</td>\n",
       "      <td>M</td>\n",
       "      <td>2</td>\n",
       "      <td>not available</td>\n",
       "      <td>28</td>\n",
       "      <td>2</td>\n",
       "    </tr>\n",
       "    <tr>\n",
       "      <th>3</th>\n",
       "      <td>3</td>\n",
       "      <td>236</td>\n",
       "      <td>40-44</td>\n",
       "      <td>M</td>\n",
       "      <td>1</td>\n",
       "      <td>desktop</td>\n",
       "      <td>20</td>\n",
       "      <td>2</td>\n",
       "    </tr>\n",
       "    <tr>\n",
       "      <th>4</th>\n",
       "      <td>3</td>\n",
       "      <td>345</td>\n",
       "      <td>40-44</td>\n",
       "      <td>F</td>\n",
       "      <td>5</td>\n",
       "      <td>desktop</td>\n",
       "      <td>9</td>\n",
       "      <td>2</td>\n",
       "    </tr>\n",
       "    <tr>\n",
       "      <th>...</th>\n",
       "      <td>...</td>\n",
       "      <td>...</td>\n",
       "      <td>...</td>\n",
       "      <td>...</td>\n",
       "      <td>...</td>\n",
       "      <td>...</td>\n",
       "      <td>...</td>\n",
       "      <td>...</td>\n",
       "    </tr>\n",
       "    <tr>\n",
       "      <th>54987</th>\n",
       "      <td>3</td>\n",
       "      <td>380</td>\n",
       "      <td>30-34</td>\n",
       "      <td>M</td>\n",
       "      <td>5</td>\n",
       "      <td>desktop</td>\n",
       "      <td>20</td>\n",
       "      <td>921</td>\n",
       "    </tr>\n",
       "    <tr>\n",
       "      <th>54988</th>\n",
       "      <td>3</td>\n",
       "      <td>469</td>\n",
       "      <td>45-49</td>\n",
       "      <td>M</td>\n",
       "      <td>1</td>\n",
       "      <td>not available</td>\n",
       "      <td>12</td>\n",
       "      <td>777</td>\n",
       "    </tr>\n",
       "    <tr>\n",
       "      <th>54989</th>\n",
       "      <td>3</td>\n",
       "      <td>339</td>\n",
       "      <td>40-44</td>\n",
       "      <td>M</td>\n",
       "      <td>0</td>\n",
       "      <td>desktop</td>\n",
       "      <td>14</td>\n",
       "      <td>2</td>\n",
       "    </tr>\n",
       "    <tr>\n",
       "      <th>54990</th>\n",
       "      <td>3</td>\n",
       "      <td>296</td>\n",
       "      <td>40-44</td>\n",
       "      <td>F</td>\n",
       "      <td>0</td>\n",
       "      <td>desktop</td>\n",
       "      <td>27</td>\n",
       "      <td>2184</td>\n",
       "    </tr>\n",
       "    <tr>\n",
       "      <th>54991</th>\n",
       "      <td>3</td>\n",
       "      <td>418</td>\n",
       "      <td>45-49</td>\n",
       "      <td>F</td>\n",
       "      <td>3</td>\n",
       "      <td>not available</td>\n",
       "      <td>27</td>\n",
       "      <td>7522</td>\n",
       "    </tr>\n",
       "  </tbody>\n",
       "</table>\n",
       "<p>54992 rows × 8 columns</p>\n",
       "</div>"
      ],
      "text/plain": [
       "       campaign_id  group_id age_group gender  user_type       platform  \\\n",
       "0                3       401     30-34      F          4  not available   \n",
       "1                3       423     45-49      F          1  not available   \n",
       "2                3       420     35-39      M          2  not available   \n",
       "3                3       236     40-44      M          1        desktop   \n",
       "4                3       345     40-44      F          5        desktop   \n",
       "...            ...       ...       ...    ...        ...            ...   \n",
       "54987            3       380     30-34      M          5        desktop   \n",
       "54988            3       469     45-49      M          1  not available   \n",
       "54989            3       339     40-44      M          0        desktop   \n",
       "54990            3       296     40-44      F          0        desktop   \n",
       "54991            3       418     45-49      F          3  not available   \n",
       "\n",
       "       state_id  interactions  \n",
       "0            32          5381  \n",
       "1            49          1771  \n",
       "2            28             2  \n",
       "3            20             2  \n",
       "4             9             2  \n",
       "...         ...           ...  \n",
       "54987        20           921  \n",
       "54988        12           777  \n",
       "54989        14             2  \n",
       "54990        27          2184  \n",
       "54991        27          7522  \n",
       "\n",
       "[54992 rows x 8 columns]"
      ]
     },
     "execution_count": 753,
     "metadata": {},
     "output_type": "execute_result"
    }
   ],
   "source": [
    "X"
   ]
  },
  {
   "cell_type": "code",
   "execution_count": 754,
   "id": "508d49d9",
   "metadata": {},
   "outputs": [
    {
     "data": {
      "text/html": [
       "<div>\n",
       "<style scoped>\n",
       "    .dataframe tbody tr th:only-of-type {\n",
       "        vertical-align: middle;\n",
       "    }\n",
       "\n",
       "    .dataframe tbody tr th {\n",
       "        vertical-align: top;\n",
       "    }\n",
       "\n",
       "    .dataframe thead th {\n",
       "        text-align: right;\n",
       "    }\n",
       "</style>\n",
       "<table border=\"1\" class=\"dataframe\">\n",
       "  <thead>\n",
       "    <tr style=\"text-align: right;\">\n",
       "      <th></th>\n",
       "      <th>sale</th>\n",
       "    </tr>\n",
       "  </thead>\n",
       "  <tbody>\n",
       "    <tr>\n",
       "      <th>0</th>\n",
       "      <td>0.0</td>\n",
       "    </tr>\n",
       "    <tr>\n",
       "      <th>1</th>\n",
       "      <td>0.0</td>\n",
       "    </tr>\n",
       "    <tr>\n",
       "      <th>2</th>\n",
       "      <td>0.0</td>\n",
       "    </tr>\n",
       "    <tr>\n",
       "      <th>3</th>\n",
       "      <td>0.0</td>\n",
       "    </tr>\n",
       "    <tr>\n",
       "      <th>4</th>\n",
       "      <td>0.0</td>\n",
       "    </tr>\n",
       "    <tr>\n",
       "      <th>...</th>\n",
       "      <td>...</td>\n",
       "    </tr>\n",
       "    <tr>\n",
       "      <th>54987</th>\n",
       "      <td>1.0</td>\n",
       "    </tr>\n",
       "    <tr>\n",
       "      <th>54988</th>\n",
       "      <td>1.0</td>\n",
       "    </tr>\n",
       "    <tr>\n",
       "      <th>54989</th>\n",
       "      <td>1.0</td>\n",
       "    </tr>\n",
       "    <tr>\n",
       "      <th>54990</th>\n",
       "      <td>1.0</td>\n",
       "    </tr>\n",
       "    <tr>\n",
       "      <th>54991</th>\n",
       "      <td>1.0</td>\n",
       "    </tr>\n",
       "  </tbody>\n",
       "</table>\n",
       "<p>54992 rows × 1 columns</p>\n",
       "</div>"
      ],
      "text/plain": [
       "       sale\n",
       "0       0.0\n",
       "1       0.0\n",
       "2       0.0\n",
       "3       0.0\n",
       "4       0.0\n",
       "...     ...\n",
       "54987   1.0\n",
       "54988   1.0\n",
       "54989   1.0\n",
       "54990   1.0\n",
       "54991   1.0\n",
       "\n",
       "[54992 rows x 1 columns]"
      ]
     },
     "execution_count": 754,
     "metadata": {},
     "output_type": "execute_result"
    }
   ],
   "source": [
    "y"
   ]
  },
  {
   "cell_type": "code",
   "execution_count": 755,
   "id": "9ec51c26",
   "metadata": {},
   "outputs": [
    {
     "data": {
      "text/plain": [
       "sale\n",
       "0.0    27496\n",
       "1.0    27496\n",
       "dtype: int64"
      ]
     },
     "execution_count": 755,
     "metadata": {},
     "output_type": "execute_result"
    }
   ],
   "source": [
    "y.groupby(by='sale').size()"
   ]
  },
  {
   "cell_type": "markdown",
   "id": "f532c87b",
   "metadata": {},
   "source": [
    "## Data Preparation Pipeline"
   ]
  },
  {
   "cell_type": "code",
   "execution_count": 784,
   "id": "9cb2f475",
   "metadata": {},
   "outputs": [],
   "source": [
    "def reduce_column(df, column, q):  \n",
    "    \n",
    "    column_freqs = pd.DataFrame(df[column].value_counts())\n",
    "    column_freqs = column_freqs.reset_index().rename(columns={'index': column,\n",
    "                                                               column: 'count'})\n",
    "    \n",
    "    \n",
    "    quantile = np.int(np.floor(np.quantile(column_freqs['count'], q=q/100)))\n",
    "    threshold_mask = column_freqs['count'] > quantile\n",
    "    \n",
    "    \n",
    "    df[column] = np.where(df[column].isin(column_freqs[~threshold_mask][column]), 'Other', df[column])\n",
    "    \n",
    "    return pd.DataFrame(df, columns=df.columns)"
   ]
  },
  {
   "cell_type": "code",
   "execution_count": 796,
   "id": "ccb95ad0",
   "metadata": {},
   "outputs": [],
   "source": [
    "# the last two steps are optional, comment out if needed\n",
    "data_preparation_pipeline = Pipeline([\n",
    "    (\"log_trans_interactions\", FunctionTransformer(log_trans)),\n",
    "    (\"reduce_group_id\", FunctionTransformer(reduce_column, kw_args={'q': 99, 'column': 'group_id'})),\n",
    "    (\"reduce_user_type\", FunctionTransformer(reduce_column, kw_args={'q': 80, 'column': 'user_type'}))            \n",
    "])\n"
   ]
  },
  {
   "cell_type": "code",
   "execution_count": 797,
   "id": "8679c54e",
   "metadata": {},
   "outputs": [],
   "source": [
    "X_processed = data_preparation_pipeline.fit_transform(X.copy())"
   ]
  },
  {
   "cell_type": "code",
   "execution_count": 798,
   "id": "ed8c096b",
   "metadata": {},
   "outputs": [
    {
     "data": {
      "text/html": [
       "<div>\n",
       "<style scoped>\n",
       "    .dataframe tbody tr th:only-of-type {\n",
       "        vertical-align: middle;\n",
       "    }\n",
       "\n",
       "    .dataframe tbody tr th {\n",
       "        vertical-align: top;\n",
       "    }\n",
       "\n",
       "    .dataframe thead th {\n",
       "        text-align: right;\n",
       "    }\n",
       "</style>\n",
       "<table border=\"1\" class=\"dataframe\">\n",
       "  <thead>\n",
       "    <tr style=\"text-align: right;\">\n",
       "      <th></th>\n",
       "      <th>campaign_id</th>\n",
       "      <th>group_id</th>\n",
       "      <th>age_group</th>\n",
       "      <th>gender</th>\n",
       "      <th>user_type</th>\n",
       "      <th>platform</th>\n",
       "      <th>state_id</th>\n",
       "      <th>interactions</th>\n",
       "    </tr>\n",
       "  </thead>\n",
       "  <tbody>\n",
       "    <tr>\n",
       "      <th>0</th>\n",
       "      <td>3</td>\n",
       "      <td>401</td>\n",
       "      <td>30-34</td>\n",
       "      <td>F</td>\n",
       "      <td>4</td>\n",
       "      <td>not available</td>\n",
       "      <td>32</td>\n",
       "      <td>3.730863</td>\n",
       "    </tr>\n",
       "    <tr>\n",
       "      <th>1</th>\n",
       "      <td>3</td>\n",
       "      <td>Other</td>\n",
       "      <td>45-49</td>\n",
       "      <td>F</td>\n",
       "      <td>1</td>\n",
       "      <td>not available</td>\n",
       "      <td>49</td>\n",
       "      <td>3.248219</td>\n",
       "    </tr>\n",
       "    <tr>\n",
       "      <th>2</th>\n",
       "      <td>3</td>\n",
       "      <td>Other</td>\n",
       "      <td>35-39</td>\n",
       "      <td>M</td>\n",
       "      <td>2</td>\n",
       "      <td>not available</td>\n",
       "      <td>28</td>\n",
       "      <td>0.301030</td>\n",
       "    </tr>\n",
       "    <tr>\n",
       "      <th>3</th>\n",
       "      <td>3</td>\n",
       "      <td>Other</td>\n",
       "      <td>40-44</td>\n",
       "      <td>M</td>\n",
       "      <td>1</td>\n",
       "      <td>desktop</td>\n",
       "      <td>20</td>\n",
       "      <td>0.301030</td>\n",
       "    </tr>\n",
       "    <tr>\n",
       "      <th>4</th>\n",
       "      <td>3</td>\n",
       "      <td>Other</td>\n",
       "      <td>40-44</td>\n",
       "      <td>F</td>\n",
       "      <td>Other</td>\n",
       "      <td>desktop</td>\n",
       "      <td>9</td>\n",
       "      <td>0.301030</td>\n",
       "    </tr>\n",
       "    <tr>\n",
       "      <th>...</th>\n",
       "      <td>...</td>\n",
       "      <td>...</td>\n",
       "      <td>...</td>\n",
       "      <td>...</td>\n",
       "      <td>...</td>\n",
       "      <td>...</td>\n",
       "      <td>...</td>\n",
       "      <td>...</td>\n",
       "    </tr>\n",
       "    <tr>\n",
       "      <th>54987</th>\n",
       "      <td>3</td>\n",
       "      <td>Other</td>\n",
       "      <td>30-34</td>\n",
       "      <td>M</td>\n",
       "      <td>Other</td>\n",
       "      <td>desktop</td>\n",
       "      <td>20</td>\n",
       "      <td>2.964260</td>\n",
       "    </tr>\n",
       "    <tr>\n",
       "      <th>54988</th>\n",
       "      <td>3</td>\n",
       "      <td>Other</td>\n",
       "      <td>45-49</td>\n",
       "      <td>M</td>\n",
       "      <td>1</td>\n",
       "      <td>not available</td>\n",
       "      <td>12</td>\n",
       "      <td>2.890421</td>\n",
       "    </tr>\n",
       "    <tr>\n",
       "      <th>54989</th>\n",
       "      <td>3</td>\n",
       "      <td>Other</td>\n",
       "      <td>40-44</td>\n",
       "      <td>M</td>\n",
       "      <td>0</td>\n",
       "      <td>desktop</td>\n",
       "      <td>14</td>\n",
       "      <td>0.301030</td>\n",
       "    </tr>\n",
       "    <tr>\n",
       "      <th>54990</th>\n",
       "      <td>3</td>\n",
       "      <td>Other</td>\n",
       "      <td>40-44</td>\n",
       "      <td>F</td>\n",
       "      <td>0</td>\n",
       "      <td>desktop</td>\n",
       "      <td>27</td>\n",
       "      <td>3.339253</td>\n",
       "    </tr>\n",
       "    <tr>\n",
       "      <th>54991</th>\n",
       "      <td>3</td>\n",
       "      <td>Other</td>\n",
       "      <td>45-49</td>\n",
       "      <td>F</td>\n",
       "      <td>3</td>\n",
       "      <td>not available</td>\n",
       "      <td>27</td>\n",
       "      <td>3.876333</td>\n",
       "    </tr>\n",
       "  </tbody>\n",
       "</table>\n",
       "<p>54992 rows × 8 columns</p>\n",
       "</div>"
      ],
      "text/plain": [
       "       campaign_id group_id age_group gender user_type       platform  \\\n",
       "0                3      401     30-34      F         4  not available   \n",
       "1                3    Other     45-49      F         1  not available   \n",
       "2                3    Other     35-39      M         2  not available   \n",
       "3                3    Other     40-44      M         1        desktop   \n",
       "4                3    Other     40-44      F     Other        desktop   \n",
       "...            ...      ...       ...    ...       ...            ...   \n",
       "54987            3    Other     30-34      M     Other        desktop   \n",
       "54988            3    Other     45-49      M         1  not available   \n",
       "54989            3    Other     40-44      M         0        desktop   \n",
       "54990            3    Other     40-44      F         0        desktop   \n",
       "54991            3    Other     45-49      F         3  not available   \n",
       "\n",
       "       state_id  interactions  \n",
       "0            32      3.730863  \n",
       "1            49      3.248219  \n",
       "2            28      0.301030  \n",
       "3            20      0.301030  \n",
       "4             9      0.301030  \n",
       "...         ...           ...  \n",
       "54987        20      2.964260  \n",
       "54988        12      2.890421  \n",
       "54989        14      0.301030  \n",
       "54990        27      3.339253  \n",
       "54991        27      3.876333  \n",
       "\n",
       "[54992 rows x 8 columns]"
      ]
     },
     "execution_count": 798,
     "metadata": {},
     "output_type": "execute_result"
    }
   ],
   "source": [
    "X_processed"
   ]
  },
  {
   "cell_type": "code",
   "execution_count": 799,
   "id": "d6d709e2",
   "metadata": {},
   "outputs": [],
   "source": [
    "categorical_columns = X_processed.columns[:-1]"
   ]
  },
  {
   "cell_type": "code",
   "execution_count": 800,
   "id": "206ba781",
   "metadata": {},
   "outputs": [],
   "source": [
    "for col in categorical_columns:\n",
    "    # all, but the last one 'interactions'\n",
    "    X_processed[col] = X_processed[col].astype('str')"
   ]
  },
  {
   "cell_type": "code",
   "execution_count": 801,
   "id": "d8fbfcb6",
   "metadata": {},
   "outputs": [],
   "source": [
    "campaign_id_cats = list(X_processed['campaign_id'].value_counts().index)\n",
    "group_id_cats = list(X_processed['group_id'].value_counts().index)\n",
    "age_group_cats = list(X_processed['age_group'].value_counts().index)\n",
    "gender_cats = list(X_processed['gender'].value_counts().index)\n",
    "user_type_cats = list(X_processed['user_type'].value_counts().index)\n",
    "platform_cats = list(X_processed['platform'].value_counts().index)\n",
    "state_id_cats = list(X_processed['state_id'].value_counts().index)"
   ]
  },
  {
   "cell_type": "code",
   "execution_count": 813,
   "id": "18723f42",
   "metadata": {},
   "outputs": [],
   "source": [
    "from sklearn.preprocessing import OneHotEncoder\n",
    "\n",
    "enc = OneHotEncoder(categories=[campaign_id_cats,\n",
    "                                group_id_cats,\n",
    "                                age_group_cats,\n",
    "                                gender_cats,\n",
    "                                user_type_cats,\n",
    "                                platform_cats,\n",
    "                                state_id_cats],\n",
    "                    drop='first', sparse=False)\n",
    "\n",
    "encoder = ColumnTransformer([('cat', enc, categorical_columns)],\n",
    "                                  remainder='passthrough')\n",
    "\n",
    "encoding_pipeline = Pipeline([(\"one_hot_encoding\", encoder)])"
   ]
  },
  {
   "cell_type": "code",
   "execution_count": null,
   "id": "9a175b48",
   "metadata": {},
   "outputs": [],
   "source": []
  },
  {
   "cell_type": "markdown",
   "id": "ff444db6",
   "metadata": {},
   "source": [
    "## Train - Test Split"
   ]
  },
  {
   "cell_type": "code",
   "execution_count": 814,
   "id": "229767d7",
   "metadata": {},
   "outputs": [],
   "source": [
    "from sklearn.model_selection import train_test_split"
   ]
  },
  {
   "cell_type": "code",
   "execution_count": 815,
   "id": "2b763423",
   "metadata": {},
   "outputs": [],
   "source": [
    "X_train, X_test, y_train, y_test = train_test_split(X_processed, y,\n",
    "                                                    test_size=0.33,\n",
    "                                                    random_state=42,\n",
    "                                                    stratify=y)"
   ]
  },
  {
   "cell_type": "markdown",
   "id": "694145bc",
   "metadata": {},
   "source": [
    "------"
   ]
  },
  {
   "cell_type": "markdown",
   "id": "b27c781b",
   "metadata": {},
   "source": [
    "# Modelling"
   ]
  },
  {
   "cell_type": "markdown",
   "id": "baa313c7",
   "metadata": {},
   "source": [
    "## Baseline Models"
   ]
  },
  {
   "cell_type": "markdown",
   "id": "67dc13fd",
   "metadata": {},
   "source": [
    "### Statsmodels Logistics Regression"
   ]
  },
  {
   "cell_type": "code",
   "execution_count": 816,
   "id": "3724b798",
   "metadata": {},
   "outputs": [],
   "source": [
    "sm_train_data = X_train.join(y_train)\n",
    "sm_test_data = X_test.join(y_test)"
   ]
  },
  {
   "cell_type": "code",
   "execution_count": 817,
   "id": "c8aac040",
   "metadata": {},
   "outputs": [
    {
     "name": "stdout",
     "output_type": "stream",
     "text": [
      "Optimization terminated successfully.\n",
      "         Current function value: 0.655034\n",
      "         Iterations 5\n"
     ]
    }
   ],
   "source": [
    "formula = ('sale ~ C(campaign_id, Treatment(reference=\"3\")) + '\n",
    "           'C(group_id, Treatment(reference=\"403\")) + '\n",
    "           'C(age_group, Treatment(reference=\"35-39\")) + '\n",
    "           'C(gender, Treatment(reference=\"F\")) + '\n",
    "           'C(user_type, Treatment(reference=0)) +'\n",
    "           'C(platform, Treatment(reference=\"desktop\")) + '\n",
    "           'C(state_id, Treatment(reference=16)) + '\n",
    "           'interactions')\n",
    "\n",
    "log_reg_sm = smf.logit(formula=formula, data=sm_train_data).fit()"
   ]
  },
  {
   "cell_type": "code",
   "execution_count": 818,
   "id": "6e6105b2",
   "metadata": {},
   "outputs": [],
   "source": [
    "odds_ratios = pd.DataFrame(\n",
    "    {\n",
    "        \"OR\": log_reg_sm.params,\n",
    "        \"Lower CI\": log_reg_sm.conf_int()[0],\n",
    "        \"Upper CI\": log_reg_sm.conf_int()[1],\n",
    "    }\n",
    ")\n",
    "odds_ratios = np.exp(odds_ratios)\n",
    "\n",
    "odds_ratios[\"p-values\"] = log_reg_sm.pvalues"
   ]
  },
  {
   "cell_type": "code",
   "execution_count": 819,
   "id": "b6a40e6c",
   "metadata": {},
   "outputs": [
    {
     "data": {
      "text/html": [
       "<div>\n",
       "<style scoped>\n",
       "    .dataframe tbody tr th:only-of-type {\n",
       "        vertical-align: middle;\n",
       "    }\n",
       "\n",
       "    .dataframe tbody tr th {\n",
       "        vertical-align: top;\n",
       "    }\n",
       "\n",
       "    .dataframe thead th {\n",
       "        text-align: right;\n",
       "    }\n",
       "</style>\n",
       "<table border=\"1\" class=\"dataframe\">\n",
       "  <thead>\n",
       "    <tr style=\"text-align: right;\">\n",
       "      <th></th>\n",
       "      <th>OR</th>\n",
       "      <th>Lower CI</th>\n",
       "      <th>Upper CI</th>\n",
       "      <th>p-values</th>\n",
       "    </tr>\n",
       "  </thead>\n",
       "  <tbody>\n",
       "    <tr>\n",
       "      <th>Intercept</th>\n",
       "      <td>2.111591</td>\n",
       "      <td>1.530296</td>\n",
       "      <td>2.913695</td>\n",
       "      <td>5.368792e-06</td>\n",
       "    </tr>\n",
       "    <tr>\n",
       "      <th>C(campaign_id, Treatment(reference=\"3\"))[T.2]</th>\n",
       "      <td>1.470774</td>\n",
       "      <td>1.315305</td>\n",
       "      <td>1.644619</td>\n",
       "      <td>1.304902e-11</td>\n",
       "    </tr>\n",
       "    <tr>\n",
       "      <th>C(age_group, Treatment(reference=\"35-39\"))[T.30-34]</th>\n",
       "      <td>0.811350</td>\n",
       "      <td>0.758740</td>\n",
       "      <td>0.867607</td>\n",
       "      <td>9.843498e-10</td>\n",
       "    </tr>\n",
       "    <tr>\n",
       "      <th>C(age_group, Treatment(reference=\"35-39\"))[T.40-44]</th>\n",
       "      <td>1.751053</td>\n",
       "      <td>1.632349</td>\n",
       "      <td>1.878389</td>\n",
       "      <td>3.785508e-55</td>\n",
       "    </tr>\n",
       "    <tr>\n",
       "      <th>C(age_group, Treatment(reference=\"35-39\"))[T.45-49]</th>\n",
       "      <td>1.919334</td>\n",
       "      <td>1.801680</td>\n",
       "      <td>2.044672</td>\n",
       "      <td>9.726874e-91</td>\n",
       "    </tr>\n",
       "    <tr>\n",
       "      <th>C(gender, Treatment(reference=\"F\"))[T.M]</th>\n",
       "      <td>0.675162</td>\n",
       "      <td>0.644417</td>\n",
       "      <td>0.707373</td>\n",
       "      <td>2.684730e-61</td>\n",
       "    </tr>\n",
       "    <tr>\n",
       "      <th>C(state_id, Treatment(reference=16))[T.0]</th>\n",
       "      <td>0.221772</td>\n",
       "      <td>0.155789</td>\n",
       "      <td>0.315702</td>\n",
       "      <td>6.333882e-17</td>\n",
       "    </tr>\n",
       "    <tr>\n",
       "      <th>C(state_id, Treatment(reference=16))[T.1]</th>\n",
       "      <td>0.267550</td>\n",
       "      <td>0.198407</td>\n",
       "      <td>0.360790</td>\n",
       "      <td>5.482969e-18</td>\n",
       "    </tr>\n",
       "    <tr>\n",
       "      <th>C(state_id, Treatment(reference=16))[T.10]</th>\n",
       "      <td>0.294291</td>\n",
       "      <td>0.240280</td>\n",
       "      <td>0.360443</td>\n",
       "      <td>2.947100e-32</td>\n",
       "    </tr>\n",
       "    <tr>\n",
       "      <th>C(state_id, Treatment(reference=16))[T.11]</th>\n",
       "      <td>0.231453</td>\n",
       "      <td>0.170001</td>\n",
       "      <td>0.315119</td>\n",
       "      <td>1.473315e-20</td>\n",
       "    </tr>\n",
       "    <tr>\n",
       "      <th>C(state_id, Treatment(reference=16))[T.12]</th>\n",
       "      <td>0.313427</td>\n",
       "      <td>0.252721</td>\n",
       "      <td>0.388715</td>\n",
       "      <td>4.437277e-26</td>\n",
       "    </tr>\n",
       "    <tr>\n",
       "      <th>C(state_id, Treatment(reference=16))[T.13]</th>\n",
       "      <td>0.315915</td>\n",
       "      <td>0.249666</td>\n",
       "      <td>0.399743</td>\n",
       "      <td>8.300688e-22</td>\n",
       "    </tr>\n",
       "    <tr>\n",
       "      <th>C(state_id, Treatment(reference=16))[T.14]</th>\n",
       "      <td>0.532952</td>\n",
       "      <td>0.398156</td>\n",
       "      <td>0.713384</td>\n",
       "      <td>2.335701e-05</td>\n",
       "    </tr>\n",
       "    <tr>\n",
       "      <th>C(state_id, Treatment(reference=16))[T.15]</th>\n",
       "      <td>0.260852</td>\n",
       "      <td>0.209749</td>\n",
       "      <td>0.324407</td>\n",
       "      <td>1.360014e-33</td>\n",
       "    </tr>\n",
       "    <tr>\n",
       "      <th>C(state_id, Treatment(reference=16))[T.16]</th>\n",
       "      <td>0.270053</td>\n",
       "      <td>0.221275</td>\n",
       "      <td>0.329583</td>\n",
       "      <td>5.828156e-38</td>\n",
       "    </tr>\n",
       "    <tr>\n",
       "      <th>C(state_id, Treatment(reference=16))[T.18]</th>\n",
       "      <td>0.323405</td>\n",
       "      <td>0.259458</td>\n",
       "      <td>0.403113</td>\n",
       "      <td>9.897924e-24</td>\n",
       "    </tr>\n",
       "    <tr>\n",
       "      <th>C(state_id, Treatment(reference=16))[T.19]</th>\n",
       "      <td>0.513458</td>\n",
       "      <td>0.410773</td>\n",
       "      <td>0.641811</td>\n",
       "      <td>4.759254e-09</td>\n",
       "    </tr>\n",
       "    <tr>\n",
       "      <th>C(state_id, Treatment(reference=16))[T.2]</th>\n",
       "      <td>0.348335</td>\n",
       "      <td>0.268942</td>\n",
       "      <td>0.451165</td>\n",
       "      <td>1.341490e-15</td>\n",
       "    </tr>\n",
       "    <tr>\n",
       "      <th>C(state_id, Treatment(reference=16))[T.20]</th>\n",
       "      <td>0.482499</td>\n",
       "      <td>0.386319</td>\n",
       "      <td>0.602625</td>\n",
       "      <td>1.318924e-10</td>\n",
       "    </tr>\n",
       "    <tr>\n",
       "      <th>C(state_id, Treatment(reference=16))[T.21]</th>\n",
       "      <td>0.251692</td>\n",
       "      <td>0.191879</td>\n",
       "      <td>0.330149</td>\n",
       "      <td>2.170244e-23</td>\n",
       "    </tr>\n",
       "    <tr>\n",
       "      <th>C(state_id, Treatment(reference=16))[T.22]</th>\n",
       "      <td>0.467185</td>\n",
       "      <td>0.366790</td>\n",
       "      <td>0.595058</td>\n",
       "      <td>7.035981e-10</td>\n",
       "    </tr>\n",
       "    <tr>\n",
       "      <th>C(state_id, Treatment(reference=16))[T.23]</th>\n",
       "      <td>0.394924</td>\n",
       "      <td>0.294418</td>\n",
       "      <td>0.529739</td>\n",
       "      <td>5.641225e-10</td>\n",
       "    </tr>\n",
       "    <tr>\n",
       "      <th>C(state_id, Treatment(reference=16))[T.26]</th>\n",
       "      <td>0.317443</td>\n",
       "      <td>0.250263</td>\n",
       "      <td>0.402655</td>\n",
       "      <td>3.136271e-21</td>\n",
       "    </tr>\n",
       "    <tr>\n",
       "      <th>C(state_id, Treatment(reference=16))[T.28]</th>\n",
       "      <td>0.566682</td>\n",
       "      <td>0.459298</td>\n",
       "      <td>0.699173</td>\n",
       "      <td>1.168816e-07</td>\n",
       "    </tr>\n",
       "    <tr>\n",
       "      <th>C(state_id, Treatment(reference=16))[T.29]</th>\n",
       "      <td>0.306749</td>\n",
       "      <td>0.250185</td>\n",
       "      <td>0.376101</td>\n",
       "      <td>6.376288e-30</td>\n",
       "    </tr>\n",
       "    <tr>\n",
       "      <th>C(state_id, Treatment(reference=16))[T.3]</th>\n",
       "      <td>0.278405</td>\n",
       "      <td>0.211075</td>\n",
       "      <td>0.367214</td>\n",
       "      <td>1.404788e-19</td>\n",
       "    </tr>\n",
       "    <tr>\n",
       "      <th>C(state_id, Treatment(reference=16))[T.30]</th>\n",
       "      <td>0.475540</td>\n",
       "      <td>0.356462</td>\n",
       "      <td>0.634397</td>\n",
       "      <td>4.313281e-07</td>\n",
       "    </tr>\n",
       "    <tr>\n",
       "      <th>C(state_id, Treatment(reference=16))[T.31]</th>\n",
       "      <td>0.319088</td>\n",
       "      <td>0.228920</td>\n",
       "      <td>0.444771</td>\n",
       "      <td>1.566407e-11</td>\n",
       "    </tr>\n",
       "    <tr>\n",
       "      <th>C(state_id, Treatment(reference=16))[T.32]</th>\n",
       "      <td>0.375558</td>\n",
       "      <td>0.299063</td>\n",
       "      <td>0.471621</td>\n",
       "      <td>3.528894e-17</td>\n",
       "    </tr>\n",
       "    <tr>\n",
       "      <th>C(state_id, Treatment(reference=16))[T.36]</th>\n",
       "      <td>0.455246</td>\n",
       "      <td>0.293329</td>\n",
       "      <td>0.706539</td>\n",
       "      <td>4.498614e-04</td>\n",
       "    </tr>\n",
       "    <tr>\n",
       "      <th>C(state_id, Treatment(reference=16))[T.4]</th>\n",
       "      <td>0.293489</td>\n",
       "      <td>0.216948</td>\n",
       "      <td>0.397036</td>\n",
       "      <td>1.846792e-15</td>\n",
       "    </tr>\n",
       "    <tr>\n",
       "      <th>C(state_id, Treatment(reference=16))[T.49]</th>\n",
       "      <td>0.380119</td>\n",
       "      <td>0.283769</td>\n",
       "      <td>0.509185</td>\n",
       "      <td>8.856894e-11</td>\n",
       "    </tr>\n",
       "    <tr>\n",
       "      <th>C(state_id, Treatment(reference=16))[T.5]</th>\n",
       "      <td>0.240824</td>\n",
       "      <td>0.188045</td>\n",
       "      <td>0.308417</td>\n",
       "      <td>1.657719e-29</td>\n",
       "    </tr>\n",
       "    <tr>\n",
       "      <th>C(state_id, Treatment(reference=16))[T.50]</th>\n",
       "      <td>0.249080</td>\n",
       "      <td>0.190042</td>\n",
       "      <td>0.326457</td>\n",
       "      <td>7.463362e-24</td>\n",
       "    </tr>\n",
       "    <tr>\n",
       "      <th>C(state_id, Treatment(reference=16))[T.6]</th>\n",
       "      <td>0.257781</td>\n",
       "      <td>0.196704</td>\n",
       "      <td>0.337824</td>\n",
       "      <td>8.723117e-23</td>\n",
       "    </tr>\n",
       "    <tr>\n",
       "      <th>C(state_id, Treatment(reference=16))[T.7]</th>\n",
       "      <td>0.281031</td>\n",
       "      <td>0.222420</td>\n",
       "      <td>0.355088</td>\n",
       "      <td>2.025115e-26</td>\n",
       "    </tr>\n",
       "    <tr>\n",
       "      <th>C(state_id, Treatment(reference=16))[T.8]</th>\n",
       "      <td>0.284288</td>\n",
       "      <td>0.215622</td>\n",
       "      <td>0.374821</td>\n",
       "      <td>4.793081e-19</td>\n",
       "    </tr>\n",
       "    <tr>\n",
       "      <th>C(state_id, Treatment(reference=16))[T.9]</th>\n",
       "      <td>0.304538</td>\n",
       "      <td>0.219652</td>\n",
       "      <td>0.422229</td>\n",
       "      <td>9.908988e-13</td>\n",
       "    </tr>\n",
       "  </tbody>\n",
       "</table>\n",
       "</div>"
      ],
      "text/plain": [
       "                                                          OR  Lower CI  \\\n",
       "Intercept                                           2.111591  1.530296   \n",
       "C(campaign_id, Treatment(reference=\"3\"))[T.2]       1.470774  1.315305   \n",
       "C(age_group, Treatment(reference=\"35-39\"))[T.30...  0.811350  0.758740   \n",
       "C(age_group, Treatment(reference=\"35-39\"))[T.40...  1.751053  1.632349   \n",
       "C(age_group, Treatment(reference=\"35-39\"))[T.45...  1.919334  1.801680   \n",
       "C(gender, Treatment(reference=\"F\"))[T.M]            0.675162  0.644417   \n",
       "C(state_id, Treatment(reference=16))[T.0]           0.221772  0.155789   \n",
       "C(state_id, Treatment(reference=16))[T.1]           0.267550  0.198407   \n",
       "C(state_id, Treatment(reference=16))[T.10]          0.294291  0.240280   \n",
       "C(state_id, Treatment(reference=16))[T.11]          0.231453  0.170001   \n",
       "C(state_id, Treatment(reference=16))[T.12]          0.313427  0.252721   \n",
       "C(state_id, Treatment(reference=16))[T.13]          0.315915  0.249666   \n",
       "C(state_id, Treatment(reference=16))[T.14]          0.532952  0.398156   \n",
       "C(state_id, Treatment(reference=16))[T.15]          0.260852  0.209749   \n",
       "C(state_id, Treatment(reference=16))[T.16]          0.270053  0.221275   \n",
       "C(state_id, Treatment(reference=16))[T.18]          0.323405  0.259458   \n",
       "C(state_id, Treatment(reference=16))[T.19]          0.513458  0.410773   \n",
       "C(state_id, Treatment(reference=16))[T.2]           0.348335  0.268942   \n",
       "C(state_id, Treatment(reference=16))[T.20]          0.482499  0.386319   \n",
       "C(state_id, Treatment(reference=16))[T.21]          0.251692  0.191879   \n",
       "C(state_id, Treatment(reference=16))[T.22]          0.467185  0.366790   \n",
       "C(state_id, Treatment(reference=16))[T.23]          0.394924  0.294418   \n",
       "C(state_id, Treatment(reference=16))[T.26]          0.317443  0.250263   \n",
       "C(state_id, Treatment(reference=16))[T.28]          0.566682  0.459298   \n",
       "C(state_id, Treatment(reference=16))[T.29]          0.306749  0.250185   \n",
       "C(state_id, Treatment(reference=16))[T.3]           0.278405  0.211075   \n",
       "C(state_id, Treatment(reference=16))[T.30]          0.475540  0.356462   \n",
       "C(state_id, Treatment(reference=16))[T.31]          0.319088  0.228920   \n",
       "C(state_id, Treatment(reference=16))[T.32]          0.375558  0.299063   \n",
       "C(state_id, Treatment(reference=16))[T.36]          0.455246  0.293329   \n",
       "C(state_id, Treatment(reference=16))[T.4]           0.293489  0.216948   \n",
       "C(state_id, Treatment(reference=16))[T.49]          0.380119  0.283769   \n",
       "C(state_id, Treatment(reference=16))[T.5]           0.240824  0.188045   \n",
       "C(state_id, Treatment(reference=16))[T.50]          0.249080  0.190042   \n",
       "C(state_id, Treatment(reference=16))[T.6]           0.257781  0.196704   \n",
       "C(state_id, Treatment(reference=16))[T.7]           0.281031  0.222420   \n",
       "C(state_id, Treatment(reference=16))[T.8]           0.284288  0.215622   \n",
       "C(state_id, Treatment(reference=16))[T.9]           0.304538  0.219652   \n",
       "\n",
       "                                                    Upper CI      p-values  \n",
       "Intercept                                           2.913695  5.368792e-06  \n",
       "C(campaign_id, Treatment(reference=\"3\"))[T.2]       1.644619  1.304902e-11  \n",
       "C(age_group, Treatment(reference=\"35-39\"))[T.30...  0.867607  9.843498e-10  \n",
       "C(age_group, Treatment(reference=\"35-39\"))[T.40...  1.878389  3.785508e-55  \n",
       "C(age_group, Treatment(reference=\"35-39\"))[T.45...  2.044672  9.726874e-91  \n",
       "C(gender, Treatment(reference=\"F\"))[T.M]            0.707373  2.684730e-61  \n",
       "C(state_id, Treatment(reference=16))[T.0]           0.315702  6.333882e-17  \n",
       "C(state_id, Treatment(reference=16))[T.1]           0.360790  5.482969e-18  \n",
       "C(state_id, Treatment(reference=16))[T.10]          0.360443  2.947100e-32  \n",
       "C(state_id, Treatment(reference=16))[T.11]          0.315119  1.473315e-20  \n",
       "C(state_id, Treatment(reference=16))[T.12]          0.388715  4.437277e-26  \n",
       "C(state_id, Treatment(reference=16))[T.13]          0.399743  8.300688e-22  \n",
       "C(state_id, Treatment(reference=16))[T.14]          0.713384  2.335701e-05  \n",
       "C(state_id, Treatment(reference=16))[T.15]          0.324407  1.360014e-33  \n",
       "C(state_id, Treatment(reference=16))[T.16]          0.329583  5.828156e-38  \n",
       "C(state_id, Treatment(reference=16))[T.18]          0.403113  9.897924e-24  \n",
       "C(state_id, Treatment(reference=16))[T.19]          0.641811  4.759254e-09  \n",
       "C(state_id, Treatment(reference=16))[T.2]           0.451165  1.341490e-15  \n",
       "C(state_id, Treatment(reference=16))[T.20]          0.602625  1.318924e-10  \n",
       "C(state_id, Treatment(reference=16))[T.21]          0.330149  2.170244e-23  \n",
       "C(state_id, Treatment(reference=16))[T.22]          0.595058  7.035981e-10  \n",
       "C(state_id, Treatment(reference=16))[T.23]          0.529739  5.641225e-10  \n",
       "C(state_id, Treatment(reference=16))[T.26]          0.402655  3.136271e-21  \n",
       "C(state_id, Treatment(reference=16))[T.28]          0.699173  1.168816e-07  \n",
       "C(state_id, Treatment(reference=16))[T.29]          0.376101  6.376288e-30  \n",
       "C(state_id, Treatment(reference=16))[T.3]           0.367214  1.404788e-19  \n",
       "C(state_id, Treatment(reference=16))[T.30]          0.634397  4.313281e-07  \n",
       "C(state_id, Treatment(reference=16))[T.31]          0.444771  1.566407e-11  \n",
       "C(state_id, Treatment(reference=16))[T.32]          0.471621  3.528894e-17  \n",
       "C(state_id, Treatment(reference=16))[T.36]          0.706539  4.498614e-04  \n",
       "C(state_id, Treatment(reference=16))[T.4]           0.397036  1.846792e-15  \n",
       "C(state_id, Treatment(reference=16))[T.49]          0.509185  8.856894e-11  \n",
       "C(state_id, Treatment(reference=16))[T.5]           0.308417  1.657719e-29  \n",
       "C(state_id, Treatment(reference=16))[T.50]          0.326457  7.463362e-24  \n",
       "C(state_id, Treatment(reference=16))[T.6]           0.337824  8.723117e-23  \n",
       "C(state_id, Treatment(reference=16))[T.7]           0.355088  2.025115e-26  \n",
       "C(state_id, Treatment(reference=16))[T.8]           0.374821  4.793081e-19  \n",
       "C(state_id, Treatment(reference=16))[T.9]           0.422229  9.908988e-13  "
      ]
     },
     "execution_count": 819,
     "metadata": {},
     "output_type": "execute_result"
    }
   ],
   "source": [
    "odds_ratios[odds_ratios['p-values'] < 0.01]"
   ]
  },
  {
   "cell_type": "markdown",
   "id": "3a5a90fe",
   "metadata": {},
   "source": [
    "### Logistics Regression"
   ]
  },
  {
   "cell_type": "code",
   "execution_count": 820,
   "id": "006faa17",
   "metadata": {},
   "outputs": [],
   "source": [
    "from sklearn.linear_model import LogisticRegression\n",
    "\n",
    "clf_log_reg = LogisticRegression(penalty='l2',\n",
    "                                 random_state=42,\n",
    "                                 class_weight='balanced',\n",
    "                                 max_iter=300, n_jobs=-1)\n",
    "\n",
    "lr_pipe = Pipeline(encoding_pipeline.steps + [(\"lr_classifier\", clf_log_reg)])\n",
    "\n",
    "\n",
    "\n",
    "parameters = {'lr_classifier__C': [0.05, 0.1, 0.5, 1], 'lr_classifier__tol': [0.0001, 0.001]}\n",
    "\n",
    "clf_grid_search = GridSearchCV(lr_pipe,\n",
    "                               param_grid=parameters,\n",
    "                               scoring='f1',\n",
    "                               refit=True,\n",
    "                               cv=5,\n",
    "                               n_jobs=-1,\n",
    "                               verbose=0)"
   ]
  },
  {
   "cell_type": "code",
   "execution_count": 821,
   "id": "3e4c189f",
   "metadata": {},
   "outputs": [],
   "source": [
    "clf_grid_search.fit(X_train, y_train['sale']);"
   ]
  },
  {
   "cell_type": "code",
   "execution_count": 822,
   "id": "64427f26",
   "metadata": {},
   "outputs": [],
   "source": [
    "best_score_lr_training = clf_grid_search.best_score_\n",
    "best_estimator_lr = clf_grid_search.best_estimator_"
   ]
  },
  {
   "cell_type": "code",
   "execution_count": 823,
   "id": "4871e478",
   "metadata": {},
   "outputs": [
    {
     "data": {
      "text/plain": [
       "0.6191536655900101"
      ]
     },
     "execution_count": 823,
     "metadata": {},
     "output_type": "execute_result"
    }
   ],
   "source": [
    "best_score_lr_training"
   ]
  },
  {
   "cell_type": "markdown",
   "id": "65b90101",
   "metadata": {},
   "source": [
    "### Random Forest Classifier"
   ]
  },
  {
   "cell_type": "code",
   "execution_count": 824,
   "id": "bb3b8d8f",
   "metadata": {},
   "outputs": [],
   "source": [
    "from sklearn.ensemble import RandomForestClassifier"
   ]
  },
  {
   "cell_type": "code",
   "execution_count": 825,
   "id": "3afb8439",
   "metadata": {},
   "outputs": [],
   "source": [
    "clf_rf = RandomForestClassifier(n_estimators=100, bootstrap=True, oob_score=True, n_jobs=-1, random_state=42)\n",
    "\n",
    "parameters = {'rf_classifier__n_estimators': [1000]}\n",
    "\n",
    "rf_pipe = Pipeline(encoding_pipeline.steps + [(\"rf_classifier\", clf_rf)])"
   ]
  },
  {
   "cell_type": "code",
   "execution_count": 826,
   "id": "4a56f529",
   "metadata": {},
   "outputs": [],
   "source": [
    "rf_pipe.fit(X_train, y_train['sale']);"
   ]
  },
  {
   "cell_type": "markdown",
   "id": "c52b2b06",
   "metadata": {},
   "source": [
    "### Comparison"
   ]
  },
  {
   "cell_type": "code",
   "execution_count": 855,
   "id": "a0e773da",
   "metadata": {},
   "outputs": [],
   "source": [
    "pos_label_index_lr = np.where(best_estimator_lr['lr_classifier'].classes_ == 1)[0]\n",
    "pos_label_index_rf = np.where(rf_pipe['rf_classifier'].classes_ == 1)[0]"
   ]
  },
  {
   "cell_type": "code",
   "execution_count": 965,
   "id": "6516dddb",
   "metadata": {},
   "outputs": [],
   "source": [
    "y_pred_lr = best_estimator_lr.predict_proba(X_test)[:,pos_label_index_lr]\n",
    "y_pred_rf = rf_pipe.predict_proba(X_test)[:,pos_label_index_rf]\n",
    "y_pred_sm = log_reg_sm.predict(sm_test_data)"
   ]
  },
  {
   "cell_type": "markdown",
   "id": "ae5677df",
   "metadata": {},
   "source": [
    "**Feature Importance**"
   ]
  },
  {
   "cell_type": "code",
   "execution_count": 828,
   "id": "1c53a1c1",
   "metadata": {},
   "outputs": [],
   "source": [
    "def plot_feature_importance(estimator, X, y, label='Permutation Importances (test set)'):\n",
    "\n",
    "    result = permutation_importance(estimator, X, y,\n",
    "                                    scoring='f1',\n",
    "                                    n_repeats=20, random_state=42, n_jobs=-1)\n",
    "    result['importances_mean']\n",
    "    \n",
    "    sorted_idx = result.importances_mean.argsort()\n",
    "\n",
    "    fig, ax = plt.subplots()\n",
    "    ax.boxplot(\n",
    "        result.importances[sorted_idx].T, vert=False, labels=X.columns[sorted_idx]\n",
    "    )\n",
    "    ax.set_title(label)\n",
    "    fig.tight_layout()\n",
    "    plt.show()"
   ]
  },
  {
   "cell_type": "code",
   "execution_count": 829,
   "id": "3d289a58",
   "metadata": {
    "scrolled": true
   },
   "outputs": [
    {
     "data": {
      "image/png": "[encoded data removed]",
      "text/plain": [
       "<Figure size 432x288 with 1 Axes>"
      ]
     },
     "metadata": {
      "needs_background": "light"
     },
     "output_type": "display_data"
    }
   ],
   "source": [
    "plot_feature_importance(best_estimator_lr, X_test, y_test, label='Permutation Importances Liner Regression(test set)')"
   ]
  },
  {
   "cell_type": "code",
   "execution_count": 830,
   "id": "baa1251b",
   "metadata": {},
   "outputs": [
    {
     "data": {
      "image/png": "[encoded data removed]",
      "text/plain": [
       "<Figure size 432x288 with 1 Axes>"
      ]
     },
     "metadata": {
      "needs_background": "light"
     },
     "output_type": "display_data"
    }
   ],
   "source": [
    "plot_feature_importance(rf_pipe, X_test, y_test, label='Permutation Importances Random Forest (test set)')"
   ]
  },
  {
   "cell_type": "markdown",
   "id": "300ad106",
   "metadata": {},
   "source": [
    "**F1 Score**"
   ]
  },
  {
   "cell_type": "code",
   "execution_count": 831,
   "id": "f3dfe05a",
   "metadata": {},
   "outputs": [],
   "source": [
    "score_lr = f1_score(y_test['sale'], best_estimator_lr.predict(X_test))\n",
    "score_rf = f1_score(y_test['sale'], rf_pipe.predict(X_test))\n",
    "score_sm = f1_score(y_test['sale'], 1 * (y_pred_sm > 0.5))"
   ]
  },
  {
   "cell_type": "code",
   "execution_count": 832,
   "id": "94e93b6e",
   "metadata": {},
   "outputs": [
    {
     "data": {
      "text/plain": [
       "0.6265540067811206"
      ]
     },
     "execution_count": 832,
     "metadata": {},
     "output_type": "execute_result"
    }
   ],
   "source": [
    "score_lr"
   ]
  },
  {
   "cell_type": "code",
   "execution_count": 833,
   "id": "933f6811",
   "metadata": {},
   "outputs": [
    {
     "data": {
      "text/plain": [
       "0.5789502430498662"
      ]
     },
     "execution_count": 833,
     "metadata": {},
     "output_type": "execute_result"
    }
   ],
   "source": [
    "score_rf"
   ]
  },
  {
   "cell_type": "code",
   "execution_count": 834,
   "id": "4c5ad8ce",
   "metadata": {},
   "outputs": [
    {
     "data": {
      "text/plain": [
       "0.6267291027504172"
      ]
     },
     "execution_count": 834,
     "metadata": {},
     "output_type": "execute_result"
    }
   ],
   "source": [
    "score_sm"
   ]
  },
  {
   "cell_type": "code",
   "execution_count": 835,
   "id": "c0e3f9f0",
   "metadata": {},
   "outputs": [],
   "source": [
    "f1scores_lr = []\n",
    "f1scores_rf = []\n",
    "f1scores_sm = []\n",
    "\n",
    "max_f1 = -10\n",
    "max_th = -10\n",
    "\n",
    "for th in np.linspace(0, 1, 9):\n",
    "    f1_lr = f1_score(y_test['sale'], 1 * (y_pred_lr > th))\n",
    "    f1_rf = f1_score(y_test['sale'], 1 * (y_pred_rf > th))\n",
    "    f1_sm = f1_score(y_test['sale'], 1 * (y_pred_sm > th))\n",
    "    \n",
    "    if f1_lr > max_f1:\n",
    "        max_f1 = f1_lr\n",
    "        max_th = th\n",
    "        \n",
    "    if f1_rf > max_f1:\n",
    "        max_f1 = f1_rf\n",
    "        max_th = th\n",
    "        \n",
    "    if f1_sm > max_f1:\n",
    "        max_f1 = f1_sm\n",
    "        max_th = th\n",
    "        \n",
    "    f1scores_sm.append(f1_sm)\n",
    "    f1scores_lr.append(f1_lr)\n",
    "    f1scores_rf.append(f1_rf)"
   ]
  },
  {
   "cell_type": "code",
   "execution_count": 836,
   "id": "59c8c937",
   "metadata": {},
   "outputs": [
    {
     "data": {
      "text/plain": [
       "0.375"
      ]
     },
     "execution_count": 836,
     "metadata": {},
     "output_type": "execute_result"
    }
   ],
   "source": [
    "max_th"
   ]
  },
  {
   "cell_type": "code",
   "execution_count": 837,
   "id": "dd384456",
   "metadata": {},
   "outputs": [
    {
     "data": {
      "image/png": "[encoded data removed]",
      "text/plain": [
       "<Figure size 432x288 with 1 Axes>"
      ]
     },
     "metadata": {
      "needs_background": "light"
     },
     "output_type": "display_data"
    }
   ],
   "source": [
    "f, axes = plt.subplots(1,1)\n",
    "\n",
    "seaborn.lineplot(x=np.linspace(0, 1, 9), y=f1scores_lr, estimator=None, ax=axes, label='Logistics Regression');\n",
    "seaborn.lineplot(x=np.linspace(0, 1, 9), y=f1scores_rf, estimator=None, ax=axes, label='Random Forest');\n",
    "seaborn.lineplot(x=np.linspace(0, 1, 9), y=f1scores_sm, estimator=None, ax=axes,\n",
    "                 label='Logistics Regression (statsmodels)');\n",
    "plt.axvline(x=max_th, color='grey')\n",
    "\n",
    "\n",
    "plt.xlabel('Classification Threshold');\n",
    "plt.ylabel('f1 Score');\n"
   ]
  },
  {
   "cell_type": "markdown",
   "id": "49f15c45",
   "metadata": {},
   "source": [
    "**ROC Curve**"
   ]
  },
  {
   "cell_type": "code",
   "execution_count": 839,
   "id": "b658b788",
   "metadata": {},
   "outputs": [],
   "source": [
    "fpr_lr, tpr_lr, thresholds_lr = roc_curve(y_test, y_pred_lr)\n",
    "fpr_rf, tpr_rf, thresholds_rf = roc_curve(y_test, y_pred_rf)\n",
    "fpr_sm, tpr_sm, thresholds_sm = roc_curve(y_test, y_pred_sm)\n",
    "\n",
    "auc_lr = np.round(roc_auc_score(y_test, y_pred_lr), 2)\n",
    "auc_rf = np.round(roc_auc_score(y_test, y_pred_rf), 2)\n",
    "auc_sm = np.round(roc_auc_score(y_test, y_pred_sm), 2)"
   ]
  },
  {
   "cell_type": "code",
   "execution_count": 841,
   "id": "6caee193",
   "metadata": {},
   "outputs": [
    {
     "data": {
      "image/png": "[encoded data removed]",
      "text/plain": [
       "<Figure size 432x288 with 1 Axes>"
      ]
     },
     "metadata": {
      "needs_background": "light"
     },
     "output_type": "display_data"
    }
   ],
   "source": [
    "f, axes = plt.subplots(1,1)\n",
    "\n",
    "seaborn.lineplot(x=fpr_lr, y=tpr_lr, estimator=None, ax=axes, label=f'Logistics Regression, AUC: {auc_lr}');\n",
    "seaborn.lineplot(x=fpr_rf, y=tpr_rf, estimator=None, ax=axes, label=f'Random Forest, AUC: {auc_rf}');\n",
    "seaborn.lineplot(x=fpr_sm, y=tpr_sm, estimator=None, ax=axes,\n",
    "                 label=f'Logistics Regression (statsmodels), AUC: {auc_sm}');\n",
    "\n",
    "idx_lr = np.abs(thresholds_lr-max_th).argmin()\n",
    "idx_rf = np.abs(thresholds_rf-max_th).argmin()\n",
    "idx_sm = np.abs(thresholds_sm-max_th).argmin()\n",
    "\n",
    "\n",
    "seaborn.scatterplot(x=[fpr_lr[idx_lr]], y=[tpr_lr[idx_lr]], ax=axes)\n",
    "seaborn.scatterplot(x=[fpr_rf[idx_rf]], y=[tpr_rf[idx_rf]], ax=axes)\n",
    "seaborn.scatterplot(x=[fpr_sm[idx_sm]], y=[tpr_sm[idx_sm]], ax=axes)\n",
    "\n",
    "plt.axvline(x=0.5, color='grey')\n",
    "\n",
    "plt.xlabel('False Positive Rate (Positive label: 1.0)');\n",
    "plt.ylabel('True Positive Rate (Positive label: 1.0)');\n"
   ]
  },
  {
   "cell_type": "markdown",
   "id": "fd1bc178",
   "metadata": {},
   "source": [
    "**PR Curve**"
   ]
  },
  {
   "cell_type": "code",
   "execution_count": 842,
   "id": "5986d53f",
   "metadata": {},
   "outputs": [],
   "source": [
    "precisions_lr, recalls_lr, thresholds_lr = precision_recall_curve(y_test, y_pred_lr)\n",
    "precisions_rf, recalls_rf, thresholds_rf = precision_recall_curve(y_test, y_pred_rf)\n",
    "precisions_sm, recalls_sm, thresholds_sm = precision_recall_curve(y_test, y_pred_sm)"
   ]
  },
  {
   "cell_type": "code",
   "execution_count": 843,
   "id": "189487ea",
   "metadata": {},
   "outputs": [
    {
     "data": {
      "image/png": "[encoded data removed]",
      "text/plain": [
       "<Figure size 432x288 with 1 Axes>"
      ]
     },
     "metadata": {
      "needs_background": "light"
     },
     "output_type": "display_data"
    }
   ],
   "source": [
    "f, axes = plt.subplots(1,1)\n",
    "\n",
    "seaborn.lineplot(x=recalls_lr, y=precisions_lr,\n",
    "                 estimator=None, ax=axes, label=f'Logistics Regression');\n",
    "seaborn.lineplot(x=recalls_rf, y=precisions_rf,\n",
    "                 estimator=None, ax=axes, label=f'Random Forest');\n",
    "seaborn.lineplot(x=recalls_sm, y=precisions_sm,\n",
    "                 estimator=None, ax=axes, label=f'Linear Regression (statsmodels)');\n",
    "\n",
    "\n",
    "idx_lr = np.abs(thresholds_lr-max_th).argmin()\n",
    "idx_rf = np.abs(thresholds_rf-max_th).argmin()\n",
    "idx_sm = np.abs(thresholds_sm-max_th).argmin()\n",
    "\n",
    "\n",
    "seaborn.scatterplot(x=[recalls_lr[idx_lr]], y=[precisions_lr[idx_lr]], ax=axes)\n",
    "seaborn.scatterplot(x=[recalls_rf[idx_rf]], y=[precisions_rf[idx_rf]], ax=axes)\n",
    "seaborn.scatterplot(x=[recalls_sm[idx_sm]], y=[precisions_sm[idx_sm]], ax=axes)\n",
    "\n",
    "plt.xlabel('Recall (Positive label: 1.0)');\n",
    "plt.ylabel('Precision (Positive label: 1.0)');\n"
   ]
  },
  {
   "cell_type": "markdown",
   "id": "7e2e22cc",
   "metadata": {},
   "source": [
    "## Challenger Model"
   ]
  },
  {
   "cell_type": "code",
   "execution_count": 844,
   "id": "cb3dfe0a",
   "metadata": {},
   "outputs": [
    {
     "data": {
      "text/html": [
       "<div>\n",
       "<style scoped>\n",
       "    .dataframe tbody tr th:only-of-type {\n",
       "        vertical-align: middle;\n",
       "    }\n",
       "\n",
       "    .dataframe tbody tr th {\n",
       "        vertical-align: top;\n",
       "    }\n",
       "\n",
       "    .dataframe thead th {\n",
       "        text-align: right;\n",
       "    }\n",
       "</style>\n",
       "<table border=\"1\" class=\"dataframe\">\n",
       "  <thead>\n",
       "    <tr style=\"text-align: right;\">\n",
       "      <th></th>\n",
       "      <th>campaign_id</th>\n",
       "      <th>group_id</th>\n",
       "      <th>age_group</th>\n",
       "      <th>gender</th>\n",
       "      <th>user_type</th>\n",
       "      <th>platform</th>\n",
       "      <th>state_id</th>\n",
       "      <th>interactions</th>\n",
       "    </tr>\n",
       "  </thead>\n",
       "  <tbody>\n",
       "    <tr>\n",
       "      <th>49119</th>\n",
       "      <td>3</td>\n",
       "      <td>Other</td>\n",
       "      <td>45-49</td>\n",
       "      <td>F</td>\n",
       "      <td>3</td>\n",
       "      <td>desktop</td>\n",
       "      <td>27</td>\n",
       "      <td>3.517987</td>\n",
       "    </tr>\n",
       "    <tr>\n",
       "      <th>46749</th>\n",
       "      <td>3</td>\n",
       "      <td>Other</td>\n",
       "      <td>30-34</td>\n",
       "      <td>F</td>\n",
       "      <td>Other</td>\n",
       "      <td>desktop</td>\n",
       "      <td>28</td>\n",
       "      <td>3.531990</td>\n",
       "    </tr>\n",
       "    <tr>\n",
       "      <th>35549</th>\n",
       "      <td>3</td>\n",
       "      <td>Other</td>\n",
       "      <td>40-44</td>\n",
       "      <td>F</td>\n",
       "      <td>Other</td>\n",
       "      <td>desktop</td>\n",
       "      <td>10</td>\n",
       "      <td>0.301030</td>\n",
       "    </tr>\n",
       "    <tr>\n",
       "      <th>29284</th>\n",
       "      <td>3</td>\n",
       "      <td>Other</td>\n",
       "      <td>45-49</td>\n",
       "      <td>F</td>\n",
       "      <td>Other</td>\n",
       "      <td>not available</td>\n",
       "      <td>22</td>\n",
       "      <td>0.301030</td>\n",
       "    </tr>\n",
       "    <tr>\n",
       "      <th>6868</th>\n",
       "      <td>3</td>\n",
       "      <td>Other</td>\n",
       "      <td>35-39</td>\n",
       "      <td>F</td>\n",
       "      <td>0</td>\n",
       "      <td>desktop</td>\n",
       "      <td>16</td>\n",
       "      <td>4.069742</td>\n",
       "    </tr>\n",
       "    <tr>\n",
       "      <th>...</th>\n",
       "      <td>...</td>\n",
       "      <td>...</td>\n",
       "      <td>...</td>\n",
       "      <td>...</td>\n",
       "      <td>...</td>\n",
       "      <td>...</td>\n",
       "      <td>...</td>\n",
       "      <td>...</td>\n",
       "    </tr>\n",
       "    <tr>\n",
       "      <th>51523</th>\n",
       "      <td>3</td>\n",
       "      <td>Other</td>\n",
       "      <td>30-34</td>\n",
       "      <td>F</td>\n",
       "      <td>4</td>\n",
       "      <td>not available</td>\n",
       "      <td>22</td>\n",
       "      <td>0.301030</td>\n",
       "    </tr>\n",
       "    <tr>\n",
       "      <th>18250</th>\n",
       "      <td>3</td>\n",
       "      <td>Other</td>\n",
       "      <td>35-39</td>\n",
       "      <td>F</td>\n",
       "      <td>2</td>\n",
       "      <td>not available</td>\n",
       "      <td>27</td>\n",
       "      <td>3.472171</td>\n",
       "    </tr>\n",
       "    <tr>\n",
       "      <th>3800</th>\n",
       "      <td>3</td>\n",
       "      <td>Other</td>\n",
       "      <td>45-49</td>\n",
       "      <td>F</td>\n",
       "      <td>Other</td>\n",
       "      <td>desktop</td>\n",
       "      <td>2</td>\n",
       "      <td>2.392697</td>\n",
       "    </tr>\n",
       "    <tr>\n",
       "      <th>50575</th>\n",
       "      <td>2</td>\n",
       "      <td>Other</td>\n",
       "      <td>40-44</td>\n",
       "      <td>F</td>\n",
       "      <td>3</td>\n",
       "      <td>desktop</td>\n",
       "      <td>12</td>\n",
       "      <td>0.301030</td>\n",
       "    </tr>\n",
       "    <tr>\n",
       "      <th>47329</th>\n",
       "      <td>3</td>\n",
       "      <td>Other</td>\n",
       "      <td>45-49</td>\n",
       "      <td>M</td>\n",
       "      <td>Other</td>\n",
       "      <td>desktop</td>\n",
       "      <td>29</td>\n",
       "      <td>3.762378</td>\n",
       "    </tr>\n",
       "  </tbody>\n",
       "</table>\n",
       "<p>36844 rows × 8 columns</p>\n",
       "</div>"
      ],
      "text/plain": [
       "      campaign_id group_id age_group gender user_type       platform state_id  \\\n",
       "49119           3    Other     45-49      F         3        desktop       27   \n",
       "46749           3    Other     30-34      F     Other        desktop       28   \n",
       "35549           3    Other     40-44      F     Other        desktop       10   \n",
       "29284           3    Other     45-49      F     Other  not available       22   \n",
       "6868            3    Other     35-39      F         0        desktop       16   \n",
       "...           ...      ...       ...    ...       ...            ...      ...   \n",
       "51523           3    Other     30-34      F         4  not available       22   \n",
       "18250           3    Other     35-39      F         2  not available       27   \n",
       "3800            3    Other     45-49      F     Other        desktop        2   \n",
       "50575           2    Other     40-44      F         3        desktop       12   \n",
       "47329           3    Other     45-49      M     Other        desktop       29   \n",
       "\n",
       "       interactions  \n",
       "49119      3.517987  \n",
       "46749      3.531990  \n",
       "35549      0.301030  \n",
       "29284      0.301030  \n",
       "6868       4.069742  \n",
       "...             ...  \n",
       "51523      0.301030  \n",
       "18250      3.472171  \n",
       "3800       2.392697  \n",
       "50575      0.301030  \n",
       "47329      3.762378  \n",
       "\n",
       "[36844 rows x 8 columns]"
      ]
     },
     "execution_count": 844,
     "metadata": {},
     "output_type": "execute_result"
    }
   ],
   "source": [
    "X_train"
   ]
  },
  {
   "cell_type": "code",
   "execution_count": 857,
   "id": "f1afa465",
   "metadata": {},
   "outputs": [],
   "source": [
    "from catboost import CatBoostClassifier, Pool, cv\n",
    "\n",
    "cat_features = [0, 1, 2, 3, 4, 5, 6]\n",
    "\n",
    "train_dataset = Pool(data=X_train, label=y_train['sale'], cat_features=cat_features)\n",
    "test_dataset = Pool(data=X_test, label=y_test['sale'], cat_features=cat_features)"
   ]
  },
  {
   "cell_type": "code",
   "execution_count": 957,
   "id": "b72956a4",
   "metadata": {},
   "outputs": [],
   "source": [
    "clf = CatBoostClassifier(depth=5,\n",
    "                         iterations=1000,\n",
    "                         l2_leaf_reg=1,\n",
    "                         loss_function=\"Logloss\",\n",
    "                         eval_metric=\"F1\",\n",
    "                         logging_level='Silent',\n",
    "                         boost_from_average=True,\n",
    "                         langevin=True)"
   ]
  },
  {
   "cell_type": "code",
   "execution_count": 958,
   "id": "796d4cc0",
   "metadata": {},
   "outputs": [
    {
     "data": {
      "text/plain": [
       "<catboost.core.CatBoostClassifier at 0x7f7e781395b0>"
      ]
     },
     "execution_count": 958,
     "metadata": {},
     "output_type": "execute_result"
    }
   ],
   "source": [
    "clf.fit(train_dataset)"
   ]
  },
  {
   "cell_type": "code",
   "execution_count": 962,
   "id": "fcc20e8c",
   "metadata": {},
   "outputs": [],
   "source": [
    "pos_label_index_cb = np.where(clf.classes_ == 1)[0]\n",
    "\n",
    "y_pred_cb = clf.predict_proba(test_dataset)[:,pos_label_index_cb]"
   ]
  },
  {
   "cell_type": "code",
   "execution_count": 963,
   "id": "303fc316",
   "metadata": {},
   "outputs": [],
   "source": [
    "score_cb = f1_score(test_dataset.get_label(),\n",
    "                    clf.predict(test_dataset))"
   ]
  },
  {
   "cell_type": "code",
   "execution_count": 964,
   "id": "d0445057",
   "metadata": {},
   "outputs": [
    {
     "data": {
      "text/plain": [
       "0.6479591836734694"
      ]
     },
     "execution_count": 964,
     "metadata": {},
     "output_type": "execute_result"
    }
   ],
   "source": [
    "score_cb"
   ]
  },
  {
   "cell_type": "code",
   "execution_count": 966,
   "id": "04847c03",
   "metadata": {},
   "outputs": [],
   "source": [
    "fpr_lr, tpr_lr, thresholds_lr = roc_curve(y_test, y_pred_lr)\n",
    "fpr_rf, tpr_rf, thresholds_rf = roc_curve(y_test, y_pred_rf)\n",
    "fpr_sm, tpr_sm, thresholds_sm = roc_curve(y_test, y_pred_sm)\n",
    "fpr_cb, tpr_cb, thresholds_cb = roc_curve(y_test, y_pred_cb)\n",
    "\n",
    "auc_lr = np.round(roc_auc_score(y_test, y_pred_lr), 2)\n",
    "auc_rf = np.round(roc_auc_score(y_test, y_pred_rf), 2)\n",
    "auc_sm = np.round(roc_auc_score(y_test, y_pred_sm), 2)\n",
    "auc_cb = np.round(roc_auc_score(y_test, y_pred_cb), 2)"
   ]
  },
  {
   "cell_type": "code",
   "execution_count": 967,
   "id": "bd7cb5c8",
   "metadata": {},
   "outputs": [
    {
     "data": {
      "image/png": "[encoded data removed]",
      "text/plain": [
       "<Figure size 432x288 with 1 Axes>"
      ]
     },
     "metadata": {
      "needs_background": "light"
     },
     "output_type": "display_data"
    }
   ],
   "source": [
    "f, axes = plt.subplots(1,1)\n",
    "\n",
    "seaborn.lineplot(x=fpr_lr, y=tpr_lr, estimator=None, ax=axes, label=f'Logistics Regression, AUC: {auc_lr}');\n",
    "seaborn.lineplot(x=fpr_rf, y=tpr_rf, estimator=None, ax=axes, label=f'Random Forest, AUC: {auc_rf}');\n",
    "seaborn.lineplot(x=fpr_sm, y=tpr_sm, estimator=None, ax=axes,\n",
    "                 label=f'Logistics Regression (statsmodels), AUC: {auc_sm}');\n",
    "seaborn.lineplot(x=fpr_cb, y=tpr_cb, estimator=None, ax=axes,\n",
    "                 label=f'Catboost classifier, AUC: {auc_cb}');\n",
    "\n",
    "\n",
    "idx_lr = np.abs(thresholds_lr-max_th).argmin()\n",
    "idx_rf = np.abs(thresholds_rf-max_th).argmin()\n",
    "idx_sm = np.abs(thresholds_sm-max_th).argmin()\n",
    "\n",
    "\n",
    "seaborn.scatterplot(x=[fpr_lr[idx_lr]], y=[tpr_lr[idx_lr]], ax=axes)\n",
    "seaborn.scatterplot(x=[fpr_rf[idx_rf]], y=[tpr_rf[idx_rf]], ax=axes)\n",
    "seaborn.scatterplot(x=[fpr_sm[idx_sm]], y=[tpr_sm[idx_sm]], ax=axes)\n",
    "\n",
    "plt.axvline(x=0.5, color='grey')\n",
    "\n",
    "plt.xlabel('False Positive Rate (Positive label: 1.0)');\n",
    "plt.ylabel('True Positive Rate (Positive label: 1.0)');\n"
   ]
  },
  {
   "cell_type": "code",
   "execution_count": 977,
   "id": "f6c5b5c2",
   "metadata": {},
   "outputs": [
    {
     "data": {
      "text/html": [
       "<div>\n",
       "<style scoped>\n",
       "    .dataframe tbody tr th:only-of-type {\n",
       "        vertical-align: middle;\n",
       "    }\n",
       "\n",
       "    .dataframe tbody tr th {\n",
       "        vertical-align: top;\n",
       "    }\n",
       "\n",
       "    .dataframe thead th {\n",
       "        text-align: right;\n",
       "    }\n",
       "</style>\n",
       "<table border=\"1\" class=\"dataframe\">\n",
       "  <thead>\n",
       "    <tr style=\"text-align: right;\">\n",
       "      <th></th>\n",
       "      <th>Feature Id</th>\n",
       "      <th>Importances</th>\n",
       "    </tr>\n",
       "  </thead>\n",
       "  <tbody>\n",
       "    <tr>\n",
       "      <th>0</th>\n",
       "      <td>state_id</td>\n",
       "      <td>38.595351</td>\n",
       "    </tr>\n",
       "    <tr>\n",
       "      <th>1</th>\n",
       "      <td>age_group</td>\n",
       "      <td>36.779171</td>\n",
       "    </tr>\n",
       "    <tr>\n",
       "      <th>2</th>\n",
       "      <td>gender</td>\n",
       "      <td>10.873863</td>\n",
       "    </tr>\n",
       "    <tr>\n",
       "      <th>3</th>\n",
       "      <td>interactions</td>\n",
       "      <td>5.285469</td>\n",
       "    </tr>\n",
       "    <tr>\n",
       "      <th>4</th>\n",
       "      <td>campaign_id</td>\n",
       "      <td>3.236227</td>\n",
       "    </tr>\n",
       "    <tr>\n",
       "      <th>5</th>\n",
       "      <td>user_type</td>\n",
       "      <td>2.004918</td>\n",
       "    </tr>\n",
       "    <tr>\n",
       "      <th>6</th>\n",
       "      <td>platform</td>\n",
       "      <td>1.845487</td>\n",
       "    </tr>\n",
       "    <tr>\n",
       "      <th>7</th>\n",
       "      <td>group_id</td>\n",
       "      <td>1.379513</td>\n",
       "    </tr>\n",
       "  </tbody>\n",
       "</table>\n",
       "</div>"
      ],
      "text/plain": [
       "     Feature Id  Importances\n",
       "0      state_id    38.595351\n",
       "1     age_group    36.779171\n",
       "2        gender    10.873863\n",
       "3  interactions     5.285469\n",
       "4   campaign_id     3.236227\n",
       "5     user_type     2.004918\n",
       "6      platform     1.845487\n",
       "7      group_id     1.379513"
      ]
     },
     "execution_count": 977,
     "metadata": {},
     "output_type": "execute_result"
    }
   ],
   "source": [
    "clf.get_feature_importance(data=test_dataset, type='PredictionValuesChange', prettified=True)"
   ]
  },
  {
   "cell_type": "markdown",
   "id": "926f0418",
   "metadata": {},
   "source": [
    "# Explainability"
   ]
  },
  {
   "cell_type": "markdown",
   "id": "4c787c9c",
   "metadata": {},
   "source": [
    "# Fairness"
   ]
  },
  {
   "cell_type": "code",
   "execution_count": null,
   "id": "e3457dc3",
   "metadata": {},
   "outputs": [],
   "source": []
  }
 ],
 "metadata": {
  "kernelspec": {
   "display_name": "Python [conda env:insurify-py39] *",
   "language": "python",
   "name": "conda-env-insurify-py39-py"
  },
  "language_info": {
   "codemirror_mode": {
    "name": "ipython",
    "version": 3
   },
   "file_extension": ".py",
   "mimetype": "text/x-python",
   "name": "python",
   "nbconvert_exporter": "python",
   "pygments_lexer": "ipython3",
   "version": "3.9.7"
  },
  "toc": {
   "toc_cell": false,
   "toc_number_sections": true,
   "toc_threshold": 6,
   "toc_window_display": true
  },
  "toc_position": {
   "height": "657.688px",
   "left": "10.7969px",
   "right": "20px",
   "top": "121px",
   "width": "320.188px"
  }
 },
 "nbformat": 4,
 "nbformat_minor": 5
}
