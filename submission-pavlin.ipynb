{
 "cells": [
  {
   "cell_type": "code",
   "execution_count": 15,
   "id": "f9226b61",
   "metadata": {},
   "outputs": [],
   "source": [
    "import numpy as np\n",
    "import pandas as pd\n",
    "import sklearn\n",
    "import catboost\n",
    "import shap\n",
    "\n",
    "from pandas_profiling import ProfileReport"
   ]
  },
  {
   "cell_type": "markdown",
   "id": "98ff56d2",
   "metadata": {},
   "source": [
    "# Problem Statement"
   ]
  },
  {
   "cell_type": "markdown",
   "id": "cd46bd3e",
   "metadata": {},
   "source": [
    "Work with the attached dataset to identify users who are more likely to do a sale.\n",
    "\n",
    "It's important for the business to understand **what makes someone more likely to buy** an insurance.\n",
    "For this purpose, we assembled a dataset with features of users and their sessions and an indicator if they resulted in a sale or not.\n",
    "\n",
    "Your goal is to work with this dataset and **identify users who are more likely to convert** so that we can personalise the experience for them.\n",
    "\n",
    "We don't expect a perfect solution (actually, we believe there isn't one). But please take several hours to implement a well structured approach in a Jupyter notebook.\n",
    "\n",
    "Afterwards, we'll discuss your solution in detail. Be ready to answer question like, why did you choose this approach and not others, how will you measure the performance of your solution and how do you interpret the final results\n"
   ]
  },
  {
   "cell_type": "markdown",
   "id": "53a795ca",
   "metadata": {},
   "source": [
    "# Data understanding"
   ]
  },
  {
   "cell_type": "markdown",
   "id": "1ac5e2fd",
   "metadata": {},
   "source": [
    "| field name   \t| description                                                  \t|\n",
    "|--------------\t|--------------------------------------------------------------\t|\n",
    "| id           \t| unique identifier of the rows                                \t|\n",
    "| date         \t| date of the session                                          \t|\n",
    "| campaign_id  \t| id of the advertising campaign that led the user to the site \t|\n",
    "| group_id     \t| id of the group that lead the user to the site               \t|\n",
    "| age_group    \t| age range of the user                                        \t|\n",
    "| gender       \t| gender of the user                                           \t|\n",
    "| user_type    \t| internal id of the type of user                              \t|\n",
    "| platform     \t| device type of the user                                      \t|\n",
    "| state_id     \t| US state id of the user location                             \t|\n",
    "| interactions \t| number of interactions of the user                           \t|\n",
    "| sale         \t| boolean indicator if the user has made a sale or not         \t|"
   ]
  },
  {
   "cell_type": "markdown",
   "id": "8a52c2dc",
   "metadata": {},
   "source": [
    "## Read-in the data"
   ]
  },
  {
   "cell_type": "code",
   "execution_count": 13,
   "id": "95add0f9",
   "metadata": {},
   "outputs": [],
   "source": [
    "sales_data = pd.read_csv('sales_data.csv.gz', compression='gzip', sep=',', header=0, index_col=0)"
   ]
  },
  {
   "cell_type": "code",
   "execution_count": 14,
   "id": "2b16e8d2",
   "metadata": {},
   "outputs": [
    {
     "data": {
      "text/html": [
       "<div>\n",
       "<style scoped>\n",
       "    .dataframe tbody tr th:only-of-type {\n",
       "        vertical-align: middle;\n",
       "    }\n",
       "\n",
       "    .dataframe tbody tr th {\n",
       "        vertical-align: top;\n",
       "    }\n",
       "\n",
       "    .dataframe thead th {\n",
       "        text-align: right;\n",
       "    }\n",
       "</style>\n",
       "<table border=\"1\" class=\"dataframe\">\n",
       "  <thead>\n",
       "    <tr style=\"text-align: right;\">\n",
       "      <th></th>\n",
       "      <th>date</th>\n",
       "      <th>campaign_id</th>\n",
       "      <th>group_id</th>\n",
       "      <th>age_group</th>\n",
       "      <th>gender</th>\n",
       "      <th>user_type</th>\n",
       "      <th>platform</th>\n",
       "      <th>state_id</th>\n",
       "      <th>interactions</th>\n",
       "      <th>sale</th>\n",
       "    </tr>\n",
       "    <tr>\n",
       "      <th>id</th>\n",
       "      <th></th>\n",
       "      <th></th>\n",
       "      <th></th>\n",
       "      <th></th>\n",
       "      <th></th>\n",
       "      <th></th>\n",
       "      <th></th>\n",
       "      <th></th>\n",
       "      <th></th>\n",
       "      <th></th>\n",
       "    </tr>\n",
       "  </thead>\n",
       "  <tbody>\n",
       "    <tr>\n",
       "      <th>277133</th>\n",
       "      <td>2021-05-04</td>\n",
       "      <td>3</td>\n",
       "      <td>372</td>\n",
       "      <td>45-49</td>\n",
       "      <td>F</td>\n",
       "      <td>0</td>\n",
       "      <td>desktop</td>\n",
       "      <td>19</td>\n",
       "      <td>5249</td>\n",
       "      <td>0.0</td>\n",
       "    </tr>\n",
       "    <tr>\n",
       "      <th>270342</th>\n",
       "      <td>2021-05-04</td>\n",
       "      <td>3</td>\n",
       "      <td>313</td>\n",
       "      <td>35-39</td>\n",
       "      <td>F</td>\n",
       "      <td>4</td>\n",
       "      <td>desktop</td>\n",
       "      <td>16</td>\n",
       "      <td>1522</td>\n",
       "      <td>0.0</td>\n",
       "    </tr>\n",
       "    <tr>\n",
       "      <th>161280</th>\n",
       "      <td>2021-05-02</td>\n",
       "      <td>3</td>\n",
       "      <td>321</td>\n",
       "      <td>30-34</td>\n",
       "      <td>M</td>\n",
       "      <td>1</td>\n",
       "      <td>desktop</td>\n",
       "      <td>25</td>\n",
       "      <td>2</td>\n",
       "      <td>0.0</td>\n",
       "    </tr>\n",
       "    <tr>\n",
       "      <th>252773</th>\n",
       "      <td>2021-05-04</td>\n",
       "      <td>3</td>\n",
       "      <td>426</td>\n",
       "      <td>30-34</td>\n",
       "      <td>F</td>\n",
       "      <td>0</td>\n",
       "      <td>NaN</td>\n",
       "      <td>27</td>\n",
       "      <td>2</td>\n",
       "      <td>1.0</td>\n",
       "    </tr>\n",
       "    <tr>\n",
       "      <th>118886</th>\n",
       "      <td>2021-05-01</td>\n",
       "      <td>3</td>\n",
       "      <td>337</td>\n",
       "      <td>40-44</td>\n",
       "      <td>M</td>\n",
       "      <td>8</td>\n",
       "      <td>desktop</td>\n",
       "      <td>16</td>\n",
       "      <td>2</td>\n",
       "      <td>0.0</td>\n",
       "    </tr>\n",
       "    <tr>\n",
       "      <th>...</th>\n",
       "      <td>...</td>\n",
       "      <td>...</td>\n",
       "      <td>...</td>\n",
       "      <td>...</td>\n",
       "      <td>...</td>\n",
       "      <td>...</td>\n",
       "      <td>...</td>\n",
       "      <td>...</td>\n",
       "      <td>...</td>\n",
       "      <td>...</td>\n",
       "    </tr>\n",
       "    <tr>\n",
       "      <th>71168</th>\n",
       "      <td>2021-05-01</td>\n",
       "      <td>3</td>\n",
       "      <td>404</td>\n",
       "      <td>30-34</td>\n",
       "      <td>F</td>\n",
       "      <td>2</td>\n",
       "      <td>NaN</td>\n",
       "      <td>5</td>\n",
       "      <td>2</td>\n",
       "      <td>0.0</td>\n",
       "    </tr>\n",
       "    <tr>\n",
       "      <th>8348</th>\n",
       "      <td>2021-05-01</td>\n",
       "      <td>3</td>\n",
       "      <td>329</td>\n",
       "      <td>35-39</td>\n",
       "      <td>F</td>\n",
       "      <td>2</td>\n",
       "      <td>desktop</td>\n",
       "      <td>26</td>\n",
       "      <td>1625</td>\n",
       "      <td>0.0</td>\n",
       "    </tr>\n",
       "    <tr>\n",
       "      <th>242565</th>\n",
       "      <td>2021-05-04</td>\n",
       "      <td>3</td>\n",
       "      <td>361</td>\n",
       "      <td>35-39</td>\n",
       "      <td>F</td>\n",
       "      <td>7</td>\n",
       "      <td>desktop</td>\n",
       "      <td>12</td>\n",
       "      <td>2</td>\n",
       "      <td>0.0</td>\n",
       "    </tr>\n",
       "    <tr>\n",
       "      <th>199292</th>\n",
       "      <td>2021-05-03</td>\n",
       "      <td>3</td>\n",
       "      <td>377</td>\n",
       "      <td>40-44</td>\n",
       "      <td>M</td>\n",
       "      <td>7</td>\n",
       "      <td>desktop</td>\n",
       "      <td>20</td>\n",
       "      <td>1259</td>\n",
       "      <td>0.0</td>\n",
       "    </tr>\n",
       "    <tr>\n",
       "      <th>106848</th>\n",
       "      <td>2021-05-01</td>\n",
       "      <td>3</td>\n",
       "      <td>488</td>\n",
       "      <td>35-39</td>\n",
       "      <td>NaN</td>\n",
       "      <td>4</td>\n",
       "      <td>NaN</td>\n",
       "      <td>28</td>\n",
       "      <td>2</td>\n",
       "      <td>0.0</td>\n",
       "    </tr>\n",
       "  </tbody>\n",
       "</table>\n",
       "<p>426324 rows × 10 columns</p>\n",
       "</div>"
      ],
      "text/plain": [
       "              date  campaign_id  group_id age_group gender  user_type  \\\n",
       "id                                                                      \n",
       "277133  2021-05-04            3       372     45-49      F          0   \n",
       "270342  2021-05-04            3       313     35-39      F          4   \n",
       "161280  2021-05-02            3       321     30-34      M          1   \n",
       "252773  2021-05-04            3       426     30-34      F          0   \n",
       "118886  2021-05-01            3       337     40-44      M          8   \n",
       "...            ...          ...       ...       ...    ...        ...   \n",
       "71168   2021-05-01            3       404     30-34      F          2   \n",
       "8348    2021-05-01            3       329     35-39      F          2   \n",
       "242565  2021-05-04            3       361     35-39      F          7   \n",
       "199292  2021-05-03            3       377     40-44      M          7   \n",
       "106848  2021-05-01            3       488     35-39    NaN          4   \n",
       "\n",
       "       platform  state_id  interactions  sale  \n",
       "id                                             \n",
       "277133  desktop        19          5249   0.0  \n",
       "270342  desktop        16          1522   0.0  \n",
       "161280  desktop        25             2   0.0  \n",
       "252773      NaN        27             2   1.0  \n",
       "118886  desktop        16             2   0.0  \n",
       "...         ...       ...           ...   ...  \n",
       "71168       NaN         5             2   0.0  \n",
       "8348    desktop        26          1625   0.0  \n",
       "242565  desktop        12             2   0.0  \n",
       "199292  desktop        20          1259   0.0  \n",
       "106848      NaN        28             2   0.0  \n",
       "\n",
       "[426324 rows x 10 columns]"
      ]
     },
     "execution_count": 14,
     "metadata": {},
     "output_type": "execute_result"
    }
   ],
   "source": [
    "sales_data"
   ]
  },
  {
   "cell_type": "code",
   "execution_count": 21,
   "id": "2e0288e3",
   "metadata": {},
   "outputs": [],
   "source": [
    "profile = ProfileReport(sales_data, title=\"Sales Data Report\", explorative=True, dark_mode=True)"
   ]
  },
  {
   "cell_type": "code",
   "execution_count": 23,
   "id": "47301016",
   "metadata": {},
   "outputs": [
    {
     "data": {
      "application/vnd.jupyter.widget-view+json": {
       "model_id": "",
       "version_major": 2,
       "version_minor": 0
      },
      "text/plain": [
       "Render widgets:   0%|          | 0/1 [00:00<?, ?it/s]"
      ]
     },
     "metadata": {},
     "output_type": "display_data"
    },
    {
     "data": {
      "application/vnd.jupyter.widget-view+json": {
       "model_id": "2f1727aa423b42a198eb6b692fd372ae",
       "version_major": 2,
       "version_minor": 0
      },
      "text/plain": [
       "VBox(children=(Tab(children=(Tab(children=(GridBox(children=(VBox(children=(GridspecLayout(children=(HTML(valu…"
      ]
     },
     "metadata": {},
     "output_type": "display_data"
    }
   ],
   "source": [
    "profile.to_widgets()"
   ]
  },
  {
   "cell_type": "code",
   "execution_count": 24,
   "id": "aff4bfd9",
   "metadata": {},
   "outputs": [],
   "source": [
    "# profile.to_notebook_iframe()"
   ]
  },
  {
   "cell_type": "markdown",
   "id": "a6dc9bfc",
   "metadata": {},
   "source": [
    "**Notes**:\n",
    "\n",
    "   - missing values in sales. remove from analysis\n",
    "   - imbalance in sales. need to rebalance\n",
    "   - missing values in platform. remove?\n",
    "   - imabalance in platform. rebalance?\n",
    "   - encode categorical string variables \n",
    "   - log transform interactions?"
   ]
  },
  {
   "cell_type": "markdown",
   "id": "34af8f33",
   "metadata": {},
   "source": [
    "## Re-balancing"
   ]
  },
  {
   "cell_type": "markdown",
   "id": "b27c781b",
   "metadata": {},
   "source": [
    "# Modelling"
   ]
  },
  {
   "cell_type": "markdown",
   "id": "926f0418",
   "metadata": {},
   "source": [
    "# Explainability"
   ]
  },
  {
   "cell_type": "markdown",
   "id": "4c787c9c",
   "metadata": {},
   "source": [
    "# Fairness"
   ]
  },
  {
   "cell_type": "code",
   "execution_count": null,
   "id": "e3457dc3",
   "metadata": {},
   "outputs": [],
   "source": []
  }
 ],
 "metadata": {
  "kernelspec": {
   "display_name": "Python [conda env:insurify-ds-challenge] *",
   "language": "python",
   "name": "conda-env-insurify-ds-challenge-py"
  },
  "language_info": {
   "codemirror_mode": {
    "name": "ipython",
    "version": 3
   },
   "file_extension": ".py",
   "mimetype": "text/x-python",
   "name": "python",
   "nbconvert_exporter": "python",
   "pygments_lexer": "ipython3",
   "version": "3.9.7"
  },
  "toc": {
   "toc_cell": false,
   "toc_number_sections": true,
   "toc_threshold": 6,
   "toc_window_display": true
  },
  "toc_position": {
   "height": "180.688px",
   "left": "11.7969px",
   "right": "20px",
   "top": "121px",
   "width": "325.188px"
  }
 },
 "nbformat": 4,
 "nbformat_minor": 5
}
