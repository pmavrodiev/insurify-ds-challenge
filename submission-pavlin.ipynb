{
 "cells": [
  {
   "cell_type": "code",
   "execution_count": 4,
   "id": "f9226b61",
   "metadata": {},
   "outputs": [],
   "source": [
    "import numpy\n",
    "import pandas\n",
    "import sklearn\n",
    "import catboost\n",
    "import pandas_profiling\n",
    "import shap"
   ]
  },
  {
   "cell_type": "markdown",
   "id": "e944fae0",
   "metadata": {},
   "source": [
    "# Data understanding"
   ]
  },
  {
   "cell_type": "markdown",
   "id": "ad6056f0",
   "metadata": {},
   "source": [
    "## Read-in the data"
   ]
  },
  {
   "cell_type": "code",
   "execution_count": null,
   "id": "5fba96bd",
   "metadata": {},
   "outputs": [],
   "source": []
  },
  {
   "cell_type": "markdown",
   "id": "00d0fcc6",
   "metadata": {},
   "source": [
    "# Modelling"
   ]
  },
  {
   "cell_type": "markdown",
   "id": "396a8206",
   "metadata": {},
   "source": [
    "# Explainability"
   ]
  },
  {
   "cell_type": "markdown",
   "id": "3ed32cb4",
   "metadata": {},
   "source": [
    "# Fairness"
   ]
  },
  {
   "cell_type": "code",
   "execution_count": null,
   "id": "75aa4fcf",
   "metadata": {},
   "outputs": [],
   "source": []
  }
 ],
 "metadata": {
  "kernelspec": {
   "display_name": "Python [conda env:insurify-ds-challenge] *",
   "language": "python",
   "name": "conda-env-insurify-ds-challenge-py"
  },
  "language_info": {
   "codemirror_mode": {
    "name": "ipython",
    "version": 3
   },
   "file_extension": ".py",
   "mimetype": "text/x-python",
   "name": "python",
   "nbconvert_exporter": "python",
   "pygments_lexer": "ipython3",
   "version": "3.9.7"
  },
  "toc": {
   "toc_cell": false,
   "toc_number_sections": true,
   "toc_threshold": 6,
   "toc_window_display": true
  },
  "toc_position": {
   "height": "180.688px",
   "left": "11.7969px",
   "right": "20px",
   "top": "121px",
   "width": "325.188px"
  }
 },
 "nbformat": 4,
 "nbformat_minor": 5
}
